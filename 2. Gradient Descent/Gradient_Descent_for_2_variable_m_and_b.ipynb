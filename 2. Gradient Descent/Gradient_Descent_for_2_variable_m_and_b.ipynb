{
  "nbformat": 4,
  "nbformat_minor": 0,
  "metadata": {
    "colab": {
      "provenance": []
    },
    "kernelspec": {
      "name": "python3",
      "display_name": "Python 3"
    },
    "language_info": {
      "name": "python"
    }
  },
  "cells": [
    {
      "cell_type": "code",
      "execution_count": 3,
      "metadata": {
        "id": "FHjFa4NRlcy_"
      },
      "outputs": [],
      "source": [
        "import numpy as np\n",
        "import matplotlib.pyplot as plt\n",
        "\n",
        "from sklearn.datasets import make_regression\n",
        "from sklearn.model_selection import train_test_split\n",
        "from sklearn.linear_model import LinearRegression\n",
        "from sklearn.metrics import r2_score"
      ]
    },
    {
      "cell_type": "code",
      "source": [
        "X , y = make_regression (n_samples = 100 , n_features = 1 , n_informative = 1 , n_targets = 1 ,noise = 80 , random_state = 1 )"
      ],
      "metadata": {
        "id": "CrDsjecdl3cz"
      },
      "execution_count": 4,
      "outputs": []
    },
    {
      "cell_type": "code",
      "source": [
        "print(X.shape)\n",
        "print(y.shape)"
      ],
      "metadata": {
        "colab": {
          "base_uri": "https://localhost:8080/"
        },
        "id": "9F1hNGapmqQ6",
        "outputId": "49d2fd6a-9de7-447f-f560-f18442e27f87"
      },
      "execution_count": 5,
      "outputs": [
        {
          "output_type": "stream",
          "name": "stdout",
          "text": [
            "(100, 1)\n",
            "(100,)\n"
          ]
        }
      ]
    },
    {
      "cell_type": "code",
      "source": [
        "for i in range (100):\n",
        "  print(X[i], y[i] , sep = '\\t')"
      ],
      "metadata": {
        "colab": {
          "base_uri": "https://localhost:8080/"
        },
        "id": "5EYvvlW1mowi",
        "outputId": "b029b3ff-3f89-4f21-fa90-ad85648be077"
      },
      "execution_count": 9,
      "outputs": [
        {
          "output_type": "stream",
          "name": "stdout",
          "text": [
            "[-0.61175641]\t-74.02883724213672\n",
            "[-0.24937038]\t17.732498713554094\n",
            "[0.48851815]\t-27.256027863509303\n",
            "[0.76201118]\t219.87756040552296\n",
            "[1.51981682]\t209.35461534296599\n",
            "[0.37756379]\t41.73522383440638\n",
            "[0.51292982]\t7.864586994855813\n",
            "[-0.67124613]\t58.98199414746533\n",
            "[-1.39649634]\t-60.4207242102117\n",
            "[0.31563495]\t18.78710394730587\n",
            "[-0.63699565]\t-28.117996971150134\n",
            "[-0.39675353]\t62.71152150335752\n",
            "[-1.10061918]\t-114.76703949327118\n",
            "[0.90085595]\t-72.49646988319813\n",
            "[-1.09989127]\t-82.85202759881479\n",
            "[0.82797464]\t70.19869896727954\n",
            "[-0.07557171]\t-36.44814352315399\n",
            "[-0.35224985]\t-136.47488535840398\n",
            "[-0.67066229]\t-98.97245504791505\n",
            "[-1.07296862]\t42.00070858858503\n",
            "[-0.30620401]\t-41.19887788471865\n",
            "[2.18557541]\t186.14341345569608\n",
            "[0.86540763]\t50.793309962416544\n",
            "[0.19829972]\t58.65863206437419\n",
            "[-0.38405435]\t18.807797265074157\n",
            "[-0.68372786]\t-0.4440707471672951\n",
            "[0.05080775]\t-8.878849799911304\n",
            "[0.58281521]\t37.12865236992517\n",
            "[1.25286816]\t160.580325286865\n",
            "[-0.75439794]\t-75.81564772427974\n",
            "[-0.34934272]\t-19.138189392296766\n",
            "[-0.88762896]\t-28.605185832268027\n",
            "[0.18656139]\t29.70579235081643\n",
            "[0.87616892]\t88.1306528268798\n",
            "[0.83898341]\t265.66833988759237\n",
            "[-0.50446586]\t31.35402977297219\n",
            "[-0.34385368]\t-142.19249789232268\n",
            "[1.6924546]\t313.55208011704394\n",
            "[-2.3015387]\t-213.02464667314294\n",
            "[0.93110208]\t48.563745022886664\n",
            "[2.10025514]\t153.5500500509924\n",
            "[1.46210794]\t65.97908947056656\n",
            "[-0.84520564]\t-77.08454333059372\n",
            "[-0.87785842]\t-22.520117725796354\n",
            "[-0.3224172]\t-88.23547675833144\n",
            "[0.88514116]\t78.66829764092043\n",
            "[0.16003707]\t125.11560762236248\n",
            "[1.13162939]\t47.84459664944535\n",
            "[-0.37528495]\t-24.307647314221775\n",
            "[0.50249434]\t15.266684170641142\n",
            "[-0.20889423]\t-116.27961933032473\n",
            "[0.12015895]\t28.32467538297592\n",
            "[0.58662319]\t175.30530853475926\n",
            "[0.3190391]\t31.267395597658318\n",
            "[-0.69166075]\t9.523475467622845\n",
            "[0.69803203]\t98.20524346032195\n",
            "[1.19891788]\t91.82751973163829\n",
            "[-0.20075807]\t62.854027149618986\n",
            "[0.53035547]\t-127.981520047657\n",
            "[0.74204416]\t46.30884787791398\n",
            "[0.41005165]\t107.0149209174705\n",
            "[0.11900865]\t-37.205393411581525\n",
            "[-0.7612069]\t77.68843776610093\n",
            "[0.42349435]\t56.42657943530385\n",
            "[0.30017032]\t71.72491471485692\n",
            "[-1.1425182]\t-25.768063805239848\n",
            "[0.18515642]\t34.018213990536175\n",
            "[-0.93576943]\t-59.82482062546793\n",
            "[-0.62000084]\t70.50746106378332\n",
            "[-1.11731035]\t-36.29762216062866\n",
            "[-1.44411381]\t-123.68757135762513\n",
            "[-0.22232814]\t-65.46577346574348\n",
            "[1.62434536]\t211.02585742949844\n",
            "[0.61720311]\t62.246244750290494\n",
            "[-0.6871727]\t-71.82051078763881\n",
            "[0.07734007]\t104.1594276934022\n",
            "[-0.0126646]\t-114.35376649279077\n",
            "[-0.63873041]\t-24.487881884194742\n",
            "[1.13376944]\t125.71208665574039\n",
            "[1.74481176]\t179.8322005155076\n",
            "[0.90159072]\t269.69812040335313\n",
            "[-2.06014071]\t-228.60358343686255\n",
            "[0.2344157]\t-42.863741102034524\n",
            "[-0.17242821]\t-50.170258480367686\n",
            "[0.12182127]\t151.24033439144742\n",
            "[1.14472371]\t117.25158386238788\n",
            "[-0.12289023]\t-7.355931696813673\n",
            "[-0.74715829]\t-29.000921705569777\n",
            "[0.28558733]\t85.2216229277303\n",
            "[-2.02220122]\t-310.25096071351265\n",
            "[0.23009474]\t-93.7937830549448\n",
            "[-0.26788808]\t50.97470675762538\n",
            "[-0.52817175]\t-13.361949095649276\n",
            "[1.12948391]\t28.139333726997314\n",
            "[0.19091548]\t24.05390036669953\n",
            "[-0.29809284]\t-23.662391033643168\n",
            "[1.65980218]\t126.45333326308729\n",
            "[0.04359686]\t71.87415711942077\n",
            "[0.04221375]\t194.22355858890035\n",
            "[-0.19183555]\t-58.77471756505747\n"
          ]
        }
      ]
    },
    {
      "cell_type": "code",
      "source": [
        "plt.scatter (X,y,c='blue')\n",
        "plt.title('X vs y')\n",
        "plt.xlabel('X')\n",
        "plt.ylabel('y')"
      ],
      "metadata": {
        "colab": {
          "base_uri": "https://localhost:8080/",
          "height": 489
        },
        "id": "ktp48vUDm38n",
        "outputId": "5a729803-b8f5-47c8-c201-1b98db211f5e"
      },
      "execution_count": 14,
      "outputs": [
        {
          "output_type": "execute_result",
          "data": {
            "text/plain": [
              "Text(0, 0.5, 'y')"
            ]
          },
          "metadata": {},
          "execution_count": 14
        },
        {
          "output_type": "display_data",
          "data": {
            "text/plain": [
              "<Figure size 640x480 with 1 Axes>"
            ],
            "image/png": "[encoded data removed]"
          },
          "metadata": {}
        }
      ]
    },
    {
      "cell_type": "code",
      "source": [
        "# train test split\n",
        "\n",
        "x_train , x_test , y_train , y_test = train_test_split(X , y , test_size = 0.2 , random_state = 2)"
      ],
      "metadata": {
        "id": "9znCJw-HnBlu"
      },
      "execution_count": 15,
      "outputs": []
    },
    {
      "cell_type": "code",
      "source": [
        "print(x_train.shape)\n",
        "print(y_train.shape)\n",
        "print(x_test.shape)\n",
        "print(y_test.shape)"
      ],
      "metadata": {
        "colab": {
          "base_uri": "https://localhost:8080/"
        },
        "id": "l6mnsxuInk81",
        "outputId": "54e2dad1-573e-47bf-c81a-0c7e43ed7536"
      },
      "execution_count": 17,
      "outputs": [
        {
          "output_type": "stream",
          "name": "stdout",
          "text": [
            "(80, 1)\n",
            "(80,)\n",
            "(20, 1)\n",
            "(20,)\n"
          ]
        }
      ]
    },
    {
      "cell_type": "code",
      "source": [
        "reg = LinearRegression()"
      ],
      "metadata": {
        "id": "dgr6j8_gntEs"
      },
      "execution_count": 18,
      "outputs": []
    },
    {
      "cell_type": "code",
      "source": [
        "reg.fit(x_train , y_train )"
      ],
      "metadata": {
        "colab": {
          "base_uri": "https://localhost:8080/",
          "height": 75
        },
        "id": "Q7M-_aS7n33k",
        "outputId": "4144a175-496a-419a-a055-d167df8b6cf7"
      },
      "execution_count": 19,
      "outputs": [
        {
          "output_type": "execute_result",
          "data": {
            "text/plain": [
              "LinearRegression()"
            ],
            "text/html": [
              "<style>#sk-container-id-1 {color: black;background-color: white;}#sk-container-id-1 pre{padding: 0;}#sk-container-id-1 div.sk-toggleable {background-color: white;}#sk-container-id-1 label.sk-toggleable__label {cursor: pointer;display: block;width: 100%;margin-bottom: 0;padding: 0.3em;box-sizing: border-box;text-align: center;}#sk-container-id-1 label.sk-toggleable__label-arrow:before {content: \"▸\";float: left;margin-right: 0.25em;color: #696969;}#sk-container-id-1 label.sk-toggleable__label-arrow:hover:before {color: black;}#sk-container-id-1 div.sk-estimator:hover label.sk-toggleable__label-arrow:before {color: black;}#sk-container-id-1 div.sk-toggleable__content {max-height: 0;max-width: 0;overflow: hidden;text-align: left;background-color: #f0f8ff;}#sk-container-id-1 div.sk-toggleable__content pre {margin: 0.2em;color: black;border-radius: 0.25em;background-color: #f0f8ff;}#sk-container-id-1 input.sk-toggleable__control:checked~div.sk-toggleable__content {max-height: 200px;max-width: 100%;overflow: auto;}#sk-container-id-1 input.sk-toggleable__control:checked~label.sk-toggleable__label-arrow:before {content: \"▾\";}#sk-container-id-1 div.sk-estimator input.sk-toggleable__control:checked~label.sk-toggleable__label {background-color: #d4ebff;}#sk-container-id-1 div.sk-label input.sk-toggleable__control:checked~label.sk-toggleable__label {background-color: #d4ebff;}#sk-container-id-1 input.sk-hidden--visually {border: 0;clip: rect(1px 1px 1px 1px);clip: rect(1px, 1px, 1px, 1px);height: 1px;margin: -1px;overflow: hidden;padding: 0;position: absolute;width: 1px;}#sk-container-id-1 div.sk-estimator {font-family: monospace;background-color: #f0f8ff;border: 1px dotted black;border-radius: 0.25em;box-sizing: border-box;margin-bottom: 0.5em;}#sk-container-id-1 div.sk-estimator:hover {background-color: #d4ebff;}#sk-container-id-1 div.sk-parallel-item::after {content: \"\";width: 100%;border-bottom: 1px solid gray;flex-grow: 1;}#sk-container-id-1 div.sk-label:hover label.sk-toggleable__label {background-color: #d4ebff;}#sk-container-id-1 div.sk-serial::before {content: \"\";position: absolute;border-left: 1px solid gray;box-sizing: border-box;top: 0;bottom: 0;left: 50%;z-index: 0;}#sk-container-id-1 div.sk-serial {display: flex;flex-direction: column;align-items: center;background-color: white;padding-right: 0.2em;padding-left: 0.2em;position: relative;}#sk-container-id-1 div.sk-item {position: relative;z-index: 1;}#sk-container-id-1 div.sk-parallel {display: flex;align-items: stretch;justify-content: center;background-color: white;position: relative;}#sk-container-id-1 div.sk-item::before, #sk-container-id-1 div.sk-parallel-item::before {content: \"\";position: absolute;border-left: 1px solid gray;box-sizing: border-box;top: 0;bottom: 0;left: 50%;z-index: -1;}#sk-container-id-1 div.sk-parallel-item {display: flex;flex-direction: column;z-index: 1;position: relative;background-color: white;}#sk-container-id-1 div.sk-parallel-item:first-child::after {align-self: flex-end;width: 50%;}#sk-container-id-1 div.sk-parallel-item:last-child::after {align-self: flex-start;width: 50%;}#sk-container-id-1 div.sk-parallel-item:only-child::after {width: 0;}#sk-container-id-1 div.sk-dashed-wrapped {border: 1px dashed gray;margin: 0 0.4em 0.5em 0.4em;box-sizing: border-box;padding-bottom: 0.4em;background-color: white;}#sk-container-id-1 div.sk-label label {font-family: monospace;font-weight: bold;display: inline-block;line-height: 1.2em;}#sk-container-id-1 div.sk-label-container {text-align: center;}#sk-container-id-1 div.sk-container {/* jupyter's `normalize.less` sets `[hidden] { display: none; }` but bootstrap.min.css set `[hidden] { display: none !important; }` so we also need the `!important` here to be able to override the default hidden behavior on the sphinx rendered scikit-learn.org. See: https://github.com/scikit-learn/scikit-learn/issues/21755 */display: inline-block !important;position: relative;}#sk-container-id-1 div.sk-text-repr-fallback {display: none;}</style><div id=\"sk-container-id-1\" class=\"sk-top-container\"><div class=\"sk-text-repr-fallback\"><pre>LinearRegression()</pre><b>In a Jupyter environment, please rerun this cell to show the HTML representation or trust the notebook. <br />On GitHub, the HTML representation is unable to render, please try loading this page with nbviewer.org.</b></div><div class=\"sk-container\" hidden><div class=\"sk-item\"><div class=\"sk-estimator sk-toggleable\"><input class=\"sk-toggleable__control sk-hidden--visually\" id=\"sk-estimator-id-1\" type=\"checkbox\" checked><label for=\"sk-estimator-id-1\" class=\"sk-toggleable__label sk-toggleable__label-arrow\">LinearRegression</label><div class=\"sk-toggleable__content\"><pre>LinearRegression()</pre></div></div></div></div></div>"
            ]
          },
          "metadata": {},
          "execution_count": 19
        }
      ]
    },
    {
      "cell_type": "code",
      "source": [
        "y_pred = reg.predict(x_test)\n",
        "y_pred"
      ],
      "metadata": {
        "colab": {
          "base_uri": "https://localhost:8080/"
        },
        "id": "UYyusMmen7Dz",
        "outputId": "5b080c71-19f0-469e-d800-aaa2fc8dfc98"
      },
      "execution_count": 20,
      "outputs": [
        {
          "output_type": "execute_result",
          "data": {
            "text/plain": [
              "array([  7.03235197,  -8.7217216 , 129.14945002, -11.81276028,\n",
              "        15.65733304,  40.04533032,  65.8890122 ,  74.28607864,\n",
              "       133.95367204, 102.60731136,   5.3041459 , -24.64628096,\n",
              "        21.25915324, -75.55737388, -32.08941759, 217.01038828,\n",
              "        90.24331337, -44.79151339,  32.98453364, 177.76079446])"
            ]
          },
          "metadata": {},
          "execution_count": 20
        }
      ]
    },
    {
      "cell_type": "code",
      "source": [
        "r2_score(y_test,y_pred)"
      ],
      "metadata": {
        "colab": {
          "base_uri": "https://localhost:8080/"
        },
        "id": "nCnMl0x_oAI7",
        "outputId": "382c2794-8e32-4f50-d0d4-a7095311c92b"
      },
      "execution_count": 21,
      "outputs": [
        {
          "output_type": "execute_result",
          "data": {
            "text/plain": [
              "0.5008037988909309"
            ]
          },
          "metadata": {},
          "execution_count": 21
        }
      ]
    },
    {
      "cell_type": "code",
      "source": [
        "reg.coef_"
      ],
      "metadata": {
        "colab": {
          "base_uri": "https://localhost:8080/"
        },
        "id": "P-eZ_vYBoC3b",
        "outputId": "8fd1fac1-4df3-4cfd-a036-c45dcff7c59e"
      },
      "execution_count": 24,
      "outputs": [
        {
          "output_type": "execute_result",
          "data": {
            "text/plain": [
              "array([89.04907315])"
            ]
          },
          "metadata": {},
          "execution_count": 24
        }
      ]
    },
    {
      "cell_type": "code",
      "source": [
        "reg.intercept_"
      ],
      "metadata": {
        "colab": {
          "base_uri": "https://localhost:8080/"
        },
        "id": "FXBIsgspoJuq",
        "outputId": "dc4ca1ba-bdbc-4c6d-d5b2-9d41df0abbcc"
      },
      "execution_count": 23,
      "outputs": [
        {
          "output_type": "execute_result",
          "data": {
            "text/plain": [
              "22.386924038220414"
            ]
          },
          "metadata": {},
          "execution_count": 23
        }
      ]
    },
    {
      "cell_type": "code",
      "source": [
        "class GDRegressor :\n",
        "\n",
        "  def __init__(self , learning_rate = 0.01 , epochs = 100):\n",
        "    self.m = 100    # ideal value for coef\n",
        "    self.b = -200    # ideal value for intercept\n",
        "    self.lr = learning_rate\n",
        "    self.epochs = epochs\n",
        "\n",
        "\n",
        "  def fit(self , x_train , y_train):\n",
        "\n",
        "    for i in range(self.epochs):\n",
        "      b_slop = -2 * np.sum( y_train - self.m * x_train.ravel() - self.b)\n",
        "      m_slop = -2 * np.sum( (y_train - self.m * x_train.ravel() - self.b)* x_train.ravel()  )\n",
        "\n",
        "      self.b = self.b - (self.lr * b_slop)\n",
        "      self.m = self.m - (self.lr * m_slop)\n",
        "      # print(self.m , self.b)\n",
        "\n",
        "    print (self.m , self.b)\n",
        "\n",
        "  def predict (self , x_test ):\n",
        "    return self.m * x_test + self.b"
      ],
      "metadata": {
        "id": "QXCkTMlHoMeq"
      },
      "execution_count": 140,
      "outputs": []
    },
    {
      "cell_type": "code",
      "source": [
        "gdr = GDRegressor(learning_rate=0.001 , epochs = 50)"
      ],
      "metadata": {
        "id": "iuyu8Vk0qiTr"
      },
      "execution_count": 141,
      "outputs": []
    },
    {
      "cell_type": "code",
      "source": [
        "gdr.fit(x_train,y_train )"
      ],
      "metadata": {
        "colab": {
          "base_uri": "https://localhost:8080/"
        },
        "id": "Gi9yeuFiqwd6",
        "outputId": "92c9775a-8420-408e-d9b9-aa4c972cfeb7"
      },
      "execution_count": 142,
      "outputs": [
        {
          "output_type": "stream",
          "name": "stdout",
          "text": [
            "89.07274847810709 22.349652101134645\n"
          ]
        }
      ]
    },
    {
      "cell_type": "code",
      "source": [
        "r2_score(y_test , gdr.predict(x_test))"
      ],
      "metadata": {
        "colab": {
          "base_uri": "https://localhost:8080/"
        },
        "id": "euNvd5qKuSXy",
        "outputId": "898543e6-989b-4d79-ce53-09cc75a28f06"
      },
      "execution_count": 143,
      "outputs": [
        {
          "output_type": "execute_result",
          "data": {
            "text/plain": [
              "0.5010076255690169"
            ]
          },
          "metadata": {},
          "execution_count": 143
        }
      ]
    },
    {
      "cell_type": "code",
      "source": [
        "reg.coef_ , reg.intercept_"
      ],
      "metadata": {
        "colab": {
          "base_uri": "https://localhost:8080/"
        },
        "id": "ugSFHUf5qzBy",
        "outputId": "fb9ace38-9a8f-4fc2-9598-a551b2ab99bb"
      },
      "execution_count": 144,
      "outputs": [
        {
          "output_type": "execute_result",
          "data": {
            "text/plain": [
              "(array([89.04907315]), 22.386924038220414)"
            ]
          },
          "metadata": {},
          "execution_count": 144
        }
      ]
    },
    {
      "cell_type": "code",
      "source": [],
      "metadata": {
        "id": "Z8-S5norrqY3"
      },
      "execution_count": null,
      "outputs": []
    },
    {
      "cell_type": "code",
      "source": [],
      "metadata": {
        "id": "Zt7VDJkNtUL8"
      },
      "execution_count": null,
      "outputs": []
    }
  ]
}