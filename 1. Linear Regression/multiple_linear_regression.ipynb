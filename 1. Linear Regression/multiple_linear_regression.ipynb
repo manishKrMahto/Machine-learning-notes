{
  "nbformat": 4,
  "nbformat_minor": 0,
  "metadata": {
    "colab": {
      "provenance": []
    },
    "kernelspec": {
      "name": "python3",
      "display_name": "Python 3"
    },
    "language_info": {
      "name": "python"
    }
  },
  "cells": [
    {
      "cell_type": "code",
      "execution_count": null,
      "metadata": {
        "id": "PSTo4FjGUrRJ"
      },
      "outputs": [],
      "source": [
        "import numpy as np\n",
        "import pandas as pd\n",
        "\n",
        "import plotly.express as px\n",
        "import plotly.graph_objects as go\n",
        "\n",
        "from sklearn.model_selection import train_test_split\n",
        "from sklearn.datasets import make_regression\n",
        "from sklearn.linear_model import LinearRegression\n",
        "from sklearn.metrics import mean_absolute_error , mean_squared_error , r2_score"
      ]
    },
    {
      "cell_type": "code",
      "source": [
        "x , y = make_regression (n_samples = 100 , n_features = 2 , n_informative = 2, n_targets = 1 , noise = 50)"
      ],
      "metadata": {
        "id": "KZnXJIXsVLJi"
      },
      "execution_count": null,
      "outputs": []
    },
    {
      "cell_type": "code",
      "source": [
        "df = pd.DataFrame(\n",
        "    {\n",
        "        'feature1' : x[:,0] ,\n",
        "        'feature2':x[:,1],\n",
        "        'target' : y\n",
        "    }\n",
        ")"
      ],
      "metadata": {
        "id": "JeFrM0geVcy-"
      },
      "execution_count": null,
      "outputs": []
    },
    {
      "cell_type": "code",
      "source": [
        "df.shape"
      ],
      "metadata": {
        "colab": {
          "base_uri": "https://localhost:8080/"
        },
        "id": "PYwgPxmlVmY8",
        "outputId": "4fd67958-b6ec-4e8f-f4c6-0c694b688de3"
      },
      "execution_count": null,
      "outputs": [
        {
          "output_type": "execute_result",
          "data": {
            "text/plain": [
              "(100, 3)"
            ]
          },
          "metadata": {},
          "execution_count": 36
        }
      ]
    },
    {
      "cell_type": "code",
      "source": [
        "df.head(3)"
      ],
      "metadata": {
        "colab": {
          "base_uri": "https://localhost:8080/",
          "height": 143
        },
        "id": "3P1GqhYwWHXs",
        "outputId": "a2459026-c5e8-4c2c-97b7-ef1fbb7bf496"
      },
      "execution_count": null,
      "outputs": [
        {
          "output_type": "execute_result",
          "data": {
            "text/plain": [
              "   feature1  feature2      target\n",
              "0  0.358487  2.192373  110.860278\n",
              "1 -2.830539  0.444447  -52.685345\n",
              "2 -1.286373  0.563122 -105.868187"
            ],
            "text/html": [
              "\n",
              "  <div id=\"df-5f8e3895-39d5-485f-b10c-db8fff5130e3\" class=\"colab-df-container\">\n",
              "    <div>\n",
              "<style scoped>\n",
              "    .dataframe tbody tr th:only-of-type {\n",
              "        vertical-align: middle;\n",
              "    }\n",
              "\n",
              "    .dataframe tbody tr th {\n",
              "        vertical-align: top;\n",
              "    }\n",
              "\n",
              "    .dataframe thead th {\n",
              "        text-align: right;\n",
              "    }\n",
              "</style>\n",
              "<table border=\"1\" class=\"dataframe\">\n",
              "  <thead>\n",
              "    <tr style=\"text-align: right;\">\n",
              "      <th></th>\n",
              "      <th>feature1</th>\n",
              "      <th>feature2</th>\n",
              "      <th>target</th>\n",
              "    </tr>\n",
              "  </thead>\n",
              "  <tbody>\n",
              "    <tr>\n",
              "      <th>0</th>\n",
              "      <td>0.358487</td>\n",
              "      <td>2.192373</td>\n",
              "      <td>110.860278</td>\n",
              "    </tr>\n",
              "    <tr>\n",
              "      <th>1</th>\n",
              "      <td>-2.830539</td>\n",
              "      <td>0.444447</td>\n",
              "      <td>-52.685345</td>\n",
              "    </tr>\n",
              "    <tr>\n",
              "      <th>2</th>\n",
              "      <td>-1.286373</td>\n",
              "      <td>0.563122</td>\n",
              "      <td>-105.868187</td>\n",
              "    </tr>\n",
              "  </tbody>\n",
              "</table>\n",
              "</div>\n",
              "    <div class=\"colab-df-buttons\">\n",
              "\n",
              "  <div class=\"colab-df-container\">\n",
              "    <button class=\"colab-df-convert\" onclick=\"convertToInteractive('df-5f8e3895-39d5-485f-b10c-db8fff5130e3')\"\n",
              "            title=\"Convert this dataframe to an interactive table.\"\n",
              "            style=\"display:none;\">\n",
              "\n",
              "  <svg xmlns=\"http://www.w3.org/2000/svg\" height=\"24px\" viewBox=\"0 -960 960 960\">\n",
              "    <path d=\"M120-120v-720h720v720H120Zm60-500h600v-160H180v160Zm220 220h160v-160H400v160Zm0 220h160v-160H400v160ZM180-400h160v-160H180v160Zm440 0h160v-160H620v160ZM180-180h160v-160H180v160Zm440 0h160v-160H620v160Z\"/>\n",
              "  </svg>\n",
              "    </button>\n",
              "\n",
              "  <style>\n",
              "    .colab-df-container {\n",
              "      display:flex;\n",
              "      gap: 12px;\n",
              "    }\n",
              "\n",
              "    .colab-df-convert {\n",
              "      background-color: #E8F0FE;\n",
              "      border: none;\n",
              "      border-radius: 50%;\n",
              "      cursor: pointer;\n",
              "      display: none;\n",
              "      fill: #1967D2;\n",
              "      height: 32px;\n",
              "      padding: 0 0 0 0;\n",
              "      width: 32px;\n",
              "    }\n",
              "\n",
              "    .colab-df-convert:hover {\n",
              "      background-color: #E2EBFA;\n",
              "      box-shadow: 0px 1px 2px rgba(60, 64, 67, 0.3), 0px 1px 3px 1px rgba(60, 64, 67, 0.15);\n",
              "      fill: #174EA6;\n",
              "    }\n",
              "\n",
              "    .colab-df-buttons div {\n",
              "      margin-bottom: 4px;\n",
              "    }\n",
              "\n",
              "    [theme=dark] .colab-df-convert {\n",
              "      background-color: #3B4455;\n",
              "      fill: #D2E3FC;\n",
              "    }\n",
              "\n",
              "    [theme=dark] .colab-df-convert:hover {\n",
              "      background-color: #434B5C;\n",
              "      box-shadow: 0px 1px 3px 1px rgba(0, 0, 0, 0.15);\n",
              "      filter: drop-shadow(0px 1px 2px rgba(0, 0, 0, 0.3));\n",
              "      fill: #FFFFFF;\n",
              "    }\n",
              "  </style>\n",
              "\n",
              "    <script>\n",
              "      const buttonEl =\n",
              "        document.querySelector('#df-5f8e3895-39d5-485f-b10c-db8fff5130e3 button.colab-df-convert');\n",
              "      buttonEl.style.display =\n",
              "        google.colab.kernel.accessAllowed ? 'block' : 'none';\n",
              "\n",
              "      async function convertToInteractive(key) {\n",
              "        const element = document.querySelector('#df-5f8e3895-39d5-485f-b10c-db8fff5130e3');\n",
              "        const dataTable =\n",
              "          await google.colab.kernel.invokeFunction('convertToInteractive',\n",
              "                                                    [key], {});\n",
              "        if (!dataTable) return;\n",
              "\n",
              "        const docLinkHtml = 'Like what you see? Visit the ' +\n",
              "          '<a target=\"_blank\" href=https://colab.research.google.com/notebooks/data_table.ipynb>data table notebook</a>'\n",
              "          + ' to learn more about interactive tables.';\n",
              "        element.innerHTML = '';\n",
              "        dataTable['output_type'] = 'display_data';\n",
              "        await google.colab.output.renderOutput(dataTable, element);\n",
              "        const docLink = document.createElement('div');\n",
              "        docLink.innerHTML = docLinkHtml;\n",
              "        element.appendChild(docLink);\n",
              "      }\n",
              "    </script>\n",
              "  </div>\n",
              "\n",
              "\n",
              "<div id=\"df-a60dcfcd-6cb5-4cec-a3f4-1d39ff93a5f2\">\n",
              "  <button class=\"colab-df-quickchart\" onclick=\"quickchart('df-a60dcfcd-6cb5-4cec-a3f4-1d39ff93a5f2')\"\n",
              "            title=\"Suggest charts\"\n",
              "            style=\"display:none;\">\n",
              "\n",
              "<svg xmlns=\"http://www.w3.org/2000/svg\" height=\"24px\"viewBox=\"0 0 24 24\"\n",
              "     width=\"24px\">\n",
              "    <g>\n",
              "        <path d=\"M19 3H5c-1.1 0-2 .9-2 2v14c0 1.1.9 2 2 2h14c1.1 0 2-.9 2-2V5c0-1.1-.9-2-2-2zM9 17H7v-7h2v7zm4 0h-2V7h2v10zm4 0h-2v-4h2v4z\"/>\n",
              "    </g>\n",
              "</svg>\n",
              "  </button>\n",
              "\n",
              "<style>\n",
              "  .colab-df-quickchart {\n",
              "      --bg-color: #E8F0FE;\n",
              "      --fill-color: #1967D2;\n",
              "      --hover-bg-color: #E2EBFA;\n",
              "      --hover-fill-color: #174EA6;\n",
              "      --disabled-fill-color: #AAA;\n",
              "      --disabled-bg-color: #DDD;\n",
              "  }\n",
              "\n",
              "  [theme=dark] .colab-df-quickchart {\n",
              "      --bg-color: #3B4455;\n",
              "      --fill-color: #D2E3FC;\n",
              "      --hover-bg-color: #434B5C;\n",
              "      --hover-fill-color: #FFFFFF;\n",
              "      --disabled-bg-color: #3B4455;\n",
              "      --disabled-fill-color: #666;\n",
              "  }\n",
              "\n",
              "  .colab-df-quickchart {\n",
              "    background-color: var(--bg-color);\n",
              "    border: none;\n",
              "    border-radius: 50%;\n",
              "    cursor: pointer;\n",
              "    display: none;\n",
              "    fill: var(--fill-color);\n",
              "    height: 32px;\n",
              "    padding: 0;\n",
              "    width: 32px;\n",
              "  }\n",
              "\n",
              "  .colab-df-quickchart:hover {\n",
              "    background-color: var(--hover-bg-color);\n",
              "    box-shadow: 0 1px 2px rgba(60, 64, 67, 0.3), 0 1px 3px 1px rgba(60, 64, 67, 0.15);\n",
              "    fill: var(--button-hover-fill-color);\n",
              "  }\n",
              "\n",
              "  .colab-df-quickchart-complete:disabled,\n",
              "  .colab-df-quickchart-complete:disabled:hover {\n",
              "    background-color: var(--disabled-bg-color);\n",
              "    fill: var(--disabled-fill-color);\n",
              "    box-shadow: none;\n",
              "  }\n",
              "\n",
              "  .colab-df-spinner {\n",
              "    border: 2px solid var(--fill-color);\n",
              "    border-color: transparent;\n",
              "    border-bottom-color: var(--fill-color);\n",
              "    animation:\n",
              "      spin 1s steps(1) infinite;\n",
              "  }\n",
              "\n",
              "  @keyframes spin {\n",
              "    0% {\n",
              "      border-color: transparent;\n",
              "      border-bottom-color: var(--fill-color);\n",
              "      border-left-color: var(--fill-color);\n",
              "    }\n",
              "    20% {\n",
              "      border-color: transparent;\n",
              "      border-left-color: var(--fill-color);\n",
              "      border-top-color: var(--fill-color);\n",
              "    }\n",
              "    30% {\n",
              "      border-color: transparent;\n",
              "      border-left-color: var(--fill-color);\n",
              "      border-top-color: var(--fill-color);\n",
              "      border-right-color: var(--fill-color);\n",
              "    }\n",
              "    40% {\n",
              "      border-color: transparent;\n",
              "      border-right-color: var(--fill-color);\n",
              "      border-top-color: var(--fill-color);\n",
              "    }\n",
              "    60% {\n",
              "      border-color: transparent;\n",
              "      border-right-color: var(--fill-color);\n",
              "    }\n",
              "    80% {\n",
              "      border-color: transparent;\n",
              "      border-right-color: var(--fill-color);\n",
              "      border-bottom-color: var(--fill-color);\n",
              "    }\n",
              "    90% {\n",
              "      border-color: transparent;\n",
              "      border-bottom-color: var(--fill-color);\n",
              "    }\n",
              "  }\n",
              "</style>\n",
              "\n",
              "  <script>\n",
              "    async function quickchart(key) {\n",
              "      const quickchartButtonEl =\n",
              "        document.querySelector('#' + key + ' button');\n",
              "      quickchartButtonEl.disabled = true;  // To prevent multiple clicks.\n",
              "      quickchartButtonEl.classList.add('colab-df-spinner');\n",
              "      try {\n",
              "        const charts = await google.colab.kernel.invokeFunction(\n",
              "            'suggestCharts', [key], {});\n",
              "      } catch (error) {\n",
              "        console.error('Error during call to suggestCharts:', error);\n",
              "      }\n",
              "      quickchartButtonEl.classList.remove('colab-df-spinner');\n",
              "      quickchartButtonEl.classList.add('colab-df-quickchart-complete');\n",
              "    }\n",
              "    (() => {\n",
              "      let quickchartButtonEl =\n",
              "        document.querySelector('#df-a60dcfcd-6cb5-4cec-a3f4-1d39ff93a5f2 button');\n",
              "      quickchartButtonEl.style.display =\n",
              "        google.colab.kernel.accessAllowed ? 'block' : 'none';\n",
              "    })();\n",
              "  </script>\n",
              "</div>\n",
              "\n",
              "    </div>\n",
              "  </div>\n"
            ],
            "application/vnd.google.colaboratory.intrinsic+json": {
              "type": "dataframe",
              "variable_name": "df",
              "summary": "{\n  \"name\": \"df\",\n  \"rows\": 100,\n  \"fields\": [\n    {\n      \"column\": \"feature1\",\n      \"properties\": {\n        \"dtype\": \"number\",\n        \"std\": 1.0628204579522895,\n        \"min\": -2.967089466221166,\n        \"max\": 2.4269237128958583,\n        \"num_unique_values\": 100,\n        \"samples\": [\n          -0.60606997089759,\n          1.6834632142945174,\n          -0.45203104308154307\n        ],\n        \"semantic_type\": \"\",\n        \"description\": \"\"\n      }\n    },\n    {\n      \"column\": \"feature2\",\n      \"properties\": {\n        \"dtype\": \"number\",\n        \"std\": 1.0700378173479779,\n        \"min\": -1.9607896223546173,\n        \"max\": 2.624159935142039,\n        \"num_unique_values\": 100,\n        \"samples\": [\n          1.5480355660082752,\n          -0.9727787403812979,\n          1.4495148923190013\n        ],\n        \"semantic_type\": \"\",\n        \"description\": \"\"\n      }\n    },\n    {\n      \"column\": \"target\",\n      \"properties\": {\n        \"dtype\": \"number\",\n        \"std\": 57.59750654070004,\n        \"min\": -155.50462227042792,\n        \"max\": 113.77928348744119,\n        \"num_unique_values\": 100,\n        \"samples\": [\n          19.916083093054027,\n          99.40047354742256,\n          -11.493519013321045\n        ],\n        \"semantic_type\": \"\",\n        \"description\": \"\"\n      }\n    }\n  ]\n}"
            }
          },
          "metadata": {},
          "execution_count": 37
        }
      ]
    },
    {
      "cell_type": "code",
      "source": [
        "fig = px.scatter_3d(df, x='feature1', y='feature2', z='target')\n",
        "\n",
        "fig.show()"
      ],
      "metadata": {
        "colab": {
          "base_uri": "https://localhost:8080/",
          "height": 542
        },
        "id": "638AuAKiWIUq",
        "outputId": "ae236c14-1b94-4ef0-abed-c93f091b110f"
      },
      "execution_count": null,
      "outputs": [
        {
          "output_type": "display_data",
          "data": {
            "text/html": [
              "<html>\n",
              "<head><meta charset=\"utf-8\" /></head>\n",
              "<body>\n",
              "    <div>            <script src=\"https://cdnjs.cloudflare.com/ajax/libs/mathjax/2.7.5/MathJax.js?config=TeX-AMS-MML_SVG\"></script><script type=\"text/javascript\">if (window.MathJax && window.MathJax.Hub && window.MathJax.Hub.Config) {window.MathJax.Hub.Config({SVG: {font: \"STIX-Web\"}});}</script>                <script type=\"text/javascript\">window.PlotlyConfig = {MathJaxConfig: 'local'};</script>\n",
              "        <script charset=\"utf-8\" src=\"https://cdn.plot.ly/plotly-2.24.1.min.js\"></script>                <div id=\"575bc5f5-1943-4147-a623-605d36c69546\" class=\"plotly-graph-div\" style=\"height:525px; width:100%;\"></div>            <script type=\"text/javascript\">                                    window.PLOTLYENV=window.PLOTLYENV || {};                                    if (document.getElementById(\"575bc5f5-1943-4147-a623-605d36c69546\")) {                    Plotly.newPlot(                        \"575bc5f5-1943-4147-a623-605d36c69546\",                        [{\"hovertemplate\":\"feature1=%{x}\\u003cbr\\u003efeature2=%{y}\\u003cbr\\u003etarget=%{z}\\u003cextra\\u003e\\u003c\\u002fextra\\u003e\",\"legendgroup\":\"\",\"marker\":{\"color\":\"#636efa\",\"symbol\":\"circle\"},\"mode\":\"markers\",\"name\":\"\",\"scene\":\"scene\",\"showlegend\":false,\"x\":[0.3584867488542468,-2.8305394598195956,-1.2863730099119342,0.7067282024154663,-0.781337651894472,0.12181123120405367,1.0183720712555582,-0.5861646667528578,0.5043885991425997,2.2600809442928065,-2.148788981822746,0.7901994396423234,1.1371561708221807,0.692078199598756,-1.3519655358819167,0.8161826993277976,0.6126084417799506,-0.48711734384432126,-0.8013244602281714,0.9837395686594211,0.21713010285562884,0.7345722103532799,2.410412027910949,1.3656968861690348,2.4269237128958583,1.1058395674843329,-1.3894003443867056,-1.3431095747956754,-0.6037255387222432,0.20954915678553382,1.140369154834295,-0.6081255971572493,-0.9833070600271535,0.4774517864863417,0.30018765906637573,-1.270743331318778,-1.5513095895105578,-1.2665133518777358,0.08967881127319499,0.22456014728692814,-0.24685220537395466,0.3796010935443261,1.2575159606929283,-0.05564593898442644,0.532734218086919,0.672621020625922,-0.31073771365034825,0.34606735526175614,0.4942626131185638,1.5187010549295135,-1.2667371080241097,-1.1917985127502326,-1.0036451536904867,1.6834632142945174,0.0761416523152382,0.7636015232720456,0.07930201158436381,0.8835255563163603,0.4256562790443826,0.592320550160408,-2.967089466221166,0.7080922759751405,-0.43573067639185203,-0.7678624827054642,0.05019709548731505,0.059386534124816474,-0.14754015754887745,-1.7176883583856715,1.679766881935314,0.22105798164695886,-0.45203104308154307,-0.1839737086268423,-0.303284215618858,-0.3288306320882615,0.4967278906625413,-0.1413118450414345,0.19395647220314757,-0.04571882199974766,-0.46091533931825435,0.7631280891038753,0.8591132607617908,0.5456736157836671,1.729414498512366,-0.60606997089759,0.8097030151297416,2.2369341847055706,1.1091246563057258,-0.09242155207620498,-0.4544132250316554,0.7191587387918037,-0.9687856082899081,-0.8276756663348224,0.8422256893304912,0.6778858634746552,0.3743382222763141,-0.8712456088087204,-0.5868452102659474,-1.5621386633938856,-2.1151545836224375,-0.13517383838416983],\"y\":[2.1923731188143845,0.44444688471322186,0.563122107040247,-0.395970943287851,-0.42083052868109533,0.21155677567009934,0.4003057714617248,-1.8640837639416208,-0.3550531875002421,-0.948599790000434,-0.3588135179476877,-0.29867056187506674,-1.2748481978784625,-0.5673019293979985,0.11281852220702104,-1.1287062975791533,0.1460923587837986,0.09848872396662856,0.0035113349229921806,1.2541932640424256,1.3354803060179188,0.7030653104820231,0.5740753140820452,-0.7250282344244507,-1.7451256960929693,1.711264993585006,1.0422494154210027,0.9421563902325044,-0.7718440333245519,-0.8659429826316877,-0.8818774888716338,2.437008420523616,1.1762020437623089,-1.3998350734279457,0.2889828357275445,0.08625559340447098,-0.23603172209403678,-0.5657857219935463,1.3720556808344502,2.1972786380181133,-0.42843457242831773,0.9285355657531229,-1.218132075696143,1.3451913820252797,-0.8395133835159637,-1.585505317167025,-0.4954242454974327,-0.7851430182059601,-0.48373336669191686,-1.185005238720515,0.38656126836377913,1.621189496383039,-0.2912184643460032,-0.9727787403812979,1.7038771889029636,-1.29367083947488,-1.3694433651027853,-0.7574107501967139,0.49372469620603504,-0.15506866207381306,0.22010777723625824,-0.3553455356322977,-0.4724272398935647,0.6756941095333295,-0.9125018735211886,-1.0295493235861033,1.1899716196695607,0.7160749791025255,-0.7201315890744481,0.569003798581686,1.4495148923190013,-1.4301418887975959,-0.953470389130854,-1.8337111360334177,-1.0704090026977646,0.6114874447903769,-1.1153426877522565,0.03561042619334264,-1.1226233103228214,0.270410531999702,1.579876898323055,0.892981902910926,0.7298114765109383,1.5480355660082752,0.15866124796354647,-1.9607896223546173,1.8190012097651234,-0.8328327358417044,1.5156166523415204,0.21066510255975407,0.6461748178453863,0.1382420046884164,0.10947260228225951,0.8330050467104032,0.4136253100230428,-0.5164483854693637,1.0221187651995691,2.624159935142039,-1.7519148098258617,-0.36265547926199737],\"z\":[110.8602780944423,-52.685345342294966,-105.86818740902171,110.51334087023052,-72.73615917440485,-5.02932805942541,-70.78538218297784,50.2670438712273,3.316921352324579,34.00124047839814,-104.42981612666584,-15.91610746116211,-2.7254261549166117,33.90613642851672,-74.22972848771141,-59.48266475356566,-11.69536234029107,-54.23063693930655,44.350566706241025,-6.035262394371571,31.855624078337826,9.249607708224445,113.77928348744119,43.388226659820894,26.794987673815164,31.100181009710298,-46.00318728519595,-6.844792050475732,-85.05787466725016,-19.83392260643443,77.89202140771849,33.26317317571492,63.116480368900426,-11.942282261656626,45.433432541257496,3.5791107278098337,-70.19404088179249,-18.184399182874266,42.085928615035634,83.87269389043867,-54.832822908616215,107.23752398261578,22.823216159002207,70.86699415475212,44.72994033075881,-8.342180884555248,-7.0679424573406315,-25.752851928470225,-5.936626013835548,-28.65832638399619,10.98541817958074,-58.34845516955071,-25.557485803858505,99.40047354742256,-7.847064899367375,-8.598962382060014,-19.51907475457675,-75.78841421350263,84.66977314934284,25.217459611560255,-66.0850641678735,-69.59041896921732,-58.48422338655826,-110.5852498889345,-57.32979094698638,-46.082454862071,-12.242162914786977,-126.61448875484726,61.436005427041565,-32.841548082448526,-11.493519013321045,-20.954742553234357,-59.48432505550361,-75.37966391426515,47.91541722344532,72.62919310168041,36.40699747674728,-14.92103416684232,16.331457632554276,30.988443435282626,28.815810994991836,14.619776493009788,52.48960413959579,19.916083093054027,76.61094482389706,51.417411530418285,51.403659691172024,59.62234049841974,68.17991262784105,92.81403302822099,3.2369902008498457,-9.692694179496414,-25.700665780262725,79.86744207049743,61.00516616007854,-8.142635138980182,-46.18559396289371,-45.550638838109464,-155.50462227042792,4.402784493788248],\"type\":\"scatter3d\"}],                        {\"template\":{\"data\":{\"histogram2dcontour\":[{\"type\":\"histogram2dcontour\",\"colorbar\":{\"outlinewidth\":0,\"ticks\":\"\"},\"colorscale\":[[0.0,\"#0d0887\"],[0.1111111111111111,\"#46039f\"],[0.2222222222222222,\"#7201a8\"],[0.3333333333333333,\"#9c179e\"],[0.4444444444444444,\"#bd3786\"],[0.5555555555555556,\"#d8576b\"],[0.6666666666666666,\"#ed7953\"],[0.7777777777777778,\"#fb9f3a\"],[0.8888888888888888,\"#fdca26\"],[1.0,\"#f0f921\"]]}],\"choropleth\":[{\"type\":\"choropleth\",\"colorbar\":{\"outlinewidth\":0,\"ticks\":\"\"}}],\"histogram2d\":[{\"type\":\"histogram2d\",\"colorbar\":{\"outlinewidth\":0,\"ticks\":\"\"},\"colorscale\":[[0.0,\"#0d0887\"],[0.1111111111111111,\"#46039f\"],[0.2222222222222222,\"#7201a8\"],[0.3333333333333333,\"#9c179e\"],[0.4444444444444444,\"#bd3786\"],[0.5555555555555556,\"#d8576b\"],[0.6666666666666666,\"#ed7953\"],[0.7777777777777778,\"#fb9f3a\"],[0.8888888888888888,\"#fdca26\"],[1.0,\"#f0f921\"]]}],\"heatmap\":[{\"type\":\"heatmap\",\"colorbar\":{\"outlinewidth\":0,\"ticks\":\"\"},\"colorscale\":[[0.0,\"#0d0887\"],[0.1111111111111111,\"#46039f\"],[0.2222222222222222,\"#7201a8\"],[0.3333333333333333,\"#9c179e\"],[0.4444444444444444,\"#bd3786\"],[0.5555555555555556,\"#d8576b\"],[0.6666666666666666,\"#ed7953\"],[0.7777777777777778,\"#fb9f3a\"],[0.8888888888888888,\"#fdca26\"],[1.0,\"#f0f921\"]]}],\"heatmapgl\":[{\"type\":\"heatmapgl\",\"colorbar\":{\"outlinewidth\":0,\"ticks\":\"\"},\"colorscale\":[[0.0,\"#0d0887\"],[0.1111111111111111,\"#46039f\"],[0.2222222222222222,\"#7201a8\"],[0.3333333333333333,\"#9c179e\"],[0.4444444444444444,\"#bd3786\"],[0.5555555555555556,\"#d8576b\"],[0.6666666666666666,\"#ed7953\"],[0.7777777777777778,\"#fb9f3a\"],[0.8888888888888888,\"#fdca26\"],[1.0,\"#f0f921\"]]}],\"contourcarpet\":[{\"type\":\"contourcarpet\",\"colorbar\":{\"outlinewidth\":0,\"ticks\":\"\"}}],\"contour\":[{\"type\":\"contour\",\"colorbar\":{\"outlinewidth\":0,\"ticks\":\"\"},\"colorscale\":[[0.0,\"#0d0887\"],[0.1111111111111111,\"#46039f\"],[0.2222222222222222,\"#7201a8\"],[0.3333333333333333,\"#9c179e\"],[0.4444444444444444,\"#bd3786\"],[0.5555555555555556,\"#d8576b\"],[0.6666666666666666,\"#ed7953\"],[0.7777777777777778,\"#fb9f3a\"],[0.8888888888888888,\"#fdca26\"],[1.0,\"#f0f921\"]]}],\"surface\":[{\"type\":\"surface\",\"colorbar\":{\"outlinewidth\":0,\"ticks\":\"\"},\"colorscale\":[[0.0,\"#0d0887\"],[0.1111111111111111,\"#46039f\"],[0.2222222222222222,\"#7201a8\"],[0.3333333333333333,\"#9c179e\"],[0.4444444444444444,\"#bd3786\"],[0.5555555555555556,\"#d8576b\"],[0.6666666666666666,\"#ed7953\"],[0.7777777777777778,\"#fb9f3a\"],[0.8888888888888888,\"#fdca26\"],[1.0,\"#f0f921\"]]}],\"mesh3d\":[{\"type\":\"mesh3d\",\"colorbar\":{\"outlinewidth\":0,\"ticks\":\"\"}}],\"scatter\":[{\"fillpattern\":{\"fillmode\":\"overlay\",\"size\":10,\"solidity\":0.2},\"type\":\"scatter\"}],\"parcoords\":[{\"type\":\"parcoords\",\"line\":{\"colorbar\":{\"outlinewidth\":0,\"ticks\":\"\"}}}],\"scatterpolargl\":[{\"type\":\"scatterpolargl\",\"marker\":{\"colorbar\":{\"outlinewidth\":0,\"ticks\":\"\"}}}],\"bar\":[{\"error_x\":{\"color\":\"#2a3f5f\"},\"error_y\":{\"color\":\"#2a3f5f\"},\"marker\":{\"line\":{\"color\":\"#E5ECF6\",\"width\":0.5},\"pattern\":{\"fillmode\":\"overlay\",\"size\":10,\"solidity\":0.2}},\"type\":\"bar\"}],\"scattergeo\":[{\"type\":\"scattergeo\",\"marker\":{\"colorbar\":{\"outlinewidth\":0,\"ticks\":\"\"}}}],\"scatterpolar\":[{\"type\":\"scatterpolar\",\"marker\":{\"colorbar\":{\"outlinewidth\":0,\"ticks\":\"\"}}}],\"histogram\":[{\"marker\":{\"pattern\":{\"fillmode\":\"overlay\",\"size\":10,\"solidity\":0.2}},\"type\":\"histogram\"}],\"scattergl\":[{\"type\":\"scattergl\",\"marker\":{\"colorbar\":{\"outlinewidth\":0,\"ticks\":\"\"}}}],\"scatter3d\":[{\"type\":\"scatter3d\",\"line\":{\"colorbar\":{\"outlinewidth\":0,\"ticks\":\"\"}},\"marker\":{\"colorbar\":{\"outlinewidth\":0,\"ticks\":\"\"}}}],\"scattermapbox\":[{\"type\":\"scattermapbox\",\"marker\":{\"colorbar\":{\"outlinewidth\":0,\"ticks\":\"\"}}}],\"scatterternary\":[{\"type\":\"scatterternary\",\"marker\":{\"colorbar\":{\"outlinewidth\":0,\"ticks\":\"\"}}}],\"scattercarpet\":[{\"type\":\"scattercarpet\",\"marker\":{\"colorbar\":{\"outlinewidth\":0,\"ticks\":\"\"}}}],\"carpet\":[{\"aaxis\":{\"endlinecolor\":\"#2a3f5f\",\"gridcolor\":\"white\",\"linecolor\":\"white\",\"minorgridcolor\":\"white\",\"startlinecolor\":\"#2a3f5f\"},\"baxis\":{\"endlinecolor\":\"#2a3f5f\",\"gridcolor\":\"white\",\"linecolor\":\"white\",\"minorgridcolor\":\"white\",\"startlinecolor\":\"#2a3f5f\"},\"type\":\"carpet\"}],\"table\":[{\"cells\":{\"fill\":{\"color\":\"#EBF0F8\"},\"line\":{\"color\":\"white\"}},\"header\":{\"fill\":{\"color\":\"#C8D4E3\"},\"line\":{\"color\":\"white\"}},\"type\":\"table\"}],\"barpolar\":[{\"marker\":{\"line\":{\"color\":\"#E5ECF6\",\"width\":0.5},\"pattern\":{\"fillmode\":\"overlay\",\"size\":10,\"solidity\":0.2}},\"type\":\"barpolar\"}],\"pie\":[{\"automargin\":true,\"type\":\"pie\"}]},\"layout\":{\"autotypenumbers\":\"strict\",\"colorway\":[\"#636efa\",\"#EF553B\",\"#00cc96\",\"#ab63fa\",\"#FFA15A\",\"#19d3f3\",\"#FF6692\",\"#B6E880\",\"#FF97FF\",\"#FECB52\"],\"font\":{\"color\":\"#2a3f5f\"},\"hovermode\":\"closest\",\"hoverlabel\":{\"align\":\"left\"},\"paper_bgcolor\":\"white\",\"plot_bgcolor\":\"#E5ECF6\",\"polar\":{\"bgcolor\":\"#E5ECF6\",\"angularaxis\":{\"gridcolor\":\"white\",\"linecolor\":\"white\",\"ticks\":\"\"},\"radialaxis\":{\"gridcolor\":\"white\",\"linecolor\":\"white\",\"ticks\":\"\"}},\"ternary\":{\"bgcolor\":\"#E5ECF6\",\"aaxis\":{\"gridcolor\":\"white\",\"linecolor\":\"white\",\"ticks\":\"\"},\"baxis\":{\"gridcolor\":\"white\",\"linecolor\":\"white\",\"ticks\":\"\"},\"caxis\":{\"gridcolor\":\"white\",\"linecolor\":\"white\",\"ticks\":\"\"}},\"coloraxis\":{\"colorbar\":{\"outlinewidth\":0,\"ticks\":\"\"}},\"colorscale\":{\"sequential\":[[0.0,\"#0d0887\"],[0.1111111111111111,\"#46039f\"],[0.2222222222222222,\"#7201a8\"],[0.3333333333333333,\"#9c179e\"],[0.4444444444444444,\"#bd3786\"],[0.5555555555555556,\"#d8576b\"],[0.6666666666666666,\"#ed7953\"],[0.7777777777777778,\"#fb9f3a\"],[0.8888888888888888,\"#fdca26\"],[1.0,\"#f0f921\"]],\"sequentialminus\":[[0.0,\"#0d0887\"],[0.1111111111111111,\"#46039f\"],[0.2222222222222222,\"#7201a8\"],[0.3333333333333333,\"#9c179e\"],[0.4444444444444444,\"#bd3786\"],[0.5555555555555556,\"#d8576b\"],[0.6666666666666666,\"#ed7953\"],[0.7777777777777778,\"#fb9f3a\"],[0.8888888888888888,\"#fdca26\"],[1.0,\"#f0f921\"]],\"diverging\":[[0,\"#8e0152\"],[0.1,\"#c51b7d\"],[0.2,\"#de77ae\"],[0.3,\"#f1b6da\"],[0.4,\"#fde0ef\"],[0.5,\"#f7f7f7\"],[0.6,\"#e6f5d0\"],[0.7,\"#b8e186\"],[0.8,\"#7fbc41\"],[0.9,\"#4d9221\"],[1,\"#276419\"]]},\"xaxis\":{\"gridcolor\":\"white\",\"linecolor\":\"white\",\"ticks\":\"\",\"title\":{\"standoff\":15},\"zerolinecolor\":\"white\",\"automargin\":true,\"zerolinewidth\":2},\"yaxis\":{\"gridcolor\":\"white\",\"linecolor\":\"white\",\"ticks\":\"\",\"title\":{\"standoff\":15},\"zerolinecolor\":\"white\",\"automargin\":true,\"zerolinewidth\":2},\"scene\":{\"xaxis\":{\"backgroundcolor\":\"#E5ECF6\",\"gridcolor\":\"white\",\"linecolor\":\"white\",\"showbackground\":true,\"ticks\":\"\",\"zerolinecolor\":\"white\",\"gridwidth\":2},\"yaxis\":{\"backgroundcolor\":\"#E5ECF6\",\"gridcolor\":\"white\",\"linecolor\":\"white\",\"showbackground\":true,\"ticks\":\"\",\"zerolinecolor\":\"white\",\"gridwidth\":2},\"zaxis\":{\"backgroundcolor\":\"#E5ECF6\",\"gridcolor\":\"white\",\"linecolor\":\"white\",\"showbackground\":true,\"ticks\":\"\",\"zerolinecolor\":\"white\",\"gridwidth\":2}},\"shapedefaults\":{\"line\":{\"color\":\"#2a3f5f\"}},\"annotationdefaults\":{\"arrowcolor\":\"#2a3f5f\",\"arrowhead\":0,\"arrowwidth\":1},\"geo\":{\"bgcolor\":\"white\",\"landcolor\":\"#E5ECF6\",\"subunitcolor\":\"white\",\"showland\":true,\"showlakes\":true,\"lakecolor\":\"white\"},\"title\":{\"x\":0.05},\"mapbox\":{\"style\":\"light\"}}},\"scene\":{\"domain\":{\"x\":[0.0,1.0],\"y\":[0.0,1.0]},\"xaxis\":{\"title\":{\"text\":\"feature1\"}},\"yaxis\":{\"title\":{\"text\":\"feature2\"}},\"zaxis\":{\"title\":{\"text\":\"target\"}}},\"legend\":{\"tracegroupgap\":0},\"margin\":{\"t\":60}},                        {\"responsive\": true}                    ).then(function(){\n",
              "                            \n",
              "var gd = document.getElementById('575bc5f5-1943-4147-a623-605d36c69546');\n",
              "var x = new MutationObserver(function (mutations, observer) {{\n",
              "        var display = window.getComputedStyle(gd).display;\n",
              "        if (!display || display === 'none') {{\n",
              "            console.log([gd, 'removed!']);\n",
              "            Plotly.purge(gd);\n",
              "            observer.disconnect();\n",
              "        }}\n",
              "}});\n",
              "\n",
              "// Listen for the removal of the full notebook cells\n",
              "var notebookContainer = gd.closest('#notebook-container');\n",
              "if (notebookContainer) {{\n",
              "    x.observe(notebookContainer, {childList: true});\n",
              "}}\n",
              "\n",
              "// Listen for the clearing of the current output cell\n",
              "var outputEl = gd.closest('.output');\n",
              "if (outputEl) {{\n",
              "    x.observe(outputEl, {childList: true});\n",
              "}}\n",
              "\n",
              "                        })                };                            </script>        </div>\n",
              "</body>\n",
              "</html>"
            ]
          },
          "metadata": {}
        }
      ]
    },
    {
      "cell_type": "code",
      "source": [
        "x_train , x_test , y_train , y_test = train_test_split(x ,y,test_size = 0.2 , random_state = 3)"
      ],
      "metadata": {
        "id": "zRDDkILYWQEi"
      },
      "execution_count": null,
      "outputs": []
    },
    {
      "cell_type": "code",
      "source": [
        "lr = LinearRegression()"
      ],
      "metadata": {
        "id": "I3V7Msu3Yd0t"
      },
      "execution_count": null,
      "outputs": []
    },
    {
      "cell_type": "code",
      "source": [
        "lr.fit(x_train , y_train)"
      ],
      "metadata": {
        "colab": {
          "base_uri": "https://localhost:8080/",
          "height": 75
        },
        "id": "LvQpCGupYzaj",
        "outputId": "e59ce8ef-88e2-4a34-e159-5b0c292e4ed3"
      },
      "execution_count": null,
      "outputs": [
        {
          "output_type": "execute_result",
          "data": {
            "text/plain": [
              "LinearRegression()"
            ],
            "text/html": [
              "<style>#sk-container-id-3 {color: black;background-color: white;}#sk-container-id-3 pre{padding: 0;}#sk-container-id-3 div.sk-toggleable {background-color: white;}#sk-container-id-3 label.sk-toggleable__label {cursor: pointer;display: block;width: 100%;margin-bottom: 0;padding: 0.3em;box-sizing: border-box;text-align: center;}#sk-container-id-3 label.sk-toggleable__label-arrow:before {content: \"▸\";float: left;margin-right: 0.25em;color: #696969;}#sk-container-id-3 label.sk-toggleable__label-arrow:hover:before {color: black;}#sk-container-id-3 div.sk-estimator:hover label.sk-toggleable__label-arrow:before {color: black;}#sk-container-id-3 div.sk-toggleable__content {max-height: 0;max-width: 0;overflow: hidden;text-align: left;background-color: #f0f8ff;}#sk-container-id-3 div.sk-toggleable__content pre {margin: 0.2em;color: black;border-radius: 0.25em;background-color: #f0f8ff;}#sk-container-id-3 input.sk-toggleable__control:checked~div.sk-toggleable__content {max-height: 200px;max-width: 100%;overflow: auto;}#sk-container-id-3 input.sk-toggleable__control:checked~label.sk-toggleable__label-arrow:before {content: \"▾\";}#sk-container-id-3 div.sk-estimator input.sk-toggleable__control:checked~label.sk-toggleable__label {background-color: #d4ebff;}#sk-container-id-3 div.sk-label input.sk-toggleable__control:checked~label.sk-toggleable__label {background-color: #d4ebff;}#sk-container-id-3 input.sk-hidden--visually {border: 0;clip: rect(1px 1px 1px 1px);clip: rect(1px, 1px, 1px, 1px);height: 1px;margin: -1px;overflow: hidden;padding: 0;position: absolute;width: 1px;}#sk-container-id-3 div.sk-estimator {font-family: monospace;background-color: #f0f8ff;border: 1px dotted black;border-radius: 0.25em;box-sizing: border-box;margin-bottom: 0.5em;}#sk-container-id-3 div.sk-estimator:hover {background-color: #d4ebff;}#sk-container-id-3 div.sk-parallel-item::after {content: \"\";width: 100%;border-bottom: 1px solid gray;flex-grow: 1;}#sk-container-id-3 div.sk-label:hover label.sk-toggleable__label {background-color: #d4ebff;}#sk-container-id-3 div.sk-serial::before {content: \"\";position: absolute;border-left: 1px solid gray;box-sizing: border-box;top: 0;bottom: 0;left: 50%;z-index: 0;}#sk-container-id-3 div.sk-serial {display: flex;flex-direction: column;align-items: center;background-color: white;padding-right: 0.2em;padding-left: 0.2em;position: relative;}#sk-container-id-3 div.sk-item {position: relative;z-index: 1;}#sk-container-id-3 div.sk-parallel {display: flex;align-items: stretch;justify-content: center;background-color: white;position: relative;}#sk-container-id-3 div.sk-item::before, #sk-container-id-3 div.sk-parallel-item::before {content: \"\";position: absolute;border-left: 1px solid gray;box-sizing: border-box;top: 0;bottom: 0;left: 50%;z-index: -1;}#sk-container-id-3 div.sk-parallel-item {display: flex;flex-direction: column;z-index: 1;position: relative;background-color: white;}#sk-container-id-3 div.sk-parallel-item:first-child::after {align-self: flex-end;width: 50%;}#sk-container-id-3 div.sk-parallel-item:last-child::after {align-self: flex-start;width: 50%;}#sk-container-id-3 div.sk-parallel-item:only-child::after {width: 0;}#sk-container-id-3 div.sk-dashed-wrapped {border: 1px dashed gray;margin: 0 0.4em 0.5em 0.4em;box-sizing: border-box;padding-bottom: 0.4em;background-color: white;}#sk-container-id-3 div.sk-label label {font-family: monospace;font-weight: bold;display: inline-block;line-height: 1.2em;}#sk-container-id-3 div.sk-label-container {text-align: center;}#sk-container-id-3 div.sk-container {/* jupyter's `normalize.less` sets `[hidden] { display: none; }` but bootstrap.min.css set `[hidden] { display: none !important; }` so we also need the `!important` here to be able to override the default hidden behavior on the sphinx rendered scikit-learn.org. See: https://github.com/scikit-learn/scikit-learn/issues/21755 */display: inline-block !important;position: relative;}#sk-container-id-3 div.sk-text-repr-fallback {display: none;}</style><div id=\"sk-container-id-3\" class=\"sk-top-container\"><div class=\"sk-text-repr-fallback\"><pre>LinearRegression()</pre><b>In a Jupyter environment, please rerun this cell to show the HTML representation or trust the notebook. <br />On GitHub, the HTML representation is unable to render, please try loading this page with nbviewer.org.</b></div><div class=\"sk-container\" hidden><div class=\"sk-item\"><div class=\"sk-estimator sk-toggleable\"><input class=\"sk-toggleable__control sk-hidden--visually\" id=\"sk-estimator-id-3\" type=\"checkbox\" checked><label for=\"sk-estimator-id-3\" class=\"sk-toggleable__label sk-toggleable__label-arrow\">LinearRegression</label><div class=\"sk-toggleable__content\"><pre>LinearRegression()</pre></div></div></div></div></div>"
            ]
          },
          "metadata": {},
          "execution_count": 41
        }
      ]
    },
    {
      "cell_type": "code",
      "source": [
        "y_pred = lr.predict(x_test)"
      ],
      "metadata": {
        "id": "60PVjIASY3Kb"
      },
      "execution_count": null,
      "outputs": []
    },
    {
      "cell_type": "code",
      "source": [
        "print(\"MAE\",mean_absolute_error(y_test,y_pred))\n",
        "print(\"MSE\",mean_squared_error(y_test,y_pred))\n",
        "print(\"R2 score\",r2_score(y_test,y_pred))"
      ],
      "metadata": {
        "colab": {
          "base_uri": "https://localhost:8080/"
        },
        "id": "_htYOp89ZNRm",
        "outputId": "2c132608-2222-4d3d-fd74-c251b6c0e24b"
      },
      "execution_count": null,
      "outputs": [
        {
          "output_type": "stream",
          "name": "stdout",
          "text": [
            "MAE 36.856285281530525\n",
            "MSE 2249.9625176150225\n",
            "R2 score 0.4187764914825709\n"
          ]
        }
      ]
    },
    {
      "cell_type": "markdown",
      "source": [
        "ignore this code <br> <br> this code is used for ploting the hyper plane best wala"
      ],
      "metadata": {
        "id": "fA4YG1o8cyPt"
      }
    },
    {
      "cell_type": "code",
      "source": [
        "# Create a grid of points\n",
        "xx = np.linspace(df['feature1'].min(), df['feature1'].max(), 10)\n",
        "yy = np.linspace(df['feature2'].min(), df['feature2'].max(), 10)\n",
        "xGrid, yGrid = np.meshgrid(xx, yy)\n",
        "\n",
        "# Prepare the grid points for prediction\n",
        "grid_points = np.vstack((xGrid.ravel(), yGrid.ravel())).T\n",
        "\n",
        "# Predict the target values for the grid points using the trained model\n",
        "z_final = lr.predict(grid_points).reshape(xGrid.shape)\n",
        "\n",
        "# Plot the scatter plot in 3D with the hyperplane\n",
        "fig = px.scatter_3d(df, x='feature1', y='feature2', z='target')\n",
        "fig.add_trace(go.Surface(x=xGrid, y=yGrid, z=z_final, opacity=0.5))\n",
        "\n",
        "# Show the plot\n",
        "fig.show()"
      ],
      "metadata": {
        "colab": {
          "base_uri": "https://localhost:8080/",
          "height": 542
        },
        "id": "HqG4u-9Vba_V",
        "outputId": "a5a51491-d2cc-4174-ad90-8f9bfc5fe018"
      },
      "execution_count": null,
      "outputs": [
        {
          "output_type": "display_data",
          "data": {
            "text/html": [
              "<html>\n",
              "<head><meta charset=\"utf-8\" /></head>\n",
              "<body>\n",
              "    <div>            <script src=\"https://cdnjs.cloudflare.com/ajax/libs/mathjax/2.7.5/MathJax.js?config=TeX-AMS-MML_SVG\"></script><script type=\"text/javascript\">if (window.MathJax && window.MathJax.Hub && window.MathJax.Hub.Config) {window.MathJax.Hub.Config({SVG: {font: \"STIX-Web\"}});}</script>                <script type=\"text/javascript\">window.PlotlyConfig = {MathJaxConfig: 'local'};</script>\n",
              "        <script charset=\"utf-8\" src=\"https://cdn.plot.ly/plotly-2.24.1.min.js\"></script>                <div id=\"62f382c4-ef9b-46fd-a65e-bb395e31267f\" class=\"plotly-graph-div\" style=\"height:525px; width:100%;\"></div>            <script type=\"text/javascript\">                                    window.PLOTLYENV=window.PLOTLYENV || {};                                    if (document.getElementById(\"62f382c4-ef9b-46fd-a65e-bb395e31267f\")) {                    Plotly.newPlot(                        \"62f382c4-ef9b-46fd-a65e-bb395e31267f\",                        [{\"hovertemplate\":\"feature1=%{x}\\u003cbr\\u003efeature2=%{y}\\u003cbr\\u003etarget=%{z}\\u003cextra\\u003e\\u003c\\u002fextra\\u003e\",\"legendgroup\":\"\",\"marker\":{\"color\":\"#636efa\",\"symbol\":\"circle\"},\"mode\":\"markers\",\"name\":\"\",\"scene\":\"scene\",\"showlegend\":false,\"x\":[0.3584867488542468,-2.8305394598195956,-1.2863730099119342,0.7067282024154663,-0.781337651894472,0.12181123120405367,1.0183720712555582,-0.5861646667528578,0.5043885991425997,2.2600809442928065,-2.148788981822746,0.7901994396423234,1.1371561708221807,0.692078199598756,-1.3519655358819167,0.8161826993277976,0.6126084417799506,-0.48711734384432126,-0.8013244602281714,0.9837395686594211,0.21713010285562884,0.7345722103532799,2.410412027910949,1.3656968861690348,2.4269237128958583,1.1058395674843329,-1.3894003443867056,-1.3431095747956754,-0.6037255387222432,0.20954915678553382,1.140369154834295,-0.6081255971572493,-0.9833070600271535,0.4774517864863417,0.30018765906637573,-1.270743331318778,-1.5513095895105578,-1.2665133518777358,0.08967881127319499,0.22456014728692814,-0.24685220537395466,0.3796010935443261,1.2575159606929283,-0.05564593898442644,0.532734218086919,0.672621020625922,-0.31073771365034825,0.34606735526175614,0.4942626131185638,1.5187010549295135,-1.2667371080241097,-1.1917985127502326,-1.0036451536904867,1.6834632142945174,0.0761416523152382,0.7636015232720456,0.07930201158436381,0.8835255563163603,0.4256562790443826,0.592320550160408,-2.967089466221166,0.7080922759751405,-0.43573067639185203,-0.7678624827054642,0.05019709548731505,0.059386534124816474,-0.14754015754887745,-1.7176883583856715,1.679766881935314,0.22105798164695886,-0.45203104308154307,-0.1839737086268423,-0.303284215618858,-0.3288306320882615,0.4967278906625413,-0.1413118450414345,0.19395647220314757,-0.04571882199974766,-0.46091533931825435,0.7631280891038753,0.8591132607617908,0.5456736157836671,1.729414498512366,-0.60606997089759,0.8097030151297416,2.2369341847055706,1.1091246563057258,-0.09242155207620498,-0.4544132250316554,0.7191587387918037,-0.9687856082899081,-0.8276756663348224,0.8422256893304912,0.6778858634746552,0.3743382222763141,-0.8712456088087204,-0.5868452102659474,-1.5621386633938856,-2.1151545836224375,-0.13517383838416983],\"y\":[2.1923731188143845,0.44444688471322186,0.563122107040247,-0.395970943287851,-0.42083052868109533,0.21155677567009934,0.4003057714617248,-1.8640837639416208,-0.3550531875002421,-0.948599790000434,-0.3588135179476877,-0.29867056187506674,-1.2748481978784625,-0.5673019293979985,0.11281852220702104,-1.1287062975791533,0.1460923587837986,0.09848872396662856,0.0035113349229921806,1.2541932640424256,1.3354803060179188,0.7030653104820231,0.5740753140820452,-0.7250282344244507,-1.7451256960929693,1.711264993585006,1.0422494154210027,0.9421563902325044,-0.7718440333245519,-0.8659429826316877,-0.8818774888716338,2.437008420523616,1.1762020437623089,-1.3998350734279457,0.2889828357275445,0.08625559340447098,-0.23603172209403678,-0.5657857219935463,1.3720556808344502,2.1972786380181133,-0.42843457242831773,0.9285355657531229,-1.218132075696143,1.3451913820252797,-0.8395133835159637,-1.585505317167025,-0.4954242454974327,-0.7851430182059601,-0.48373336669191686,-1.185005238720515,0.38656126836377913,1.621189496383039,-0.2912184643460032,-0.9727787403812979,1.7038771889029636,-1.29367083947488,-1.3694433651027853,-0.7574107501967139,0.49372469620603504,-0.15506866207381306,0.22010777723625824,-0.3553455356322977,-0.4724272398935647,0.6756941095333295,-0.9125018735211886,-1.0295493235861033,1.1899716196695607,0.7160749791025255,-0.7201315890744481,0.569003798581686,1.4495148923190013,-1.4301418887975959,-0.953470389130854,-1.8337111360334177,-1.0704090026977646,0.6114874447903769,-1.1153426877522565,0.03561042619334264,-1.1226233103228214,0.270410531999702,1.579876898323055,0.892981902910926,0.7298114765109383,1.5480355660082752,0.15866124796354647,-1.9607896223546173,1.8190012097651234,-0.8328327358417044,1.5156166523415204,0.21066510255975407,0.6461748178453863,0.1382420046884164,0.10947260228225951,0.8330050467104032,0.4136253100230428,-0.5164483854693637,1.0221187651995691,2.624159935142039,-1.7519148098258617,-0.36265547926199737],\"z\":[110.8602780944423,-52.685345342294966,-105.86818740902171,110.51334087023052,-72.73615917440485,-5.02932805942541,-70.78538218297784,50.2670438712273,3.316921352324579,34.00124047839814,-104.42981612666584,-15.91610746116211,-2.7254261549166117,33.90613642851672,-74.22972848771141,-59.48266475356566,-11.69536234029107,-54.23063693930655,44.350566706241025,-6.035262394371571,31.855624078337826,9.249607708224445,113.77928348744119,43.388226659820894,26.794987673815164,31.100181009710298,-46.00318728519595,-6.844792050475732,-85.05787466725016,-19.83392260643443,77.89202140771849,33.26317317571492,63.116480368900426,-11.942282261656626,45.433432541257496,3.5791107278098337,-70.19404088179249,-18.184399182874266,42.085928615035634,83.87269389043867,-54.832822908616215,107.23752398261578,22.823216159002207,70.86699415475212,44.72994033075881,-8.342180884555248,-7.0679424573406315,-25.752851928470225,-5.936626013835548,-28.65832638399619,10.98541817958074,-58.34845516955071,-25.557485803858505,99.40047354742256,-7.847064899367375,-8.598962382060014,-19.51907475457675,-75.78841421350263,84.66977314934284,25.217459611560255,-66.0850641678735,-69.59041896921732,-58.48422338655826,-110.5852498889345,-57.32979094698638,-46.082454862071,-12.242162914786977,-126.61448875484726,61.436005427041565,-32.841548082448526,-11.493519013321045,-20.954742553234357,-59.48432505550361,-75.37966391426515,47.91541722344532,72.62919310168041,36.40699747674728,-14.92103416684232,16.331457632554276,30.988443435282626,28.815810994991836,14.619776493009788,52.48960413959579,19.916083093054027,76.61094482389706,51.417411530418285,51.403659691172024,59.62234049841974,68.17991262784105,92.81403302822099,3.2369902008498457,-9.692694179496414,-25.700665780262725,79.86744207049743,61.00516616007854,-8.142635138980182,-46.18559396289371,-45.550638838109464,-155.50462227042792,4.402784493788248],\"type\":\"scatter3d\"},{\"opacity\":0.5,\"x\":[[-2.967089466221166,-2.367754668541497,-1.7684198708618275,-1.169085073182158,-0.5697502755024888,0.02958452217718044,0.6289193198568501,1.228254117536519,1.8275889152161886,2.4269237128958583],[-2.967089466221166,-2.367754668541497,-1.7684198708618275,-1.169085073182158,-0.5697502755024888,0.02958452217718044,0.6289193198568501,1.228254117536519,1.8275889152161886,2.4269237128958583],[-2.967089466221166,-2.367754668541497,-1.7684198708618275,-1.169085073182158,-0.5697502755024888,0.02958452217718044,0.6289193198568501,1.228254117536519,1.8275889152161886,2.4269237128958583],[-2.967089466221166,-2.367754668541497,-1.7684198708618275,-1.169085073182158,-0.5697502755024888,0.02958452217718044,0.6289193198568501,1.228254117536519,1.8275889152161886,2.4269237128958583],[-2.967089466221166,-2.367754668541497,-1.7684198708618275,-1.169085073182158,-0.5697502755024888,0.02958452217718044,0.6289193198568501,1.228254117536519,1.8275889152161886,2.4269237128958583],[-2.967089466221166,-2.367754668541497,-1.7684198708618275,-1.169085073182158,-0.5697502755024888,0.02958452217718044,0.6289193198568501,1.228254117536519,1.8275889152161886,2.4269237128958583],[-2.967089466221166,-2.367754668541497,-1.7684198708618275,-1.169085073182158,-0.5697502755024888,0.02958452217718044,0.6289193198568501,1.228254117536519,1.8275889152161886,2.4269237128958583],[-2.967089466221166,-2.367754668541497,-1.7684198708618275,-1.169085073182158,-0.5697502755024888,0.02958452217718044,0.6289193198568501,1.228254117536519,1.8275889152161886,2.4269237128958583],[-2.967089466221166,-2.367754668541497,-1.7684198708618275,-1.169085073182158,-0.5697502755024888,0.02958452217718044,0.6289193198568501,1.228254117536519,1.8275889152161886,2.4269237128958583],[-2.967089466221166,-2.367754668541497,-1.7684198708618275,-1.169085073182158,-0.5697502755024888,0.02958452217718044,0.6289193198568501,1.228254117536519,1.8275889152161886,2.4269237128958583]],\"y\":[[-1.9607896223546173,-1.9607896223546173,-1.9607896223546173,-1.9607896223546173,-1.9607896223546173,-1.9607896223546173,-1.9607896223546173,-1.9607896223546173,-1.9607896223546173,-1.9607896223546173],[-1.4513507826327665,-1.4513507826327665,-1.4513507826327665,-1.4513507826327665,-1.4513507826327665,-1.4513507826327665,-1.4513507826327665,-1.4513507826327665,-1.4513507826327665,-1.4513507826327665],[-0.9419119429109157,-0.9419119429109157,-0.9419119429109157,-0.9419119429109157,-0.9419119429109157,-0.9419119429109157,-0.9419119429109157,-0.9419119429109157,-0.9419119429109157,-0.9419119429109157],[-0.43247310318906496,-0.43247310318906496,-0.43247310318906496,-0.43247310318906496,-0.43247310318906496,-0.43247310318906496,-0.43247310318906496,-0.43247310318906496,-0.43247310318906496,-0.43247310318906496],[0.07696573653278582,0.07696573653278582,0.07696573653278582,0.07696573653278582,0.07696573653278582,0.07696573653278582,0.07696573653278582,0.07696573653278582,0.07696573653278582,0.07696573653278582],[0.5864045762546364,0.5864045762546364,0.5864045762546364,0.5864045762546364,0.5864045762546364,0.5864045762546364,0.5864045762546364,0.5864045762546364,0.5864045762546364,0.5864045762546364],[1.0958434159764874,1.0958434159764874,1.0958434159764874,1.0958434159764874,1.0958434159764874,1.0958434159764874,1.0958434159764874,1.0958434159764874,1.0958434159764874,1.0958434159764874],[1.6052822556983384,1.6052822556983384,1.6052822556983384,1.6052822556983384,1.6052822556983384,1.6052822556983384,1.6052822556983384,1.6052822556983384,1.6052822556983384,1.6052822556983384],[2.114721095420189,2.114721095420189,2.114721095420189,2.114721095420189,2.114721095420189,2.114721095420189,2.114721095420189,2.114721095420189,2.114721095420189,2.114721095420189],[2.624159935142039,2.624159935142039,2.624159935142039,2.624159935142039,2.624159935142039,2.624159935142039,2.624159935142039,2.624159935142039,2.624159935142039,2.624159935142039]],\"z\":[[-122.08248643642342,-103.4623082114828,-84.84212998654219,-66.22195176160156,-47.60177353666096,-28.98159531172034,-10.361417086779717,8.258761138160878,26.87893936310151,45.49911758804214],[-113.4725151349898,-94.85233691004919,-76.23215868510857,-57.61198046016794,-38.99180223522734,-20.371624010286723,-1.7514457853460965,16.8687324395945,35.488910664535126,54.10908888947576],[-104.86254383355619,-86.24236560861557,-67.62218738367496,-49.002009158734325,-30.381830933793715,-11.761652708853104,6.858525516087523,25.47870374102812,44.09888196596875,62.71906019090938],[-96.25257253212257,-77.63239430718195,-59.01221608224133,-40.39203785730071,-21.771859632360098,-3.151681407419485,15.468496817521142,34.08867504246174,52.70885326740237,71.329031492343],[-87.64260123068894,-69.02242300574832,-50.40224478080771,-31.78206655586709,-13.161888330926477,5.4582898940141344,24.078468118954763,42.698646343895355,61.318824568835986,79.93900279377662],[-79.03262992925534,-60.41245170431471,-41.792273479374096,-23.172095254433472,-4.551917029492863,14.06826119544775,32.68843942038838,51.30861764532897,69.9287958702696,88.54897409521024],[-70.4226586278217,-51.80248040288109,-33.18230217794047,-14.562123952999848,4.058054271940762,22.678232496881375,41.298410721822,59.9185889467626,78.53876717170323,97.15894539664386],[-61.81268732638807,-43.19250910144746,-24.572330876506847,-5.952152651566223,12.668025573374386,31.288203798315,49.908382023255626,68.52856024819621,87.14873847313686,105.76891669807748],[-53.20271602495446,-34.582537800013846,-15.96235957507323,2.657818649867394,21.277996874808004,39.89817509974862,58.518353324689244,77.13853154962985,95.75870977457046,114.37888799951111],[-44.59274472352086,-25.972566498580242,-7.352388273639626,11.267789951300998,29.887968176241607,48.50814640118222,67.12832462612285,85.74850285106345,104.36868107600407,122.98885930094471]],\"type\":\"surface\"}],                        {\"template\":{\"data\":{\"histogram2dcontour\":[{\"type\":\"histogram2dcontour\",\"colorbar\":{\"outlinewidth\":0,\"ticks\":\"\"},\"colorscale\":[[0.0,\"#0d0887\"],[0.1111111111111111,\"#46039f\"],[0.2222222222222222,\"#7201a8\"],[0.3333333333333333,\"#9c179e\"],[0.4444444444444444,\"#bd3786\"],[0.5555555555555556,\"#d8576b\"],[0.6666666666666666,\"#ed7953\"],[0.7777777777777778,\"#fb9f3a\"],[0.8888888888888888,\"#fdca26\"],[1.0,\"#f0f921\"]]}],\"choropleth\":[{\"type\":\"choropleth\",\"colorbar\":{\"outlinewidth\":0,\"ticks\":\"\"}}],\"histogram2d\":[{\"type\":\"histogram2d\",\"colorbar\":{\"outlinewidth\":0,\"ticks\":\"\"},\"colorscale\":[[0.0,\"#0d0887\"],[0.1111111111111111,\"#46039f\"],[0.2222222222222222,\"#7201a8\"],[0.3333333333333333,\"#9c179e\"],[0.4444444444444444,\"#bd3786\"],[0.5555555555555556,\"#d8576b\"],[0.6666666666666666,\"#ed7953\"],[0.7777777777777778,\"#fb9f3a\"],[0.8888888888888888,\"#fdca26\"],[1.0,\"#f0f921\"]]}],\"heatmap\":[{\"type\":\"heatmap\",\"colorbar\":{\"outlinewidth\":0,\"ticks\":\"\"},\"colorscale\":[[0.0,\"#0d0887\"],[0.1111111111111111,\"#46039f\"],[0.2222222222222222,\"#7201a8\"],[0.3333333333333333,\"#9c179e\"],[0.4444444444444444,\"#bd3786\"],[0.5555555555555556,\"#d8576b\"],[0.6666666666666666,\"#ed7953\"],[0.7777777777777778,\"#fb9f3a\"],[0.8888888888888888,\"#fdca26\"],[1.0,\"#f0f921\"]]}],\"heatmapgl\":[{\"type\":\"heatmapgl\",\"colorbar\":{\"outlinewidth\":0,\"ticks\":\"\"},\"colorscale\":[[0.0,\"#0d0887\"],[0.1111111111111111,\"#46039f\"],[0.2222222222222222,\"#7201a8\"],[0.3333333333333333,\"#9c179e\"],[0.4444444444444444,\"#bd3786\"],[0.5555555555555556,\"#d8576b\"],[0.6666666666666666,\"#ed7953\"],[0.7777777777777778,\"#fb9f3a\"],[0.8888888888888888,\"#fdca26\"],[1.0,\"#f0f921\"]]}],\"contourcarpet\":[{\"type\":\"contourcarpet\",\"colorbar\":{\"outlinewidth\":0,\"ticks\":\"\"}}],\"contour\":[{\"type\":\"contour\",\"colorbar\":{\"outlinewidth\":0,\"ticks\":\"\"},\"colorscale\":[[0.0,\"#0d0887\"],[0.1111111111111111,\"#46039f\"],[0.2222222222222222,\"#7201a8\"],[0.3333333333333333,\"#9c179e\"],[0.4444444444444444,\"#bd3786\"],[0.5555555555555556,\"#d8576b\"],[0.6666666666666666,\"#ed7953\"],[0.7777777777777778,\"#fb9f3a\"],[0.8888888888888888,\"#fdca26\"],[1.0,\"#f0f921\"]]}],\"surface\":[{\"type\":\"surface\",\"colorbar\":{\"outlinewidth\":0,\"ticks\":\"\"},\"colorscale\":[[0.0,\"#0d0887\"],[0.1111111111111111,\"#46039f\"],[0.2222222222222222,\"#7201a8\"],[0.3333333333333333,\"#9c179e\"],[0.4444444444444444,\"#bd3786\"],[0.5555555555555556,\"#d8576b\"],[0.6666666666666666,\"#ed7953\"],[0.7777777777777778,\"#fb9f3a\"],[0.8888888888888888,\"#fdca26\"],[1.0,\"#f0f921\"]]}],\"mesh3d\":[{\"type\":\"mesh3d\",\"colorbar\":{\"outlinewidth\":0,\"ticks\":\"\"}}],\"scatter\":[{\"fillpattern\":{\"fillmode\":\"overlay\",\"size\":10,\"solidity\":0.2},\"type\":\"scatter\"}],\"parcoords\":[{\"type\":\"parcoords\",\"line\":{\"colorbar\":{\"outlinewidth\":0,\"ticks\":\"\"}}}],\"scatterpolargl\":[{\"type\":\"scatterpolargl\",\"marker\":{\"colorbar\":{\"outlinewidth\":0,\"ticks\":\"\"}}}],\"bar\":[{\"error_x\":{\"color\":\"#2a3f5f\"},\"error_y\":{\"color\":\"#2a3f5f\"},\"marker\":{\"line\":{\"color\":\"#E5ECF6\",\"width\":0.5},\"pattern\":{\"fillmode\":\"overlay\",\"size\":10,\"solidity\":0.2}},\"type\":\"bar\"}],\"scattergeo\":[{\"type\":\"scattergeo\",\"marker\":{\"colorbar\":{\"outlinewidth\":0,\"ticks\":\"\"}}}],\"scatterpolar\":[{\"type\":\"scatterpolar\",\"marker\":{\"colorbar\":{\"outlinewidth\":0,\"ticks\":\"\"}}}],\"histogram\":[{\"marker\":{\"pattern\":{\"fillmode\":\"overlay\",\"size\":10,\"solidity\":0.2}},\"type\":\"histogram\"}],\"scattergl\":[{\"type\":\"scattergl\",\"marker\":{\"colorbar\":{\"outlinewidth\":0,\"ticks\":\"\"}}}],\"scatter3d\":[{\"type\":\"scatter3d\",\"line\":{\"colorbar\":{\"outlinewidth\":0,\"ticks\":\"\"}},\"marker\":{\"colorbar\":{\"outlinewidth\":0,\"ticks\":\"\"}}}],\"scattermapbox\":[{\"type\":\"scattermapbox\",\"marker\":{\"colorbar\":{\"outlinewidth\":0,\"ticks\":\"\"}}}],\"scatterternary\":[{\"type\":\"scatterternary\",\"marker\":{\"colorbar\":{\"outlinewidth\":0,\"ticks\":\"\"}}}],\"scattercarpet\":[{\"type\":\"scattercarpet\",\"marker\":{\"colorbar\":{\"outlinewidth\":0,\"ticks\":\"\"}}}],\"carpet\":[{\"aaxis\":{\"endlinecolor\":\"#2a3f5f\",\"gridcolor\":\"white\",\"linecolor\":\"white\",\"minorgridcolor\":\"white\",\"startlinecolor\":\"#2a3f5f\"},\"baxis\":{\"endlinecolor\":\"#2a3f5f\",\"gridcolor\":\"white\",\"linecolor\":\"white\",\"minorgridcolor\":\"white\",\"startlinecolor\":\"#2a3f5f\"},\"type\":\"carpet\"}],\"table\":[{\"cells\":{\"fill\":{\"color\":\"#EBF0F8\"},\"line\":{\"color\":\"white\"}},\"header\":{\"fill\":{\"color\":\"#C8D4E3\"},\"line\":{\"color\":\"white\"}},\"type\":\"table\"}],\"barpolar\":[{\"marker\":{\"line\":{\"color\":\"#E5ECF6\",\"width\":0.5},\"pattern\":{\"fillmode\":\"overlay\",\"size\":10,\"solidity\":0.2}},\"type\":\"barpolar\"}],\"pie\":[{\"automargin\":true,\"type\":\"pie\"}]},\"layout\":{\"autotypenumbers\":\"strict\",\"colorway\":[\"#636efa\",\"#EF553B\",\"#00cc96\",\"#ab63fa\",\"#FFA15A\",\"#19d3f3\",\"#FF6692\",\"#B6E880\",\"#FF97FF\",\"#FECB52\"],\"font\":{\"color\":\"#2a3f5f\"},\"hovermode\":\"closest\",\"hoverlabel\":{\"align\":\"left\"},\"paper_bgcolor\":\"white\",\"plot_bgcolor\":\"#E5ECF6\",\"polar\":{\"bgcolor\":\"#E5ECF6\",\"angularaxis\":{\"gridcolor\":\"white\",\"linecolor\":\"white\",\"ticks\":\"\"},\"radialaxis\":{\"gridcolor\":\"white\",\"linecolor\":\"white\",\"ticks\":\"\"}},\"ternary\":{\"bgcolor\":\"#E5ECF6\",\"aaxis\":{\"gridcolor\":\"white\",\"linecolor\":\"white\",\"ticks\":\"\"},\"baxis\":{\"gridcolor\":\"white\",\"linecolor\":\"white\",\"ticks\":\"\"},\"caxis\":{\"gridcolor\":\"white\",\"linecolor\":\"white\",\"ticks\":\"\"}},\"coloraxis\":{\"colorbar\":{\"outlinewidth\":0,\"ticks\":\"\"}},\"colorscale\":{\"sequential\":[[0.0,\"#0d0887\"],[0.1111111111111111,\"#46039f\"],[0.2222222222222222,\"#7201a8\"],[0.3333333333333333,\"#9c179e\"],[0.4444444444444444,\"#bd3786\"],[0.5555555555555556,\"#d8576b\"],[0.6666666666666666,\"#ed7953\"],[0.7777777777777778,\"#fb9f3a\"],[0.8888888888888888,\"#fdca26\"],[1.0,\"#f0f921\"]],\"sequentialminus\":[[0.0,\"#0d0887\"],[0.1111111111111111,\"#46039f\"],[0.2222222222222222,\"#7201a8\"],[0.3333333333333333,\"#9c179e\"],[0.4444444444444444,\"#bd3786\"],[0.5555555555555556,\"#d8576b\"],[0.6666666666666666,\"#ed7953\"],[0.7777777777777778,\"#fb9f3a\"],[0.8888888888888888,\"#fdca26\"],[1.0,\"#f0f921\"]],\"diverging\":[[0,\"#8e0152\"],[0.1,\"#c51b7d\"],[0.2,\"#de77ae\"],[0.3,\"#f1b6da\"],[0.4,\"#fde0ef\"],[0.5,\"#f7f7f7\"],[0.6,\"#e6f5d0\"],[0.7,\"#b8e186\"],[0.8,\"#7fbc41\"],[0.9,\"#4d9221\"],[1,\"#276419\"]]},\"xaxis\":{\"gridcolor\":\"white\",\"linecolor\":\"white\",\"ticks\":\"\",\"title\":{\"standoff\":15},\"zerolinecolor\":\"white\",\"automargin\":true,\"zerolinewidth\":2},\"yaxis\":{\"gridcolor\":\"white\",\"linecolor\":\"white\",\"ticks\":\"\",\"title\":{\"standoff\":15},\"zerolinecolor\":\"white\",\"automargin\":true,\"zerolinewidth\":2},\"scene\":{\"xaxis\":{\"backgroundcolor\":\"#E5ECF6\",\"gridcolor\":\"white\",\"linecolor\":\"white\",\"showbackground\":true,\"ticks\":\"\",\"zerolinecolor\":\"white\",\"gridwidth\":2},\"yaxis\":{\"backgroundcolor\":\"#E5ECF6\",\"gridcolor\":\"white\",\"linecolor\":\"white\",\"showbackground\":true,\"ticks\":\"\",\"zerolinecolor\":\"white\",\"gridwidth\":2},\"zaxis\":{\"backgroundcolor\":\"#E5ECF6\",\"gridcolor\":\"white\",\"linecolor\":\"white\",\"showbackground\":true,\"ticks\":\"\",\"zerolinecolor\":\"white\",\"gridwidth\":2}},\"shapedefaults\":{\"line\":{\"color\":\"#2a3f5f\"}},\"annotationdefaults\":{\"arrowcolor\":\"#2a3f5f\",\"arrowhead\":0,\"arrowwidth\":1},\"geo\":{\"bgcolor\":\"white\",\"landcolor\":\"#E5ECF6\",\"subunitcolor\":\"white\",\"showland\":true,\"showlakes\":true,\"lakecolor\":\"white\"},\"title\":{\"x\":0.05},\"mapbox\":{\"style\":\"light\"}}},\"scene\":{\"domain\":{\"x\":[0.0,1.0],\"y\":[0.0,1.0]},\"xaxis\":{\"title\":{\"text\":\"feature1\"}},\"yaxis\":{\"title\":{\"text\":\"feature2\"}},\"zaxis\":{\"title\":{\"text\":\"target\"}}},\"legend\":{\"tracegroupgap\":0},\"margin\":{\"t\":60}},                        {\"responsive\": true}                    ).then(function(){\n",
              "                            \n",
              "var gd = document.getElementById('62f382c4-ef9b-46fd-a65e-bb395e31267f');\n",
              "var x = new MutationObserver(function (mutations, observer) {{\n",
              "        var display = window.getComputedStyle(gd).display;\n",
              "        if (!display || display === 'none') {{\n",
              "            console.log([gd, 'removed!']);\n",
              "            Plotly.purge(gd);\n",
              "            observer.disconnect();\n",
              "        }}\n",
              "}});\n",
              "\n",
              "// Listen for the removal of the full notebook cells\n",
              "var notebookContainer = gd.closest('#notebook-container');\n",
              "if (notebookContainer) {{\n",
              "    x.observe(notebookContainer, {childList: true});\n",
              "}}\n",
              "\n",
              "// Listen for the clearing of the current output cell\n",
              "var outputEl = gd.closest('.output');\n",
              "if (outputEl) {{\n",
              "    x.observe(outputEl, {childList: true});\n",
              "}}\n",
              "\n",
              "                        })                };                            </script>        </div>\n",
              "</body>\n",
              "</html>"
            ]
          },
          "metadata": {}
        }
      ]
    },
    {
      "cell_type": "code",
      "source": [],
      "metadata": {
        "id": "lHwyGqnOcsk5"
      },
      "execution_count": null,
      "outputs": []
    }
  ]
}