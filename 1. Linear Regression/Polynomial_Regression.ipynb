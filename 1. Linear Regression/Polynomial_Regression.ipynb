{
  "nbformat": 4,
  "nbformat_minor": 0,
  "metadata": {
    "colab": {
      "provenance": []
    },
    "kernelspec": {
      "name": "python3",
      "display_name": "Python 3"
    },
    "language_info": {
      "name": "python"
    }
  },
  "cells": [
    {
      "cell_type": "code",
      "execution_count": 18,
      "metadata": {
        "id": "123Tcz1Om7Sc"
      },
      "outputs": [],
      "source": [
        "import numpy as np\n",
        "import matplotlib.pyplot as plt\n",
        "\n",
        "from sklearn.model_selection import train_test_split\n",
        "from sklearn.linear_model import LinearRegression\n",
        "from sklearn.preprocessing import PolynomialFeatures\n",
        "from sklearn.metrics import r2_score"
      ]
    },
    {
      "cell_type": "code",
      "source": [
        "# data set creation\n",
        "x = 6 * np.random.rand(200, 1) - 3\n",
        "y = 0.8 * x**2 + 0.9 * x + 2 + np.random.randn(200, 1)\n",
        "\n",
        "# y = 0.8x^2 + 0.9x + 2"
      ],
      "metadata": {
        "id": "ngz2ol9lngix"
      },
      "execution_count": 23,
      "outputs": []
    },
    {
      "cell_type": "code",
      "source": [
        "print(x.shape)\n",
        "print(y.shape)"
      ],
      "metadata": {
        "colab": {
          "base_uri": "https://localhost:8080/"
        },
        "id": "RJ6u0R6ynoN2",
        "outputId": "695f5489-595f-4b8f-c5fc-26d133c7f4d8"
      },
      "execution_count": 24,
      "outputs": [
        {
          "output_type": "stream",
          "name": "stdout",
          "text": [
            "(200, 1)\n",
            "(200, 1)\n"
          ]
        }
      ]
    },
    {
      "cell_type": "code",
      "source": [
        "for i in range(x.shape[0]):\n",
        "  print(x[i] , y[i], sep = '\\t')"
      ],
      "metadata": {
        "colab": {
          "base_uri": "https://localhost:8080/"
        },
        "id": "7e_oYZDpntPe",
        "outputId": "37173df3-7d36-4f37-e4c0-7989d31a30e4"
      },
      "execution_count": 25,
      "outputs": [
        {
          "output_type": "stream",
          "name": "stdout",
          "text": [
            "[-1.25991606]\t[2.81160759]\n",
            "[-1.48859656]\t[0.09469011]\n",
            "[-2.40650317]\t[4.90320021]\n",
            "[-0.22749125]\t[0.9208033]\n",
            "[0.56732804]\t[2.46072063]\n",
            "[2.04465506]\t[8.08400288]\n",
            "[-2.67919042]\t[6.24080618]\n",
            "[2.38249737]\t[8.20527242]\n",
            "[2.58334036]\t[10.67703169]\n",
            "[-1.59183087]\t[2.97502956]\n",
            "[1.6432333]\t[5.2304368]\n",
            "[-1.20661313]\t[3.30909975]\n",
            "[-1.72498212]\t[2.57130049]\n",
            "[-0.07157813]\t[1.55669397]\n",
            "[2.74221165]\t[10.76749779]\n",
            "[2.33307454]\t[8.20794192]\n",
            "[-1.36351505]\t[1.33366772]\n",
            "[-1.33039819]\t[1.19461203]\n",
            "[-1.06318577]\t[2.79389154]\n",
            "[-1.64605809]\t[3.34471604]\n",
            "[-2.11218791]\t[4.66940363]\n",
            "[-0.00607472]\t[0.92836187]\n",
            "[-0.98075057]\t[1.54937176]\n",
            "[2.78853039]\t[10.15137045]\n",
            "[2.05134992]\t[7.19528033]\n",
            "[0.79773325]\t[2.18586816]\n",
            "[-2.12537983]\t[6.75060446]\n",
            "[2.93714743]\t[12.89331857]\n",
            "[-1.39703683]\t[1.17503662]\n",
            "[2.89266703]\t[10.04962704]\n",
            "[1.71694771]\t[7.00891679]\n",
            "[-1.95599462]\t[4.9083829]\n",
            "[1.78032913]\t[6.1802558]\n",
            "[2.56785326]\t[9.72792877]\n",
            "[2.37758218]\t[9.15420785]\n",
            "[2.41776064]\t[8.72092148]\n",
            "[-0.65889032]\t[2.78847079]\n",
            "[-1.90009649]\t[2.10267971]\n",
            "[0.69724658]\t[1.64718307]\n",
            "[-0.13774644]\t[1.61398542]\n",
            "[-1.39855164]\t[2.73351483]\n",
            "[1.22951307]\t[4.62313302]\n",
            "[-2.8646311]\t[5.2560333]\n",
            "[1.02580001]\t[2.50872244]\n",
            "[0.43776828]\t[3.73488608]\n",
            "[0.2280437]\t[1.9964762]\n",
            "[-1.63445772]\t[2.60364319]\n",
            "[-2.70346554]\t[4.48542854]\n",
            "[-2.0397009]\t[3.63636141]\n",
            "[-2.76308668]\t[5.12820803]\n",
            "[-1.14083465]\t[0.9409571]\n",
            "[-2.83619973]\t[6.95330041]\n",
            "[-1.4513317]\t[2.88716587]\n",
            "[-0.68506967]\t[2.21427967]\n",
            "[2.91336168]\t[10.54899429]\n",
            "[1.76766757]\t[4.51288786]\n",
            "[-0.86255484]\t[2.66209244]\n",
            "[1.28942444]\t[4.47372089]\n",
            "[1.55874487]\t[4.79582683]\n",
            "[2.29075112]\t[8.46774753]\n",
            "[2.31411268]\t[6.73589741]\n",
            "[-1.35496352]\t[3.966745]\n",
            "[1.86451829]\t[5.30750559]\n",
            "[1.83562081]\t[8.42718814]\n",
            "[2.58730862]\t[11.45095416]\n",
            "[2.62307786]\t[11.66091976]\n",
            "[1.28261567]\t[3.73437283]\n",
            "[2.98778101]\t[11.51242334]\n",
            "[-0.09211045]\t[1.39449048]\n",
            "[2.37769025]\t[8.84725597]\n",
            "[1.3883811]\t[3.84953392]\n",
            "[1.78862266]\t[7.62884312]\n",
            "[-1.68879337]\t[1.83438036]\n",
            "[0.08700207]\t[1.96493857]\n",
            "[-1.13900639]\t[2.43494368]\n",
            "[-0.89803832]\t[1.66749733]\n",
            "[2.78061662]\t[9.15803356]\n",
            "[1.6354518]\t[5.05808524]\n",
            "[-1.13156163]\t[2.71637972]\n",
            "[-1.63572954]\t[2.59516273]\n",
            "[0.89159099]\t[3.22710377]\n",
            "[-1.2706876]\t[1.1237535]\n",
            "[0.76073018]\t[2.54834293]\n",
            "[-2.82125377]\t[3.83355282]\n",
            "[1.66772914]\t[5.38142869]\n",
            "[-1.55385955]\t[1.5640322]\n",
            "[-1.59315264]\t[2.69840561]\n",
            "[2.49675809]\t[9.29370588]\n",
            "[2.77880027]\t[11.6207681]\n",
            "[1.17244195]\t[5.04338448]\n",
            "[0.38119847]\t[3.44615709]\n",
            "[0.92242551]\t[5.23747691]\n",
            "[-1.28741363]\t[2.0210893]\n",
            "[-2.96271525]\t[7.22196434]\n",
            "[0.09604376]\t[2.40910975]\n",
            "[-1.10946602]\t[2.46950463]\n",
            "[2.70401141]\t[12.46800749]\n",
            "[-2.40702396]\t[5.12404062]\n",
            "[-2.61196574]\t[5.1526087]\n",
            "[1.4816999]\t[5.2052406]\n",
            "[-2.56542875]\t[3.19901529]\n",
            "[2.64753146]\t[9.63646462]\n",
            "[1.44584711]\t[5.62064953]\n",
            "[0.58152708]\t[2.85071073]\n",
            "[-0.39311445]\t[2.05937351]\n",
            "[-0.71413406]\t[0.58968615]\n",
            "[-1.77761914]\t[3.85999021]\n",
            "[2.80931107]\t[11.19358462]\n",
            "[-2.16657495]\t[1.93903384]\n",
            "[-1.5358409]\t[2.01303198]\n",
            "[-1.86526263]\t[2.48144341]\n",
            "[2.75354238]\t[11.77866777]\n",
            "[2.35922412]\t[8.56960662]\n",
            "[0.04309143]\t[1.163559]\n",
            "[-0.33584955]\t[1.15110611]\n",
            "[-2.44713904]\t[4.73581486]\n",
            "[-0.61866598]\t[2.47873685]\n",
            "[2.41833557]\t[8.46576]\n",
            "[-2.13232105]\t[5.25288059]\n",
            "[-1.50015841]\t[1.02994306]\n",
            "[0.07888182]\t[2.05621824]\n",
            "[-0.66563399]\t[1.10729733]\n",
            "[-1.16283362]\t[0.78805822]\n",
            "[0.62267939]\t[3.90585571]\n",
            "[-2.55368719]\t[3.36423922]\n",
            "[1.88046947]\t[7.432495]\n",
            "[0.47396106]\t[3.163096]\n",
            "[-2.21115427]\t[3.9469209]\n",
            "[1.81839529]\t[6.89560674]\n",
            "[1.78351757]\t[6.89469821]\n",
            "[1.69217424]\t[7.35010075]\n",
            "[0.79054366]\t[1.13402502]\n",
            "[2.48704374]\t[8.97415124]\n",
            "[2.02864942]\t[7.60602959]\n",
            "[2.48257209]\t[10.25073702]\n",
            "[2.85932147]\t[10.19312221]\n",
            "[-1.33599443]\t[1.55666973]\n",
            "[-2.24714689]\t[3.8429776]\n",
            "[0.24135738]\t[3.34704898]\n",
            "[-2.21355692]\t[4.89426735]\n",
            "[-1.25109642]\t[2.22515368]\n",
            "[-1.46025563]\t[2.89289702]\n",
            "[-2.17692184]\t[4.74282884]\n",
            "[0.33811473]\t[2.51650418]\n",
            "[0.20984722]\t[0.2123692]\n",
            "[-0.58501663]\t[2.41939868]\n",
            "[0.5352908]\t[1.96634122]\n",
            "[2.63276984]\t[9.43661639]\n",
            "[-2.14701743]\t[3.6638403]\n",
            "[-2.66646874]\t[5.15485337]\n",
            "[-0.13907577]\t[2.0919954]\n",
            "[-1.34417083]\t[1.90322396]\n",
            "[-0.08146058]\t[0.99622076]\n",
            "[0.29233281]\t[1.33255811]\n",
            "[0.79255153]\t[2.12429708]\n",
            "[-2.62178959]\t[5.88158834]\n",
            "[-0.81020564]\t[1.73133291]\n",
            "[-0.93334956]\t[1.49113749]\n",
            "[1.54248547]\t[5.11850611]\n",
            "[1.55082358]\t[3.57101043]\n",
            "[-1.92852508]\t[2.47533854]\n",
            "[-0.25629943]\t[1.48467778]\n",
            "[-2.89337758]\t[4.97613043]\n",
            "[1.20201782]\t[5.72660022]\n",
            "[-0.16612486]\t[0.81750456]\n",
            "[-2.02191587]\t[2.52085697]\n",
            "[1.65109189]\t[5.3625478]\n",
            "[-0.93123619]\t[2.87790178]\n",
            "[-2.3329121]\t[3.46127938]\n",
            "[-2.88498537]\t[6.27882007]\n",
            "[-0.58098769]\t[1.08298761]\n",
            "[-1.13310847]\t[0.48733913]\n",
            "[-2.42513348]\t[3.13715157]\n",
            "[-1.50130201]\t[2.24310841]\n",
            "[-0.34242552]\t[1.6517829]\n",
            "[2.78160069]\t[9.34117356]\n",
            "[-0.07166588]\t[2.69529941]\n",
            "[0.44119791]\t[2.34514645]\n",
            "[-2.65397705]\t[4.11994497]\n",
            "[-0.84609791]\t[3.88669463]\n",
            "[-1.47473998]\t[3.13299291]\n",
            "[2.12215658]\t[7.92922221]\n",
            "[-2.47951275]\t[3.82128308]\n",
            "[1.04549424]\t[3.18864793]\n",
            "[2.1145744]\t[5.45085418]\n",
            "[1.58228314]\t[5.21209536]\n",
            "[-1.27481837]\t[-0.09902295]\n",
            "[0.66867483]\t[1.79866954]\n",
            "[2.98913174]\t[9.72813476]\n",
            "[0.17788748]\t[1.96702863]\n",
            "[-1.51172507]\t[1.64651817]\n",
            "[2.85133125]\t[10.61522743]\n",
            "[-2.83440586]\t[7.52471891]\n",
            "[-2.86344432]\t[5.77239974]\n",
            "[-0.66455073]\t[0.90362159]\n",
            "[1.24622561]\t[3.67737833]\n",
            "[-1.05960352]\t[2.54552817]\n",
            "[2.33203898]\t[9.97866225]\n",
            "[1.59721069]\t[6.36510976]\n",
            "[1.14062093]\t[3.83136451]\n"
          ]
        }
      ]
    },
    {
      "cell_type": "code",
      "source": [
        "plt.scatter(x,y , c = 'blue')\n",
        "plt.xlabel ('X')\n",
        "plt.ylabel ('Y')"
      ],
      "metadata": {
        "colab": {
          "base_uri": "https://localhost:8080/",
          "height": 466
        },
        "id": "DpMc2WhMoBpt",
        "outputId": "70331ab7-3afa-4b52-98b2-f0cd58cb56df"
      },
      "execution_count": 39,
      "outputs": [
        {
          "output_type": "execute_result",
          "data": {
            "text/plain": [
              "Text(0, 0.5, 'Y')"
            ]
          },
          "metadata": {},
          "execution_count": 39
        },
        {
          "output_type": "display_data",
          "data": {
            "text/plain": [
              "<Figure size 640x480 with 1 Axes>"
            ],
            "image/png": "[encoded data removed]"
          },
          "metadata": {}
        }
      ]
    },
    {
      "cell_type": "code",
      "source": [
        "# train test split\n",
        "x_train , x_test , y_train , y_test = train_test_split(x , y , test_size = 0.2 , random_state = 2)"
      ],
      "metadata": {
        "id": "b5OIvWVsoYkj"
      },
      "execution_count": 31,
      "outputs": []
    },
    {
      "cell_type": "code",
      "source": [
        "print(x_train.shape)\n",
        "print(y_train.shape)\n",
        "print(x_test.shape)\n",
        "print(y_test.shape)"
      ],
      "metadata": {
        "colab": {
          "base_uri": "https://localhost:8080/"
        },
        "id": "o9TkGZWLp_Ee",
        "outputId": "dae3d5e3-236e-4099-d22a-f2860507892d"
      },
      "execution_count": 34,
      "outputs": [
        {
          "output_type": "stream",
          "name": "stdout",
          "text": [
            "(160, 1)\n",
            "(160, 1)\n",
            "(40, 1)\n",
            "(40, 1)\n"
          ]
        }
      ]
    },
    {
      "cell_type": "code",
      "source": [
        "# applying linear regression\n",
        "lr = LinearRegression ()"
      ],
      "metadata": {
        "id": "TrfYeiiLqHAl"
      },
      "execution_count": 35,
      "outputs": []
    },
    {
      "cell_type": "code",
      "source": [
        "lr.fit(x_train , y_train)"
      ],
      "metadata": {
        "colab": {
          "base_uri": "https://localhost:8080/",
          "height": 75
        },
        "id": "Q7_Pi6UVqUgM",
        "outputId": "b2025500-5736-4570-a34d-1e2754f46850"
      },
      "execution_count": 36,
      "outputs": [
        {
          "output_type": "execute_result",
          "data": {
            "text/plain": [
              "LinearRegression()"
            ],
            "text/html": [
              "<style>#sk-container-id-1 {color: black;background-color: white;}#sk-container-id-1 pre{padding: 0;}#sk-container-id-1 div.sk-toggleable {background-color: white;}#sk-container-id-1 label.sk-toggleable__label {cursor: pointer;display: block;width: 100%;margin-bottom: 0;padding: 0.3em;box-sizing: border-box;text-align: center;}#sk-container-id-1 label.sk-toggleable__label-arrow:before {content: \"▸\";float: left;margin-right: 0.25em;color: #696969;}#sk-container-id-1 label.sk-toggleable__label-arrow:hover:before {color: black;}#sk-container-id-1 div.sk-estimator:hover label.sk-toggleable__label-arrow:before {color: black;}#sk-container-id-1 div.sk-toggleable__content {max-height: 0;max-width: 0;overflow: hidden;text-align: left;background-color: #f0f8ff;}#sk-container-id-1 div.sk-toggleable__content pre {margin: 0.2em;color: black;border-radius: 0.25em;background-color: #f0f8ff;}#sk-container-id-1 input.sk-toggleable__control:checked~div.sk-toggleable__content {max-height: 200px;max-width: 100%;overflow: auto;}#sk-container-id-1 input.sk-toggleable__control:checked~label.sk-toggleable__label-arrow:before {content: \"▾\";}#sk-container-id-1 div.sk-estimator input.sk-toggleable__control:checked~label.sk-toggleable__label {background-color: #d4ebff;}#sk-container-id-1 div.sk-label input.sk-toggleable__control:checked~label.sk-toggleable__label {background-color: #d4ebff;}#sk-container-id-1 input.sk-hidden--visually {border: 0;clip: rect(1px 1px 1px 1px);clip: rect(1px, 1px, 1px, 1px);height: 1px;margin: -1px;overflow: hidden;padding: 0;position: absolute;width: 1px;}#sk-container-id-1 div.sk-estimator {font-family: monospace;background-color: #f0f8ff;border: 1px dotted black;border-radius: 0.25em;box-sizing: border-box;margin-bottom: 0.5em;}#sk-container-id-1 div.sk-estimator:hover {background-color: #d4ebff;}#sk-container-id-1 div.sk-parallel-item::after {content: \"\";width: 100%;border-bottom: 1px solid gray;flex-grow: 1;}#sk-container-id-1 div.sk-label:hover label.sk-toggleable__label {background-color: #d4ebff;}#sk-container-id-1 div.sk-serial::before {content: \"\";position: absolute;border-left: 1px solid gray;box-sizing: border-box;top: 0;bottom: 0;left: 50%;z-index: 0;}#sk-container-id-1 div.sk-serial {display: flex;flex-direction: column;align-items: center;background-color: white;padding-right: 0.2em;padding-left: 0.2em;position: relative;}#sk-container-id-1 div.sk-item {position: relative;z-index: 1;}#sk-container-id-1 div.sk-parallel {display: flex;align-items: stretch;justify-content: center;background-color: white;position: relative;}#sk-container-id-1 div.sk-item::before, #sk-container-id-1 div.sk-parallel-item::before {content: \"\";position: absolute;border-left: 1px solid gray;box-sizing: border-box;top: 0;bottom: 0;left: 50%;z-index: -1;}#sk-container-id-1 div.sk-parallel-item {display: flex;flex-direction: column;z-index: 1;position: relative;background-color: white;}#sk-container-id-1 div.sk-parallel-item:first-child::after {align-self: flex-end;width: 50%;}#sk-container-id-1 div.sk-parallel-item:last-child::after {align-self: flex-start;width: 50%;}#sk-container-id-1 div.sk-parallel-item:only-child::after {width: 0;}#sk-container-id-1 div.sk-dashed-wrapped {border: 1px dashed gray;margin: 0 0.4em 0.5em 0.4em;box-sizing: border-box;padding-bottom: 0.4em;background-color: white;}#sk-container-id-1 div.sk-label label {font-family: monospace;font-weight: bold;display: inline-block;line-height: 1.2em;}#sk-container-id-1 div.sk-label-container {text-align: center;}#sk-container-id-1 div.sk-container {/* jupyter's `normalize.less` sets `[hidden] { display: none; }` but bootstrap.min.css set `[hidden] { display: none !important; }` so we also need the `!important` here to be able to override the default hidden behavior on the sphinx rendered scikit-learn.org. See: https://github.com/scikit-learn/scikit-learn/issues/21755 */display: inline-block !important;position: relative;}#sk-container-id-1 div.sk-text-repr-fallback {display: none;}</style><div id=\"sk-container-id-1\" class=\"sk-top-container\"><div class=\"sk-text-repr-fallback\"><pre>LinearRegression()</pre><b>In a Jupyter environment, please rerun this cell to show the HTML representation or trust the notebook. <br />On GitHub, the HTML representation is unable to render, please try loading this page with nbviewer.org.</b></div><div class=\"sk-container\" hidden><div class=\"sk-item\"><div class=\"sk-estimator sk-toggleable\"><input class=\"sk-toggleable__control sk-hidden--visually\" id=\"sk-estimator-id-1\" type=\"checkbox\" checked><label for=\"sk-estimator-id-1\" class=\"sk-toggleable__label sk-toggleable__label-arrow\">LinearRegression</label><div class=\"sk-toggleable__content\"><pre>LinearRegression()</pre></div></div></div></div></div>"
            ]
          },
          "metadata": {},
          "execution_count": 36
        }
      ]
    },
    {
      "cell_type": "code",
      "source": [
        "y_pred = lr.predict (x_test)\n",
        "y_pred"
      ],
      "metadata": {
        "colab": {
          "base_uri": "https://localhost:8080/"
        },
        "id": "oMo0ExqgqXD8",
        "outputId": "a3651af9-b102-42ea-b2a4-0f68a6b5725d"
      },
      "execution_count": 37,
      "outputs": [
        {
          "output_type": "execute_result",
          "data": {
            "text/plain": [
              "array([[6.87932547],\n",
              "       [7.42359652],\n",
              "       [1.94236902],\n",
              "       [5.63598634],\n",
              "       [1.55064417],\n",
              "       [2.88681168],\n",
              "       [6.14880103],\n",
              "       [7.44471124],\n",
              "       [1.97539986],\n",
              "       [6.93905019],\n",
              "       [2.71221556],\n",
              "       [3.15866607],\n",
              "       [4.39918134],\n",
              "       [4.95579421],\n",
              "       [4.12283612],\n",
              "       [2.01686059],\n",
              "       [4.91886676],\n",
              "       [4.2401034 ],\n",
              "       [4.51617853],\n",
              "       [7.27008711],\n",
              "       [7.31734605],\n",
              "       [5.28613852],\n",
              "       [1.73863817],\n",
              "       [7.00517723],\n",
              "       [2.40925447],\n",
              "       [2.94043606],\n",
              "       [4.70488507],\n",
              "       [7.14853507],\n",
              "       [2.39110843],\n",
              "       [3.28577488],\n",
              "       [1.76436333],\n",
              "       [7.11203976],\n",
              "       [2.84806959],\n",
              "       [5.78781035],\n",
              "       [3.31768166],\n",
              "       [6.2971416 ],\n",
              "       [6.32751857],\n",
              "       [4.3990918 ],\n",
              "       [5.27880299],\n",
              "       [3.77323677]])"
            ]
          },
          "metadata": {},
          "execution_count": 37
        }
      ]
    },
    {
      "cell_type": "code",
      "source": [
        "r2_score(y_test , y_pred)"
      ],
      "metadata": {
        "colab": {
          "base_uri": "https://localhost:8080/"
        },
        "id": "fThr4OfNqcYc",
        "outputId": "bacf0610-2f33-4983-ce1b-198c20a4b1b5"
      },
      "execution_count": 38,
      "outputs": [
        {
          "output_type": "execute_result",
          "data": {
            "text/plain": [
              "0.4254300439393718"
            ]
          },
          "metadata": {},
          "execution_count": 38
        }
      ]
    },
    {
      "cell_type": "code",
      "source": [
        "plt.scatter (x,y,c= 'blue')\n",
        "plt.plot(x_test,lr.predict(x_test) , c = 'red')\n",
        "plt.title('Best Fit Line')\n",
        "plt.xlabel('X')\n",
        "plt.ylabel('Y')"
      ],
      "metadata": {
        "colab": {
          "base_uri": "https://localhost:8080/",
          "height": 489
        },
        "id": "pIgHa94yqf28",
        "outputId": "e6d9a082-fee6-4892-b673-f9210c2a8d24"
      },
      "execution_count": 44,
      "outputs": [
        {
          "output_type": "execute_result",
          "data": {
            "text/plain": [
              "Text(0, 0.5, 'Y')"
            ]
          },
          "metadata": {},
          "execution_count": 44
        },
        {
          "output_type": "display_data",
          "data": {
            "text/plain": [
              "<Figure size 640x480 with 1 Axes>"
            ],
            "image/png": "[encoded data removed]"
          },
          "metadata": {}
        }
      ]
    },
    {
      "cell_type": "markdown",
      "source": [
        "# applying Polynomial linear regression <br> degree 2"
      ],
      "metadata": {
        "id": "WE-XeItTrKQ2"
      }
    },
    {
      "cell_type": "markdown",
      "source": [
        "if degree is less then it cause underfitting <br>\n",
        "and if degree is too much more then it cuase overfitting"
      ],
      "metadata": {
        "id": "k5Y3wC-VxEFh"
      }
    },
    {
      "cell_type": "code",
      "source": [
        "# if include_bias = False then x ^ 0 nahi aayega\n",
        "poly = PolynomialFeatures(degree = 2 , include_bias = True)\n",
        "\n",
        "x_train_trans = poly.fit_transform(x_train)\n",
        "x_test_trans = poly.transform(x_test)"
      ],
      "metadata": {
        "id": "xvGU1WUDq0Eu"
      },
      "execution_count": 53,
      "outputs": []
    },
    {
      "cell_type": "code",
      "source": [
        "print(x_train_trans.shape)\n",
        "print(x_test_trans.shape)"
      ],
      "metadata": {
        "colab": {
          "base_uri": "https://localhost:8080/"
        },
        "id": "ATNtHzGHrsqI",
        "outputId": "db755df2-0842-41d2-e2ef-3e692199ba9e"
      },
      "execution_count": 46,
      "outputs": [
        {
          "output_type": "stream",
          "name": "stdout",
          "text": [
            "(160, 3)\n",
            "(40, 3)\n"
          ]
        }
      ]
    },
    {
      "cell_type": "code",
      "source": [
        "# x_train ka ek value ko 3 me convert kar diya\n",
        "# first is [ x ^ 0  , x ^ 1 , x ^ 2]  for degree = 2\n",
        "\n",
        "print(x_train[0])\n",
        "print(x_train_trans[0])"
      ],
      "metadata": {
        "colab": {
          "base_uri": "https://localhost:8080/"
        },
        "id": "FgOvClLVsCoj",
        "outputId": "4834fe88-11bc-4e42-8235-1728f525dfa1"
      },
      "execution_count": 52,
      "outputs": [
        {
          "output_type": "stream",
          "name": "stdout",
          "text": [
            "[-2.24714689]\n",
            "[ 1.         -2.24714689  5.04966913]\n"
          ]
        }
      ]
    },
    {
      "cell_type": "code",
      "source": [
        "x_train"
      ],
      "metadata": {
        "colab": {
          "base_uri": "https://localhost:8080/"
        },
        "id": "K9i9B5Xgr8_C",
        "outputId": "aa9b527f-357f-4f74-d95c-cb8c9a2b0472"
      },
      "execution_count": 48,
      "outputs": [
        {
          "output_type": "execute_result",
          "data": {
            "text/plain": [
              "array([[-2.24714689],\n",
              "       [ 1.20201782],\n",
              "       [ 2.75354238],\n",
              "       [ 0.62267939],\n",
              "       [-1.5358409 ],\n",
              "       [-1.46025563],\n",
              "       [ 1.22951307],\n",
              "       [ 1.69217424],\n",
              "       [-1.25109642],\n",
              "       [ 2.04465506],\n",
              "       [ 1.55082358],\n",
              "       [-2.56542875],\n",
              "       [-1.20661313],\n",
              "       [ 0.66867483],\n",
              "       [ 2.05134992],\n",
              "       [ 1.17244195],\n",
              "       [ 1.28261567],\n",
              "       [ 2.58334036],\n",
              "       [-2.42513348],\n",
              "       [ 2.78160069],\n",
              "       [-1.39703683],\n",
              "       [ 2.02864942],\n",
              "       [ 0.09604376],\n",
              "       [-2.8646311 ],\n",
              "       [-2.88498537],\n",
              "       [ 0.76073018],\n",
              "       [ 2.1145744 ],\n",
              "       [-1.77761914],\n",
              "       [-2.16657495],\n",
              "       [ 0.33811473],\n",
              "       [-1.47473998],\n",
              "       [ 1.65109189],\n",
              "       [ 0.5352908 ],\n",
              "       [-1.63572954],\n",
              "       [-1.48859656],\n",
              "       [-1.50015841],\n",
              "       [-2.83440586],\n",
              "       [-2.66646874],\n",
              "       [-1.92852508],\n",
              "       [ 2.98913174],\n",
              "       [ 2.63276984],\n",
              "       [-0.65889032],\n",
              "       [-1.13310847],\n",
              "       [-0.84609791],\n",
              "       [ 1.86451829],\n",
              "       [-1.25991606],\n",
              "       [ 2.93714743],\n",
              "       [-0.93334956],\n",
              "       [-2.61196574],\n",
              "       [-2.13232105],\n",
              "       [-2.11218791],\n",
              "       [ 1.54248547],\n",
              "       [-0.81020564],\n",
              "       [-2.17692184],\n",
              "       [ 1.6354518 ],\n",
              "       [ 1.71694771],\n",
              "       [ 0.79255153],\n",
              "       [-1.33039819],\n",
              "       [ 2.29075112],\n",
              "       [ 2.12215658],\n",
              "       [-0.33584955],\n",
              "       [-2.21115427],\n",
              "       [-2.21355692],\n",
              "       [ 2.85133125],\n",
              "       [-2.96271525],\n",
              "       [-1.34417083],\n",
              "       [-0.00607472],\n",
              "       [ 1.76766757],\n",
              "       [-1.36351505],\n",
              "       [-0.08146058],\n",
              "       [ 0.92242551],\n",
              "       [ 1.4816999 ],\n",
              "       [ 0.07888182],\n",
              "       [ 2.33203898],\n",
              "       [-1.13900639],\n",
              "       [-1.51172507],\n",
              "       [-0.25629943],\n",
              "       [ 0.20984722],\n",
              "       [-1.05960352],\n",
              "       [ 2.49675809],\n",
              "       [ 0.38119847],\n",
              "       [ 1.66772914],\n",
              "       [-1.06318577],\n",
              "       [-2.40702396],\n",
              "       [ 2.64753146],\n",
              "       [ 1.88046947],\n",
              "       [-0.16612486],\n",
              "       [ 2.85932147],\n",
              "       [-1.35496352],\n",
              "       [-1.2706876 ],\n",
              "       [-0.09211045],\n",
              "       [ 1.78351757],\n",
              "       [-0.86255484],\n",
              "       [-1.64605809],\n",
              "       [-1.59315264],\n",
              "       [ 1.3883811 ],\n",
              "       [ 2.31411268],\n",
              "       [ 2.37758218],\n",
              "       [-1.39855164],\n",
              "       [ 0.24135738],\n",
              "       [ 2.78061662],\n",
              "       [ 0.29233281],\n",
              "       [-2.12537983],\n",
              "       [ 1.78032913],\n",
              "       [ 1.24622561],\n",
              "       [ 2.70401141],\n",
              "       [-2.82125377],\n",
              "       [-1.86526263],\n",
              "       [-0.71413406],\n",
              "       [ 0.08700207],\n",
              "       [ 2.41833557],\n",
              "       [-0.13907577],\n",
              "       [-0.58501663],\n",
              "       [-2.62178959],\n",
              "       [ 1.59721069],\n",
              "       [-1.33599443],\n",
              "       [-0.13774644],\n",
              "       [-2.76308668],\n",
              "       [-1.27481837],\n",
              "       [ 2.48704374],\n",
              "       [-1.14083465],\n",
              "       [-1.4513317 ],\n",
              "       [ 0.89159099],\n",
              "       [ 1.58228314],\n",
              "       [-0.66563399],\n",
              "       [ 0.17788748],\n",
              "       [-1.63445772],\n",
              "       [ 2.77880027],\n",
              "       [ 2.37769025],\n",
              "       [ 2.98778101],\n",
              "       [ 1.04549424],\n",
              "       [ 1.55874487],\n",
              "       [ 2.56785326],\n",
              "       [ 0.69724658],\n",
              "       [ 0.58152708],\n",
              "       [-2.83619973],\n",
              "       [ 2.80931107],\n",
              "       [-0.58098769],\n",
              "       [ 0.56732804],\n",
              "       [ 1.44584711],\n",
              "       [-0.93123619],\n",
              "       [-1.90009649],\n",
              "       [-0.61866598],\n",
              "       [-2.55368719],\n",
              "       [-2.14701743],\n",
              "       [-1.95599462],\n",
              "       [ 1.83562081],\n",
              "       [-2.70346554],\n",
              "       [-0.66455073],\n",
              "       [-1.10946602],\n",
              "       [ 0.44119791],\n",
              "       [-2.89337758],\n",
              "       [ 2.38249737],\n",
              "       [-0.39311445],\n",
              "       [-0.89803832],\n",
              "       [ 1.02580001],\n",
              "       [-0.98075057],\n",
              "       [-1.68879337],\n",
              "       [ 2.33307454],\n",
              "       [-2.3329121 ]])"
            ]
          },
          "metadata": {},
          "execution_count": 48
        }
      ]
    },
    {
      "cell_type": "code",
      "source": [
        "x_train_trans"
      ],
      "metadata": {
        "colab": {
          "base_uri": "https://localhost:8080/"
        },
        "id": "MPRq2pWYr1vv",
        "outputId": "a632965a-11f5-44fd-d435-23a8f780f5a7"
      },
      "execution_count": 47,
      "outputs": [
        {
          "output_type": "execute_result",
          "data": {
            "text/plain": [
              "array([[ 1.00000000e+00, -2.24714689e+00,  5.04966913e+00],\n",
              "       [ 1.00000000e+00,  1.20201782e+00,  1.44484684e+00],\n",
              "       [ 1.00000000e+00,  2.75354238e+00,  7.58199563e+00],\n",
              "       [ 1.00000000e+00,  6.22679391e-01,  3.87729624e-01],\n",
              "       [ 1.00000000e+00, -1.53584090e+00,  2.35880727e+00],\n",
              "       [ 1.00000000e+00, -1.46025563e+00,  2.13234652e+00],\n",
              "       [ 1.00000000e+00,  1.22951307e+00,  1.51170239e+00],\n",
              "       [ 1.00000000e+00,  1.69217424e+00,  2.86345367e+00],\n",
              "       [ 1.00000000e+00, -1.25109642e+00,  1.56524226e+00],\n",
              "       [ 1.00000000e+00,  2.04465506e+00,  4.18061431e+00],\n",
              "       [ 1.00000000e+00,  1.55082358e+00,  2.40505379e+00],\n",
              "       [ 1.00000000e+00, -2.56542875e+00,  6.58142467e+00],\n",
              "       [ 1.00000000e+00, -1.20661313e+00,  1.45591524e+00],\n",
              "       [ 1.00000000e+00,  6.68674833e-01,  4.47126032e-01],\n",
              "       [ 1.00000000e+00,  2.05134992e+00,  4.20803649e+00],\n",
              "       [ 1.00000000e+00,  1.17244195e+00,  1.37462012e+00],\n",
              "       [ 1.00000000e+00,  1.28261567e+00,  1.64510295e+00],\n",
              "       [ 1.00000000e+00,  2.58334036e+00,  6.67364744e+00],\n",
              "       [ 1.00000000e+00, -2.42513348e+00,  5.88127240e+00],\n",
              "       [ 1.00000000e+00,  2.78160069e+00,  7.73730240e+00],\n",
              "       [ 1.00000000e+00, -1.39703683e+00,  1.95171190e+00],\n",
              "       [ 1.00000000e+00,  2.02864942e+00,  4.11541848e+00],\n",
              "       [ 1.00000000e+00,  9.60437627e-02,  9.22440435e-03],\n",
              "       [ 1.00000000e+00, -2.86463110e+00,  8.20611135e+00],\n",
              "       [ 1.00000000e+00, -2.88498537e+00,  8.32314058e+00],\n",
              "       [ 1.00000000e+00,  7.60730183e-01,  5.78710411e-01],\n",
              "       [ 1.00000000e+00,  2.11457440e+00,  4.47142490e+00],\n",
              "       [ 1.00000000e+00, -1.77761914e+00,  3.15992981e+00],\n",
              "       [ 1.00000000e+00, -2.16657495e+00,  4.69404703e+00],\n",
              "       [ 1.00000000e+00,  3.38114728e-01,  1.14321569e-01],\n",
              "       [ 1.00000000e+00, -1.47473998e+00,  2.17485802e+00],\n",
              "       [ 1.00000000e+00,  1.65109189e+00,  2.72610442e+00],\n",
              "       [ 1.00000000e+00,  5.35290800e-01,  2.86536241e-01],\n",
              "       [ 1.00000000e+00, -1.63572954e+00,  2.67561113e+00],\n",
              "       [ 1.00000000e+00, -1.48859656e+00,  2.21591972e+00],\n",
              "       [ 1.00000000e+00, -1.50015841e+00,  2.25047525e+00],\n",
              "       [ 1.00000000e+00, -2.83440586e+00,  8.03385658e+00],\n",
              "       [ 1.00000000e+00, -2.66646874e+00,  7.11005554e+00],\n",
              "       [ 1.00000000e+00, -1.92852508e+00,  3.71920900e+00],\n",
              "       [ 1.00000000e+00,  2.98913174e+00,  8.93490854e+00],\n",
              "       [ 1.00000000e+00,  2.63276984e+00,  6.93147703e+00],\n",
              "       [ 1.00000000e+00, -6.58890323e-01,  4.34136458e-01],\n",
              "       [ 1.00000000e+00, -1.13310847e+00,  1.28393480e+00],\n",
              "       [ 1.00000000e+00, -8.46097912e-01,  7.15881677e-01],\n",
              "       [ 1.00000000e+00,  1.86451829e+00,  3.47642847e+00],\n",
              "       [ 1.00000000e+00, -1.25991606e+00,  1.58738849e+00],\n",
              "       [ 1.00000000e+00,  2.93714743e+00,  8.62683504e+00],\n",
              "       [ 1.00000000e+00, -9.33349561e-01,  8.71141403e-01],\n",
              "       [ 1.00000000e+00, -2.61196574e+00,  6.82236504e+00],\n",
              "       [ 1.00000000e+00, -2.13232105e+00,  4.54679304e+00],\n",
              "       [ 1.00000000e+00, -2.11218791e+00,  4.46133777e+00],\n",
              "       [ 1.00000000e+00,  1.54248547e+00,  2.37926141e+00],\n",
              "       [ 1.00000000e+00, -8.10205635e-01,  6.56433171e-01],\n",
              "       [ 1.00000000e+00, -2.17692184e+00,  4.73898868e+00],\n",
              "       [ 1.00000000e+00,  1.63545180e+00,  2.67470261e+00],\n",
              "       [ 1.00000000e+00,  1.71694771e+00,  2.94790944e+00],\n",
              "       [ 1.00000000e+00,  7.92551526e-01,  6.28137922e-01],\n",
              "       [ 1.00000000e+00, -1.33039819e+00,  1.76995935e+00],\n",
              "       [ 1.00000000e+00,  2.29075112e+00,  5.24754069e+00],\n",
              "       [ 1.00000000e+00,  2.12215658e+00,  4.50354854e+00],\n",
              "       [ 1.00000000e+00, -3.35849548e-01,  1.12794919e-01],\n",
              "       [ 1.00000000e+00, -2.21115427e+00,  4.88920323e+00],\n",
              "       [ 1.00000000e+00, -2.21355692e+00,  4.89983422e+00],\n",
              "       [ 1.00000000e+00,  2.85133125e+00,  8.13008989e+00],\n",
              "       [ 1.00000000e+00, -2.96271525e+00,  8.77768164e+00],\n",
              "       [ 1.00000000e+00, -1.34417083e+00,  1.80679521e+00],\n",
              "       [ 1.00000000e+00, -6.07471983e-03,  3.69022210e-05],\n",
              "       [ 1.00000000e+00,  1.76766757e+00,  3.12464865e+00],\n",
              "       [ 1.00000000e+00, -1.36351505e+00,  1.85917329e+00],\n",
              "       [ 1.00000000e+00, -8.14605789e-02,  6.63582591e-03],\n",
              "       [ 1.00000000e+00,  9.22425509e-01,  8.50868819e-01],\n",
              "       [ 1.00000000e+00,  1.48169990e+00,  2.19543459e+00],\n",
              "       [ 1.00000000e+00,  7.88818246e-02,  6.22234225e-03],\n",
              "       [ 1.00000000e+00,  2.33203898e+00,  5.43840582e+00],\n",
              "       [ 1.00000000e+00, -1.13900639e+00,  1.29733556e+00],\n",
              "       [ 1.00000000e+00, -1.51172507e+00,  2.28531269e+00],\n",
              "       [ 1.00000000e+00, -2.56299430e-01,  6.56893979e-02],\n",
              "       [ 1.00000000e+00,  2.09847224e-01,  4.40358576e-02],\n",
              "       [ 1.00000000e+00, -1.05960352e+00,  1.12275962e+00],\n",
              "       [ 1.00000000e+00,  2.49675809e+00,  6.23380096e+00],\n",
              "       [ 1.00000000e+00,  3.81198473e-01,  1.45312276e-01],\n",
              "       [ 1.00000000e+00,  1.66772914e+00,  2.78132049e+00],\n",
              "       [ 1.00000000e+00, -1.06318577e+00,  1.13036399e+00],\n",
              "       [ 1.00000000e+00, -2.40702396e+00,  5.79376435e+00],\n",
              "       [ 1.00000000e+00,  2.64753146e+00,  7.00942285e+00],\n",
              "       [ 1.00000000e+00,  1.88046947e+00,  3.53616541e+00],\n",
              "       [ 1.00000000e+00, -1.66124861e-01,  2.75974693e-02],\n",
              "       [ 1.00000000e+00,  2.85932147e+00,  8.17571925e+00],\n",
              "       [ 1.00000000e+00, -1.35496352e+00,  1.83592613e+00],\n",
              "       [ 1.00000000e+00, -1.27068760e+00,  1.61464697e+00],\n",
              "       [ 1.00000000e+00, -9.21104515e-02,  8.48433527e-03],\n",
              "       [ 1.00000000e+00,  1.78351757e+00,  3.18093494e+00],\n",
              "       [ 1.00000000e+00, -8.62554841e-01,  7.44000853e-01],\n",
              "       [ 1.00000000e+00, -1.64605809e+00,  2.70950724e+00],\n",
              "       [ 1.00000000e+00, -1.59315264e+00,  2.53813535e+00],\n",
              "       [ 1.00000000e+00,  1.38838110e+00,  1.92760208e+00],\n",
              "       [ 1.00000000e+00,  2.31411268e+00,  5.35511747e+00],\n",
              "       [ 1.00000000e+00,  2.37758218e+00,  5.65289703e+00],\n",
              "       [ 1.00000000e+00, -1.39855164e+00,  1.95594669e+00],\n",
              "       [ 1.00000000e+00,  2.41357379e-01,  5.82533845e-02],\n",
              "       [ 1.00000000e+00,  2.78061662e+00,  7.73182878e+00],\n",
              "       [ 1.00000000e+00,  2.92332814e-01,  8.54584741e-02],\n",
              "       [ 1.00000000e+00, -2.12537983e+00,  4.51723943e+00],\n",
              "       [ 1.00000000e+00,  1.78032913e+00,  3.16957180e+00],\n",
              "       [ 1.00000000e+00,  1.24622561e+00,  1.55307827e+00],\n",
              "       [ 1.00000000e+00,  2.70401141e+00,  7.31167769e+00],\n",
              "       [ 1.00000000e+00, -2.82125377e+00,  7.95947281e+00],\n",
              "       [ 1.00000000e+00, -1.86526263e+00,  3.47920466e+00],\n",
              "       [ 1.00000000e+00, -7.14134059e-01,  5.09987455e-01],\n",
              "       [ 1.00000000e+00,  8.70020665e-02,  7.56935958e-03],\n",
              "       [ 1.00000000e+00,  2.41833557e+00,  5.84834695e+00],\n",
              "       [ 1.00000000e+00, -1.39075767e-01,  1.93420689e-02],\n",
              "       [ 1.00000000e+00, -5.85016630e-01,  3.42244457e-01],\n",
              "       [ 1.00000000e+00, -2.62178959e+00,  6.87378066e+00],\n",
              "       [ 1.00000000e+00,  1.59721069e+00,  2.55108199e+00],\n",
              "       [ 1.00000000e+00, -1.33599443e+00,  1.78488112e+00],\n",
              "       [ 1.00000000e+00, -1.37746438e-01,  1.89740812e-02],\n",
              "       [ 1.00000000e+00, -2.76308668e+00,  7.63464798e+00],\n",
              "       [ 1.00000000e+00, -1.27481837e+00,  1.62516189e+00],\n",
              "       [ 1.00000000e+00,  2.48704374e+00,  6.18538656e+00],\n",
              "       [ 1.00000000e+00, -1.14083465e+00,  1.30150370e+00],\n",
              "       [ 1.00000000e+00, -1.45133170e+00,  2.10636371e+00],\n",
              "       [ 1.00000000e+00,  8.91590986e-01,  7.94934487e-01],\n",
              "       [ 1.00000000e+00,  1.58228314e+00,  2.50361995e+00],\n",
              "       [ 1.00000000e+00, -6.65633989e-01,  4.43068608e-01],\n",
              "       [ 1.00000000e+00,  1.77887481e-01,  3.16439559e-02],\n",
              "       [ 1.00000000e+00, -1.63445772e+00,  2.67145204e+00],\n",
              "       [ 1.00000000e+00,  2.77880027e+00,  7.72173094e+00],\n",
              "       [ 1.00000000e+00,  2.37769025e+00,  5.65341091e+00],\n",
              "       [ 1.00000000e+00,  2.98778101e+00,  8.92683537e+00],\n",
              "       [ 1.00000000e+00,  1.04549424e+00,  1.09305820e+00],\n",
              "       [ 1.00000000e+00,  1.55874487e+00,  2.42968556e+00],\n",
              "       [ 1.00000000e+00,  2.56785326e+00,  6.59387037e+00],\n",
              "       [ 1.00000000e+00,  6.97246585e-01,  4.86152800e-01],\n",
              "       [ 1.00000000e+00,  5.81527076e-01,  3.38173741e-01],\n",
              "       [ 1.00000000e+00, -2.83619973e+00,  8.04402894e+00],\n",
              "       [ 1.00000000e+00,  2.80931107e+00,  7.89222867e+00],\n",
              "       [ 1.00000000e+00, -5.80987692e-01,  3.37546698e-01],\n",
              "       [ 1.00000000e+00,  5.67328039e-01,  3.21861103e-01],\n",
              "       [ 1.00000000e+00,  1.44584711e+00,  2.09047386e+00],\n",
              "       [ 1.00000000e+00, -9.31236189e-01,  8.67200840e-01],\n",
              "       [ 1.00000000e+00, -1.90009649e+00,  3.61036665e+00],\n",
              "       [ 1.00000000e+00, -6.18665980e-01,  3.82747595e-01],\n",
              "       [ 1.00000000e+00, -2.55368719e+00,  6.52131827e+00],\n",
              "       [ 1.00000000e+00, -2.14701743e+00,  4.60968383e+00],\n",
              "       [ 1.00000000e+00, -1.95599462e+00,  3.82591496e+00],\n",
              "       [ 1.00000000e+00,  1.83562081e+00,  3.36950376e+00],\n",
              "       [ 1.00000000e+00, -2.70346554e+00,  7.30872593e+00],\n",
              "       [ 1.00000000e+00, -6.64550730e-01,  4.41627673e-01],\n",
              "       [ 1.00000000e+00, -1.10946602e+00,  1.23091484e+00],\n",
              "       [ 1.00000000e+00,  4.41197907e-01,  1.94655593e-01],\n",
              "       [ 1.00000000e+00, -2.89337758e+00,  8.37163381e+00],\n",
              "       [ 1.00000000e+00,  2.38249737e+00,  5.67629373e+00],\n",
              "       [ 1.00000000e+00, -3.93114448e-01,  1.54538969e-01],\n",
              "       [ 1.00000000e+00, -8.98038318e-01,  8.06472821e-01],\n",
              "       [ 1.00000000e+00,  1.02580001e+00,  1.05226565e+00],\n",
              "       [ 1.00000000e+00, -9.80750572e-01,  9.61871685e-01],\n",
              "       [ 1.00000000e+00, -1.68879337e+00,  2.85202303e+00],\n",
              "       [ 1.00000000e+00,  2.33307454e+00,  5.44323679e+00],\n",
              "       [ 1.00000000e+00, -2.33291210e+00,  5.44247888e+00]])"
            ]
          },
          "metadata": {},
          "execution_count": 47
        }
      ]
    },
    {
      "cell_type": "code",
      "source": [
        "poly_lr = LinearRegression()"
      ],
      "metadata": {
        "id": "BWLEtsgUr6bX"
      },
      "execution_count": 54,
      "outputs": []
    },
    {
      "cell_type": "code",
      "source": [
        "poly_lr.fit(x_train_trans , y_train)"
      ],
      "metadata": {
        "colab": {
          "base_uri": "https://localhost:8080/",
          "height": 75
        },
        "id": "GnMN3jKZs3xA",
        "outputId": "917d2b0b-0cc0-43a8-f481-5c1f98db423c"
      },
      "execution_count": 55,
      "outputs": [
        {
          "output_type": "execute_result",
          "data": {
            "text/plain": [
              "LinearRegression()"
            ],
            "text/html": [
              "<style>#sk-container-id-2 {color: black;background-color: white;}#sk-container-id-2 pre{padding: 0;}#sk-container-id-2 div.sk-toggleable {background-color: white;}#sk-container-id-2 label.sk-toggleable__label {cursor: pointer;display: block;width: 100%;margin-bottom: 0;padding: 0.3em;box-sizing: border-box;text-align: center;}#sk-container-id-2 label.sk-toggleable__label-arrow:before {content: \"▸\";float: left;margin-right: 0.25em;color: #696969;}#sk-container-id-2 label.sk-toggleable__label-arrow:hover:before {color: black;}#sk-container-id-2 div.sk-estimator:hover label.sk-toggleable__label-arrow:before {color: black;}#sk-container-id-2 div.sk-toggleable__content {max-height: 0;max-width: 0;overflow: hidden;text-align: left;background-color: #f0f8ff;}#sk-container-id-2 div.sk-toggleable__content pre {margin: 0.2em;color: black;border-radius: 0.25em;background-color: #f0f8ff;}#sk-container-id-2 input.sk-toggleable__control:checked~div.sk-toggleable__content {max-height: 200px;max-width: 100%;overflow: auto;}#sk-container-id-2 input.sk-toggleable__control:checked~label.sk-toggleable__label-arrow:before {content: \"▾\";}#sk-container-id-2 div.sk-estimator input.sk-toggleable__control:checked~label.sk-toggleable__label {background-color: #d4ebff;}#sk-container-id-2 div.sk-label input.sk-toggleable__control:checked~label.sk-toggleable__label {background-color: #d4ebff;}#sk-container-id-2 input.sk-hidden--visually {border: 0;clip: rect(1px 1px 1px 1px);clip: rect(1px, 1px, 1px, 1px);height: 1px;margin: -1px;overflow: hidden;padding: 0;position: absolute;width: 1px;}#sk-container-id-2 div.sk-estimator {font-family: monospace;background-color: #f0f8ff;border: 1px dotted black;border-radius: 0.25em;box-sizing: border-box;margin-bottom: 0.5em;}#sk-container-id-2 div.sk-estimator:hover {background-color: #d4ebff;}#sk-container-id-2 div.sk-parallel-item::after {content: \"\";width: 100%;border-bottom: 1px solid gray;flex-grow: 1;}#sk-container-id-2 div.sk-label:hover label.sk-toggleable__label {background-color: #d4ebff;}#sk-container-id-2 div.sk-serial::before {content: \"\";position: absolute;border-left: 1px solid gray;box-sizing: border-box;top: 0;bottom: 0;left: 50%;z-index: 0;}#sk-container-id-2 div.sk-serial {display: flex;flex-direction: column;align-items: center;background-color: white;padding-right: 0.2em;padding-left: 0.2em;position: relative;}#sk-container-id-2 div.sk-item {position: relative;z-index: 1;}#sk-container-id-2 div.sk-parallel {display: flex;align-items: stretch;justify-content: center;background-color: white;position: relative;}#sk-container-id-2 div.sk-item::before, #sk-container-id-2 div.sk-parallel-item::before {content: \"\";position: absolute;border-left: 1px solid gray;box-sizing: border-box;top: 0;bottom: 0;left: 50%;z-index: -1;}#sk-container-id-2 div.sk-parallel-item {display: flex;flex-direction: column;z-index: 1;position: relative;background-color: white;}#sk-container-id-2 div.sk-parallel-item:first-child::after {align-self: flex-end;width: 50%;}#sk-container-id-2 div.sk-parallel-item:last-child::after {align-self: flex-start;width: 50%;}#sk-container-id-2 div.sk-parallel-item:only-child::after {width: 0;}#sk-container-id-2 div.sk-dashed-wrapped {border: 1px dashed gray;margin: 0 0.4em 0.5em 0.4em;box-sizing: border-box;padding-bottom: 0.4em;background-color: white;}#sk-container-id-2 div.sk-label label {font-family: monospace;font-weight: bold;display: inline-block;line-height: 1.2em;}#sk-container-id-2 div.sk-label-container {text-align: center;}#sk-container-id-2 div.sk-container {/* jupyter's `normalize.less` sets `[hidden] { display: none; }` but bootstrap.min.css set `[hidden] { display: none !important; }` so we also need the `!important` here to be able to override the default hidden behavior on the sphinx rendered scikit-learn.org. See: https://github.com/scikit-learn/scikit-learn/issues/21755 */display: inline-block !important;position: relative;}#sk-container-id-2 div.sk-text-repr-fallback {display: none;}</style><div id=\"sk-container-id-2\" class=\"sk-top-container\"><div class=\"sk-text-repr-fallback\"><pre>LinearRegression()</pre><b>In a Jupyter environment, please rerun this cell to show the HTML representation or trust the notebook. <br />On GitHub, the HTML representation is unable to render, please try loading this page with nbviewer.org.</b></div><div class=\"sk-container\" hidden><div class=\"sk-item\"><div class=\"sk-estimator sk-toggleable\"><input class=\"sk-toggleable__control sk-hidden--visually\" id=\"sk-estimator-id-2\" type=\"checkbox\" checked><label for=\"sk-estimator-id-2\" class=\"sk-toggleable__label sk-toggleable__label-arrow\">LinearRegression</label><div class=\"sk-toggleable__content\"><pre>LinearRegression()</pre></div></div></div></div></div>"
            ]
          },
          "metadata": {},
          "execution_count": 55
        }
      ]
    },
    {
      "cell_type": "code",
      "source": [
        "y_pred = poly_lr.predict(x_test_trans)\n",
        "y_pred"
      ],
      "metadata": {
        "colab": {
          "base_uri": "https://localhost:8080/"
        },
        "id": "XN9R4wu8s9SM",
        "outputId": "33717e61-d8ec-42c1-a6b8-4aa9292fd77d"
      },
      "execution_count": 56,
      "outputs": [
        {
          "output_type": "execute_result",
          "data": {
            "text/plain": [
              "array([[ 8.54170572],\n",
              "       [11.29887989],\n",
              "       [ 4.59429161],\n",
              "       [ 3.97312296],\n",
              "       [ 5.90576668],\n",
              "       [ 2.41455568],\n",
              "       [ 5.56584921],\n",
              "       [11.41513482],\n",
              "       [ 4.49462611],\n",
              "       [ 8.82173525],\n",
              "       [ 2.71289844],\n",
              "       [ 2.04448844],\n",
              "       [ 1.81606537],\n",
              "       [ 2.49214801],\n",
              "       [ 1.65956711],\n",
              "       [ 4.37192862],\n",
              "       [ 2.43235775],\n",
              "       [ 1.71145764],\n",
              "       [ 1.91814163],\n",
              "       [10.47454118],\n",
              "       [10.72441133],\n",
              "       [ 3.12145042],\n",
              "       [ 5.24656176],\n",
              "       [ 9.1382606 ],\n",
              "       [ 3.34319694],\n",
              "       [ 2.33244996],\n",
              "       [ 2.12768295],\n",
              "       [ 9.84783534],\n",
              "       [ 3.38548428],\n",
              "       [ 1.91092987],\n",
              "       [ 5.16063522],\n",
              "       [ 9.66415989],\n",
              "       [ 2.47666   ],\n",
              "       [ 4.40200737],\n",
              "       [ 1.88135312],\n",
              "       [ 6.10290935],\n",
              "       [ 6.21711327],\n",
              "       [ 1.81599541],\n",
              "       [ 3.10563207],\n",
              "       [ 1.63190749]])"
            ]
          },
          "metadata": {},
          "execution_count": 56
        }
      ]
    },
    {
      "cell_type": "code",
      "source": [
        "r2_score(y_test , y_pred)"
      ],
      "metadata": {
        "colab": {
          "base_uri": "https://localhost:8080/"
        },
        "id": "jvRKDHjQtFcb",
        "outputId": "16bd08a2-5eee-4a9e-aae3-0f327fb3cfd3"
      },
      "execution_count": 58,
      "outputs": [
        {
          "output_type": "execute_result",
          "data": {
            "text/plain": [
              "0.93396107896148"
            ]
          },
          "metadata": {},
          "execution_count": 58
        }
      ]
    },
    {
      "cell_type": "code",
      "source": [
        "poly_lr.coef_"
      ],
      "metadata": {
        "colab": {
          "base_uri": "https://localhost:8080/"
        },
        "id": "-R3zE44otPPz",
        "outputId": "75ea1c72-3652-453e-c627-f92a13e7c9c5"
      },
      "execution_count": 59,
      "outputs": [
        {
          "output_type": "execute_result",
          "data": {
            "text/plain": [
              "array([[0.        , 0.91325901, 0.81025682]])"
            ]
          },
          "metadata": {},
          "execution_count": 59
        }
      ]
    },
    {
      "cell_type": "code",
      "source": [
        "poly_lr.intercept_"
      ],
      "metadata": {
        "colab": {
          "base_uri": "https://localhost:8080/"
        },
        "id": "oy_F3vP_tXXi",
        "outputId": "5adb2d77-d428-4f54-ff37-b5e3a34917aa"
      },
      "execution_count": 60,
      "outputs": [
        {
          "output_type": "execute_result",
          "data": {
            "text/plain": [
              "array([1.87728344])"
            ]
          },
          "metadata": {},
          "execution_count": 60
        }
      ]
    },
    {
      "cell_type": "code",
      "source": [
        "x_test_trans[0]"
      ],
      "metadata": {
        "colab": {
          "base_uri": "https://localhost:8080/"
        },
        "id": "Alr1EvuytaZ5",
        "outputId": "ccc439a1-adb2-45c3-845b-9334bf562555"
      },
      "execution_count": 63,
      "outputs": [
        {
          "output_type": "execute_result",
          "data": {
            "text/plain": [
              "array([1.        , 2.35922412, 5.56593846])"
            ]
          },
          "metadata": {},
          "execution_count": 63
        }
      ]
    },
    {
      "cell_type": "code",
      "source": [
        "y_test[0]"
      ],
      "metadata": {
        "colab": {
          "base_uri": "https://localhost:8080/"
        },
        "id": "ZYhUOvEBt8k4",
        "outputId": "feceb2af-c73d-4ebf-9a77-dc95a31bd1d6"
      },
      "execution_count": 66,
      "outputs": [
        {
          "output_type": "execute_result",
          "data": {
            "text/plain": [
              "array([8.56960662])"
            ]
          },
          "metadata": {},
          "execution_count": 66
        }
      ]
    },
    {
      "cell_type": "code",
      "source": [
        "poly_lr.predict([[1.        , 2.35922412, 5.56593846]])"
      ],
      "metadata": {
        "colab": {
          "base_uri": "https://localhost:8080/"
        },
        "id": "IZxo-iJHuECw",
        "outputId": "128f81d1-5d56-4d40-970f-5a57c4071255"
      },
      "execution_count": 67,
      "outputs": [
        {
          "output_type": "execute_result",
          "data": {
            "text/plain": [
              "array([[8.54170572]])"
            ]
          },
          "metadata": {},
          "execution_count": 67
        }
      ]
    },
    {
      "cell_type": "code",
      "source": [
        "# return function will be\n",
        "\n",
        "# y_pred = Bo + x_train_trans . betas.T\n",
        "poly_lr.intercept_[0] +  np.dot([[1.        , 2.35922412, 5.56593846] ] , np.array([[0.        , 0.91325901, 0.81025682]]).T)"
      ],
      "metadata": {
        "colab": {
          "base_uri": "https://localhost:8080/"
        },
        "id": "uuxVpmzmuRbP",
        "outputId": "3ec2ef95-fff6-428d-a002-dae12939ca6b"
      },
      "execution_count": 74,
      "outputs": [
        {
          "output_type": "execute_result",
          "data": {
            "text/plain": [
              "array([[8.54170573]])"
            ]
          },
          "metadata": {},
          "execution_count": 74
        }
      ]
    },
    {
      "cell_type": "code",
      "source": [
        "y_pred_from_my_code = poly_lr.intercept_[0] + np.dot(x_test_trans , poly_lr.coef_.T)"
      ],
      "metadata": {
        "id": "GVQJSnbtueby"
      },
      "execution_count": 79,
      "outputs": []
    },
    {
      "cell_type": "code",
      "source": [
        "r2_score(y_test, y_pred_from_my_code)"
      ],
      "metadata": {
        "colab": {
          "base_uri": "https://localhost:8080/"
        },
        "id": "NR8uqkcHufYf",
        "outputId": "a1b0f032-0ac9-42dc-bfed-86e716e5b7b6"
      },
      "execution_count": 80,
      "outputs": [
        {
          "output_type": "execute_result",
          "data": {
            "text/plain": [
              "0.93396107896148"
            ]
          },
          "metadata": {},
          "execution_count": 80
        }
      ]
    },
    {
      "cell_type": "code",
      "source": [
        "X_new=np.linspace(-3, 3, 200).reshape(200, 1)\n",
        "X_new_poly = poly.transform(X_new)\n",
        "y_new = poly_lr.predict(X_new_poly)"
      ],
      "metadata": {
        "id": "QLp9lytxwbSr"
      },
      "execution_count": 81,
      "outputs": []
    },
    {
      "cell_type": "code",
      "source": [
        "plt.plot(X_new, y_new, \"r-\", linewidth=2, label=\"Predictions\")\n",
        "plt.plot(x_train, y_train, \"b.\",label='Training points')\n",
        "plt.plot(x_test, y_test, \"g.\",label='Testing points')\n",
        "plt.title('Best Fit Line (Polynomial LR)')\n",
        "plt.xlabel(\"X\")\n",
        "plt.ylabel(\"y\")\n",
        "plt.legend()\n",
        "plt.show()"
      ],
      "metadata": {
        "colab": {
          "base_uri": "https://localhost:8080/",
          "height": 472
        },
        "id": "vU0IBfR5wHHp",
        "outputId": "d904a40e-3ac6-4346-eaa2-74dbb3076961"
      },
      "execution_count": 85,
      "outputs": [
        {
          "output_type": "display_data",
          "data": {
            "text/plain": [
              "<Figure size 640x480 with 1 Axes>"
            ],
            "image/png": "[encoded data removed]"
          },
          "metadata": {}
        }
      ]
    },
    {
      "cell_type": "code",
      "source": [],
      "metadata": {
        "id": "ABZlrQp7wh4b"
      },
      "execution_count": null,
      "outputs": []
    }
  ]
}