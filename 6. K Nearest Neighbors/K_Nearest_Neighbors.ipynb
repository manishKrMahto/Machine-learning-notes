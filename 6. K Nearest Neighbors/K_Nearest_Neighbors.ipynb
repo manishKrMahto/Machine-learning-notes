{
  "nbformat": 4,
  "nbformat_minor": 0,
  "metadata": {
    "colab": {
      "provenance": []
    },
    "kernelspec": {
      "name": "python3",
      "display_name": "Python 3"
    },
    "language_info": {
      "name": "python"
    }
  },
  "cells": [
    {
      "cell_type": "code",
      "execution_count": 1,
      "metadata": {
        "id": "4Imp0SKWu23O"
      },
      "outputs": [],
      "source": [
        "import numpy as np\n",
        "import pandas as pd\n",
        "import matplotlib.pyplot as plt\n",
        "\n",
        "from sklearn.model_selection import train_test_split\n",
        "from sklearn.preprocessing import StandardScaler"
      ]
    },
    {
      "cell_type": "code",
      "source": [
        "df = pd.read_csv('/content/Social_Network_Ads.csv')\n",
        "df.shape"
      ],
      "metadata": {
        "colab": {
          "base_uri": "https://localhost:8080/"
        },
        "id": "BUu2y-FRv77h",
        "outputId": "2e50dc77-d38a-48db-d3aa-0c4184d485f8"
      },
      "execution_count": 2,
      "outputs": [
        {
          "output_type": "execute_result",
          "data": {
            "text/plain": [
              "(400, 5)"
            ]
          },
          "metadata": {},
          "execution_count": 2
        }
      ]
    },
    {
      "cell_type": "code",
      "source": [
        "df.head()"
      ],
      "metadata": {
        "colab": {
          "base_uri": "https://localhost:8080/",
          "height": 206
        },
        "id": "bTbez6cUv_eG",
        "outputId": "0b190e56-ec5f-4fa5-c4b2-88e06d31ae67"
      },
      "execution_count": 3,
      "outputs": [
        {
          "output_type": "execute_result",
          "data": {
            "text/plain": [
              "    User ID  Gender  Age  EstimatedSalary  Purchased\n",
              "0  15624510    Male   19            19000          0\n",
              "1  15810944    Male   35            20000          0\n",
              "2  15668575  Female   26            43000          0\n",
              "3  15603246  Female   27            57000          0\n",
              "4  15804002    Male   19            76000          0"
            ],
            "text/html": [
              "\n",
              "  <div id=\"df-8fa364b0-6dc8-4a5e-a805-4d83d2f06dab\" class=\"colab-df-container\">\n",
              "    <div>\n",
              "<style scoped>\n",
              "    .dataframe tbody tr th:only-of-type {\n",
              "        vertical-align: middle;\n",
              "    }\n",
              "\n",
              "    .dataframe tbody tr th {\n",
              "        vertical-align: top;\n",
              "    }\n",
              "\n",
              "    .dataframe thead th {\n",
              "        text-align: right;\n",
              "    }\n",
              "</style>\n",
              "<table border=\"1\" class=\"dataframe\">\n",
              "  <thead>\n",
              "    <tr style=\"text-align: right;\">\n",
              "      <th></th>\n",
              "      <th>User ID</th>\n",
              "      <th>Gender</th>\n",
              "      <th>Age</th>\n",
              "      <th>EstimatedSalary</th>\n",
              "      <th>Purchased</th>\n",
              "    </tr>\n",
              "  </thead>\n",
              "  <tbody>\n",
              "    <tr>\n",
              "      <th>0</th>\n",
              "      <td>15624510</td>\n",
              "      <td>Male</td>\n",
              "      <td>19</td>\n",
              "      <td>19000</td>\n",
              "      <td>0</td>\n",
              "    </tr>\n",
              "    <tr>\n",
              "      <th>1</th>\n",
              "      <td>15810944</td>\n",
              "      <td>Male</td>\n",
              "      <td>35</td>\n",
              "      <td>20000</td>\n",
              "      <td>0</td>\n",
              "    </tr>\n",
              "    <tr>\n",
              "      <th>2</th>\n",
              "      <td>15668575</td>\n",
              "      <td>Female</td>\n",
              "      <td>26</td>\n",
              "      <td>43000</td>\n",
              "      <td>0</td>\n",
              "    </tr>\n",
              "    <tr>\n",
              "      <th>3</th>\n",
              "      <td>15603246</td>\n",
              "      <td>Female</td>\n",
              "      <td>27</td>\n",
              "      <td>57000</td>\n",
              "      <td>0</td>\n",
              "    </tr>\n",
              "    <tr>\n",
              "      <th>4</th>\n",
              "      <td>15804002</td>\n",
              "      <td>Male</td>\n",
              "      <td>19</td>\n",
              "      <td>76000</td>\n",
              "      <td>0</td>\n",
              "    </tr>\n",
              "  </tbody>\n",
              "</table>\n",
              "</div>\n",
              "    <div class=\"colab-df-buttons\">\n",
              "\n",
              "  <div class=\"colab-df-container\">\n",
              "    <button class=\"colab-df-convert\" onclick=\"convertToInteractive('df-8fa364b0-6dc8-4a5e-a805-4d83d2f06dab')\"\n",
              "            title=\"Convert this dataframe to an interactive table.\"\n",
              "            style=\"display:none;\">\n",
              "\n",
              "  <svg xmlns=\"http://www.w3.org/2000/svg\" height=\"24px\" viewBox=\"0 -960 960 960\">\n",
              "    <path d=\"M120-120v-720h720v720H120Zm60-500h600v-160H180v160Zm220 220h160v-160H400v160Zm0 220h160v-160H400v160ZM180-400h160v-160H180v160Zm440 0h160v-160H620v160ZM180-180h160v-160H180v160Zm440 0h160v-160H620v160Z\"/>\n",
              "  </svg>\n",
              "    </button>\n",
              "\n",
              "  <style>\n",
              "    .colab-df-container {\n",
              "      display:flex;\n",
              "      gap: 12px;\n",
              "    }\n",
              "\n",
              "    .colab-df-convert {\n",
              "      background-color: #E8F0FE;\n",
              "      border: none;\n",
              "      border-radius: 50%;\n",
              "      cursor: pointer;\n",
              "      display: none;\n",
              "      fill: #1967D2;\n",
              "      height: 32px;\n",
              "      padding: 0 0 0 0;\n",
              "      width: 32px;\n",
              "    }\n",
              "\n",
              "    .colab-df-convert:hover {\n",
              "      background-color: #E2EBFA;\n",
              "      box-shadow: 0px 1px 2px rgba(60, 64, 67, 0.3), 0px 1px 3px 1px rgba(60, 64, 67, 0.15);\n",
              "      fill: #174EA6;\n",
              "    }\n",
              "\n",
              "    .colab-df-buttons div {\n",
              "      margin-bottom: 4px;\n",
              "    }\n",
              "\n",
              "    [theme=dark] .colab-df-convert {\n",
              "      background-color: #3B4455;\n",
              "      fill: #D2E3FC;\n",
              "    }\n",
              "\n",
              "    [theme=dark] .colab-df-convert:hover {\n",
              "      background-color: #434B5C;\n",
              "      box-shadow: 0px 1px 3px 1px rgba(0, 0, 0, 0.15);\n",
              "      filter: drop-shadow(0px 1px 2px rgba(0, 0, 0, 0.3));\n",
              "      fill: #FFFFFF;\n",
              "    }\n",
              "  </style>\n",
              "\n",
              "    <script>\n",
              "      const buttonEl =\n",
              "        document.querySelector('#df-8fa364b0-6dc8-4a5e-a805-4d83d2f06dab button.colab-df-convert');\n",
              "      buttonEl.style.display =\n",
              "        google.colab.kernel.accessAllowed ? 'block' : 'none';\n",
              "\n",
              "      async function convertToInteractive(key) {\n",
              "        const element = document.querySelector('#df-8fa364b0-6dc8-4a5e-a805-4d83d2f06dab');\n",
              "        const dataTable =\n",
              "          await google.colab.kernel.invokeFunction('convertToInteractive',\n",
              "                                                    [key], {});\n",
              "        if (!dataTable) return;\n",
              "\n",
              "        const docLinkHtml = 'Like what you see? Visit the ' +\n",
              "          '<a target=\"_blank\" href=https://colab.research.google.com/notebooks/data_table.ipynb>data table notebook</a>'\n",
              "          + ' to learn more about interactive tables.';\n",
              "        element.innerHTML = '';\n",
              "        dataTable['output_type'] = 'display_data';\n",
              "        await google.colab.output.renderOutput(dataTable, element);\n",
              "        const docLink = document.createElement('div');\n",
              "        docLink.innerHTML = docLinkHtml;\n",
              "        element.appendChild(docLink);\n",
              "      }\n",
              "    </script>\n",
              "  </div>\n",
              "\n",
              "\n",
              "<div id=\"df-77eba7ff-c486-4ce5-9248-397fda4c98fb\">\n",
              "  <button class=\"colab-df-quickchart\" onclick=\"quickchart('df-77eba7ff-c486-4ce5-9248-397fda4c98fb')\"\n",
              "            title=\"Suggest charts\"\n",
              "            style=\"display:none;\">\n",
              "\n",
              "<svg xmlns=\"http://www.w3.org/2000/svg\" height=\"24px\"viewBox=\"0 0 24 24\"\n",
              "     width=\"24px\">\n",
              "    <g>\n",
              "        <path d=\"M19 3H5c-1.1 0-2 .9-2 2v14c0 1.1.9 2 2 2h14c1.1 0 2-.9 2-2V5c0-1.1-.9-2-2-2zM9 17H7v-7h2v7zm4 0h-2V7h2v10zm4 0h-2v-4h2v4z\"/>\n",
              "    </g>\n",
              "</svg>\n",
              "  </button>\n",
              "\n",
              "<style>\n",
              "  .colab-df-quickchart {\n",
              "      --bg-color: #E8F0FE;\n",
              "      --fill-color: #1967D2;\n",
              "      --hover-bg-color: #E2EBFA;\n",
              "      --hover-fill-color: #174EA6;\n",
              "      --disabled-fill-color: #AAA;\n",
              "      --disabled-bg-color: #DDD;\n",
              "  }\n",
              "\n",
              "  [theme=dark] .colab-df-quickchart {\n",
              "      --bg-color: #3B4455;\n",
              "      --fill-color: #D2E3FC;\n",
              "      --hover-bg-color: #434B5C;\n",
              "      --hover-fill-color: #FFFFFF;\n",
              "      --disabled-bg-color: #3B4455;\n",
              "      --disabled-fill-color: #666;\n",
              "  }\n",
              "\n",
              "  .colab-df-quickchart {\n",
              "    background-color: var(--bg-color);\n",
              "    border: none;\n",
              "    border-radius: 50%;\n",
              "    cursor: pointer;\n",
              "    display: none;\n",
              "    fill: var(--fill-color);\n",
              "    height: 32px;\n",
              "    padding: 0;\n",
              "    width: 32px;\n",
              "  }\n",
              "\n",
              "  .colab-df-quickchart:hover {\n",
              "    background-color: var(--hover-bg-color);\n",
              "    box-shadow: 0 1px 2px rgba(60, 64, 67, 0.3), 0 1px 3px 1px rgba(60, 64, 67, 0.15);\n",
              "    fill: var(--button-hover-fill-color);\n",
              "  }\n",
              "\n",
              "  .colab-df-quickchart-complete:disabled,\n",
              "  .colab-df-quickchart-complete:disabled:hover {\n",
              "    background-color: var(--disabled-bg-color);\n",
              "    fill: var(--disabled-fill-color);\n",
              "    box-shadow: none;\n",
              "  }\n",
              "\n",
              "  .colab-df-spinner {\n",
              "    border: 2px solid var(--fill-color);\n",
              "    border-color: transparent;\n",
              "    border-bottom-color: var(--fill-color);\n",
              "    animation:\n",
              "      spin 1s steps(1) infinite;\n",
              "  }\n",
              "\n",
              "  @keyframes spin {\n",
              "    0% {\n",
              "      border-color: transparent;\n",
              "      border-bottom-color: var(--fill-color);\n",
              "      border-left-color: var(--fill-color);\n",
              "    }\n",
              "    20% {\n",
              "      border-color: transparent;\n",
              "      border-left-color: var(--fill-color);\n",
              "      border-top-color: var(--fill-color);\n",
              "    }\n",
              "    30% {\n",
              "      border-color: transparent;\n",
              "      border-left-color: var(--fill-color);\n",
              "      border-top-color: var(--fill-color);\n",
              "      border-right-color: var(--fill-color);\n",
              "    }\n",
              "    40% {\n",
              "      border-color: transparent;\n",
              "      border-right-color: var(--fill-color);\n",
              "      border-top-color: var(--fill-color);\n",
              "    }\n",
              "    60% {\n",
              "      border-color: transparent;\n",
              "      border-right-color: var(--fill-color);\n",
              "    }\n",
              "    80% {\n",
              "      border-color: transparent;\n",
              "      border-right-color: var(--fill-color);\n",
              "      border-bottom-color: var(--fill-color);\n",
              "    }\n",
              "    90% {\n",
              "      border-color: transparent;\n",
              "      border-bottom-color: var(--fill-color);\n",
              "    }\n",
              "  }\n",
              "</style>\n",
              "\n",
              "  <script>\n",
              "    async function quickchart(key) {\n",
              "      const quickchartButtonEl =\n",
              "        document.querySelector('#' + key + ' button');\n",
              "      quickchartButtonEl.disabled = true;  // To prevent multiple clicks.\n",
              "      quickchartButtonEl.classList.add('colab-df-spinner');\n",
              "      try {\n",
              "        const charts = await google.colab.kernel.invokeFunction(\n",
              "            'suggestCharts', [key], {});\n",
              "      } catch (error) {\n",
              "        console.error('Error during call to suggestCharts:', error);\n",
              "      }\n",
              "      quickchartButtonEl.classList.remove('colab-df-spinner');\n",
              "      quickchartButtonEl.classList.add('colab-df-quickchart-complete');\n",
              "    }\n",
              "    (() => {\n",
              "      let quickchartButtonEl =\n",
              "        document.querySelector('#df-77eba7ff-c486-4ce5-9248-397fda4c98fb button');\n",
              "      quickchartButtonEl.style.display =\n",
              "        google.colab.kernel.accessAllowed ? 'block' : 'none';\n",
              "    })();\n",
              "  </script>\n",
              "</div>\n",
              "\n",
              "    </div>\n",
              "  </div>\n"
            ],
            "application/vnd.google.colaboratory.intrinsic+json": {
              "type": "dataframe",
              "variable_name": "df",
              "summary": "{\n  \"name\": \"df\",\n  \"rows\": 400,\n  \"fields\": [\n    {\n      \"column\": \"User ID\",\n      \"properties\": {\n        \"dtype\": \"number\",\n        \"std\": 71658,\n        \"min\": 15566689,\n        \"max\": 15815236,\n        \"num_unique_values\": 400,\n        \"samples\": [\n          15697424,\n          15609669,\n          15776733\n        ],\n        \"semantic_type\": \"\",\n        \"description\": \"\"\n      }\n    },\n    {\n      \"column\": \"Gender\",\n      \"properties\": {\n        \"dtype\": \"category\",\n        \"num_unique_values\": 2,\n        \"samples\": [\n          \"Female\",\n          \"Male\"\n        ],\n        \"semantic_type\": \"\",\n        \"description\": \"\"\n      }\n    },\n    {\n      \"column\": \"Age\",\n      \"properties\": {\n        \"dtype\": \"number\",\n        \"std\": 10,\n        \"min\": 18,\n        \"max\": 60,\n        \"num_unique_values\": 43,\n        \"samples\": [\n          50,\n          39\n        ],\n        \"semantic_type\": \"\",\n        \"description\": \"\"\n      }\n    },\n    {\n      \"column\": \"EstimatedSalary\",\n      \"properties\": {\n        \"dtype\": \"number\",\n        \"std\": 34096,\n        \"min\": 15000,\n        \"max\": 150000,\n        \"num_unique_values\": 117,\n        \"samples\": [\n          117000,\n          76000\n        ],\n        \"semantic_type\": \"\",\n        \"description\": \"\"\n      }\n    },\n    {\n      \"column\": \"Purchased\",\n      \"properties\": {\n        \"dtype\": \"number\",\n        \"std\": 0,\n        \"min\": 0,\n        \"max\": 1,\n        \"num_unique_values\": 2,\n        \"samples\": [\n          1,\n          0\n        ],\n        \"semantic_type\": \"\",\n        \"description\": \"\"\n      }\n    }\n  ]\n}"
            }
          },
          "metadata": {},
          "execution_count": 3
        }
      ]
    },
    {
      "cell_type": "markdown",
      "source": [
        "**we are going to work on age estimatedsalary and pruchased column**"
      ],
      "metadata": {
        "id": "Dh05F5SFwCGR"
      }
    },
    {
      "cell_type": "code",
      "source": [
        "x = df.iloc[:,2:4].values\n",
        "y = df.iloc[:,-1].values"
      ],
      "metadata": {
        "id": "q-d6OkcqwAPm"
      },
      "execution_count": 6,
      "outputs": []
    },
    {
      "cell_type": "code",
      "source": [
        "print(x.shape)\n",
        "print(y.shape)"
      ],
      "metadata": {
        "colab": {
          "base_uri": "https://localhost:8080/"
        },
        "id": "G1xMqcl-wePG",
        "outputId": "e600c4aa-b771-469b-ba26-a4550a2bb680"
      },
      "execution_count": 7,
      "outputs": [
        {
          "output_type": "stream",
          "name": "stdout",
          "text": [
            "(400, 2)\n",
            "(400,)\n"
          ]
        }
      ]
    },
    {
      "cell_type": "code",
      "source": [
        "x_train , x_test , y_train , y_test = train_test_split(x,y,test_size = 0.2)"
      ],
      "metadata": {
        "id": "fDNjfo13w1rT"
      },
      "execution_count": 49,
      "outputs": []
    },
    {
      "cell_type": "code",
      "source": [
        "x_train"
      ],
      "metadata": {
        "colab": {
          "base_uri": "https://localhost:8080/"
        },
        "id": "1us-XoAjxiYW",
        "outputId": "60729281-f467-49ed-aa38-bc9190d81a56"
      },
      "execution_count": 50,
      "outputs": [
        {
          "output_type": "execute_result",
          "data": {
            "text/plain": [
              "array([[    32, 117000],\n",
              "       [    45,  22000],\n",
              "       [    29,  80000],\n",
              "       [    35,  23000],\n",
              "       [    59,  29000],\n",
              "       [    38,  55000],\n",
              "       [    53, 143000],\n",
              "       [    42,  64000],\n",
              "       [    40,  57000],\n",
              "       [    29,  47000],\n",
              "       [    42,  54000],\n",
              "       [    40,  47000],\n",
              "       [    42,  65000],\n",
              "       [    41,  60000],\n",
              "       [    45, 131000],\n",
              "       [    51, 146000],\n",
              "       [    35,  50000],\n",
              "       [    54,  26000],\n",
              "       [    60, 108000],\n",
              "       [    39,  77000],\n",
              "       [    52,  21000],\n",
              "       [    30,  62000],\n",
              "       [    31,  68000],\n",
              "       [    40,  75000],\n",
              "       [    48, 141000],\n",
              "       [    55,  39000],\n",
              "       [    53,  72000],\n",
              "       [    57, 122000],\n",
              "       [    29,  28000],\n",
              "       [    47,  47000],\n",
              "       [    37,  55000],\n",
              "       [    35,  57000],\n",
              "       [    31,  74000],\n",
              "       [    40,  61000],\n",
              "       [    20,  74000],\n",
              "       [    45,  45000],\n",
              "       [    31,  34000],\n",
              "       [    21,  72000],\n",
              "       [    45,  26000],\n",
              "       [    22,  81000],\n",
              "       [    19,  26000],\n",
              "       [    38,  61000],\n",
              "       [    47,  49000],\n",
              "       [    24,  55000],\n",
              "       [    19,  85000],\n",
              "       [    30,  79000],\n",
              "       [    23,  28000],\n",
              "       [    42,  70000],\n",
              "       [    22,  18000],\n",
              "       [    35,  97000],\n",
              "       [    23,  63000],\n",
              "       [    37,  33000],\n",
              "       [    42,  65000],\n",
              "       [    42,  54000],\n",
              "       [    21,  68000],\n",
              "       [    40,  72000],\n",
              "       [    20,  49000],\n",
              "       [    38,  51000],\n",
              "       [    30, 135000],\n",
              "       [    59,  88000],\n",
              "       [    30,  87000],\n",
              "       [    28,  79000],\n",
              "       [    59, 130000],\n",
              "       [    29,  43000],\n",
              "       [    33, 113000],\n",
              "       [    40, 142000],\n",
              "       [    18,  82000],\n",
              "       [    58, 144000],\n",
              "       [    49,  86000],\n",
              "       [    26,  15000],\n",
              "       [    27,  31000],\n",
              "       [    25,  80000],\n",
              "       [    20,  82000],\n",
              "       [    36,  63000],\n",
              "       [    24,  23000],\n",
              "       [    30,  80000],\n",
              "       [    42, 104000],\n",
              "       [    49,  89000],\n",
              "       [    31,  58000],\n",
              "       [    28,  59000],\n",
              "       [    27,  57000],\n",
              "       [    33,  43000],\n",
              "       [    49,  88000],\n",
              "       [    39,  73000],\n",
              "       [    48, 138000],\n",
              "       [    26,  81000],\n",
              "       [    56,  60000],\n",
              "       [    37,  93000],\n",
              "       [    41,  72000],\n",
              "       [    36,  99000],\n",
              "       [    35,  39000],\n",
              "       [    32, 120000],\n",
              "       [    30,  49000],\n",
              "       [    37,  80000],\n",
              "       [    47,  34000],\n",
              "       [    35,  47000],\n",
              "       [    40,  57000],\n",
              "       [    32, 117000],\n",
              "       [    60,  34000],\n",
              "       [    22,  27000],\n",
              "       [    36,  54000],\n",
              "       [    32, 150000],\n",
              "       [    28, 123000],\n",
              "       [    25,  79000],\n",
              "       [    49,  28000],\n",
              "       [    24,  55000],\n",
              "       [    18,  68000],\n",
              "       [    54,  70000],\n",
              "       [    35,  65000],\n",
              "       [    35,  73000],\n",
              "       [    46, 117000],\n",
              "       [    52, 138000],\n",
              "       [    44,  39000],\n",
              "       [    49,  36000],\n",
              "       [    23,  82000],\n",
              "       [    25,  87000],\n",
              "       [    47, 144000],\n",
              "       [    39, 106000],\n",
              "       [    39,  59000],\n",
              "       [    41,  71000],\n",
              "       [    50,  20000],\n",
              "       [    56, 133000],\n",
              "       [    28,  85000],\n",
              "       [    39,  79000],\n",
              "       [    26,  43000],\n",
              "       [    57,  33000],\n",
              "       [    60,  83000],\n",
              "       [    40,  57000],\n",
              "       [    26,  16000],\n",
              "       [    50,  88000],\n",
              "       [    59,  76000],\n",
              "       [    40,  60000],\n",
              "       [    35,  60000],\n",
              "       [    56, 104000],\n",
              "       [    57,  74000],\n",
              "       [    41,  87000],\n",
              "       [    23,  66000],\n",
              "       [    49,  28000],\n",
              "       [    29,  83000],\n",
              "       [    18,  52000],\n",
              "       [    49,  39000],\n",
              "       [    30,  17000],\n",
              "       [    32,  18000],\n",
              "       [    24,  89000],\n",
              "       [    40,  78000],\n",
              "       [    26,  86000],\n",
              "       [    60,  46000],\n",
              "       [    29,  75000],\n",
              "       [    47,  51000],\n",
              "       [    30,  15000],\n",
              "       [    37,  72000],\n",
              "       [    51,  23000],\n",
              "       [    35,  50000],\n",
              "       [    48,  30000],\n",
              "       [    26,  52000],\n",
              "       [    34,  25000],\n",
              "       [    27,  96000],\n",
              "       [    37,  70000],\n",
              "       [    58,  38000],\n",
              "       [    28,  87000],\n",
              "       [    41,  52000],\n",
              "       [    35,  79000],\n",
              "       [    48,  29000],\n",
              "       [    41,  72000],\n",
              "       [    52,  38000],\n",
              "       [    47,  43000],\n",
              "       [    37,  77000],\n",
              "       [    33,  28000],\n",
              "       [    31,  76000],\n",
              "       [    26,  84000],\n",
              "       [    39, 122000],\n",
              "       [    58,  95000],\n",
              "       [    39,  75000],\n",
              "       [    40, 107000],\n",
              "       [    48,  35000],\n",
              "       [    47, 105000],\n",
              "       [    38,  71000],\n",
              "       [    47,  50000],\n",
              "       [    20,  23000],\n",
              "       [    20,  36000],\n",
              "       [    28,  55000],\n",
              "       [    19,  25000],\n",
              "       [    39,  71000],\n",
              "       [    43, 133000],\n",
              "       [    57,  26000],\n",
              "       [    52, 114000],\n",
              "       [    46,  96000],\n",
              "       [    37,  78000],\n",
              "       [    29,  83000],\n",
              "       [    35,  38000],\n",
              "       [    26, 118000],\n",
              "       [    26,  30000],\n",
              "       [    45,  79000],\n",
              "       [    26,  80000],\n",
              "       [    27,  84000],\n",
              "       [    37,  74000],\n",
              "       [    47, 107000],\n",
              "       [    45,  32000],\n",
              "       [    26,  35000],\n",
              "       [    45,  22000],\n",
              "       [    25,  33000],\n",
              "       [    60,  42000],\n",
              "       [    39,  71000],\n",
              "       [    28,  37000],\n",
              "       [    36, 144000],\n",
              "       [    37,  52000],\n",
              "       [    37,  80000],\n",
              "       [    42,  53000],\n",
              "       [    35,  44000],\n",
              "       [    46,  41000],\n",
              "       [    42, 149000],\n",
              "       [    35,  59000],\n",
              "       [    46,  22000],\n",
              "       [    52, 150000],\n",
              "       [    43, 112000],\n",
              "       [    37, 146000],\n",
              "       [    37,  57000],\n",
              "       [    35,  20000],\n",
              "       [    24,  58000],\n",
              "       [    31, 118000],\n",
              "       [    49,  74000],\n",
              "       [    40,  59000],\n",
              "       [    26,  80000],\n",
              "       [    42, 108000],\n",
              "       [    48, 134000],\n",
              "       [    47,  20000],\n",
              "       [    26,  15000],\n",
              "       [    37,  62000],\n",
              "       [    33,  41000],\n",
              "       [    30, 116000],\n",
              "       [    48,  33000],\n",
              "       [    39,  96000],\n",
              "       [    41,  59000],\n",
              "       [    50,  36000],\n",
              "       [    60, 102000],\n",
              "       [    59,  83000],\n",
              "       [    38,  71000],\n",
              "       [    20,  86000],\n",
              "       [    41,  52000],\n",
              "       [    46,  28000],\n",
              "       [    27,  17000],\n",
              "       [    33,  60000],\n",
              "       [    48,  74000],\n",
              "       [    35, 147000],\n",
              "       [    38,  80000],\n",
              "       [    21,  16000],\n",
              "       [    42,  75000],\n",
              "       [    46,  79000],\n",
              "       [    34,  72000],\n",
              "       [    27,  20000],\n",
              "       [    26,  17000],\n",
              "       [    38,  50000],\n",
              "       [    28,  59000],\n",
              "       [    32, 135000],\n",
              "       [    41,  51000],\n",
              "       [    24,  32000],\n",
              "       [    42,  73000],\n",
              "       [    37,  71000],\n",
              "       [    38,  50000],\n",
              "       [    59,  42000],\n",
              "       [    27, 137000],\n",
              "       [    34,  43000],\n",
              "       [    35,  72000],\n",
              "       [    58, 101000],\n",
              "       [    28,  84000],\n",
              "       [    33,  51000],\n",
              "       [    34,  43000],\n",
              "       [    36,  60000],\n",
              "       [    23,  48000],\n",
              "       [    38,  61000],\n",
              "       [    33,  69000],\n",
              "       [    39, 134000],\n",
              "       [    47,  23000],\n",
              "       [    46,  23000],\n",
              "       [    46,  74000],\n",
              "       [    42,  80000],\n",
              "       [    24,  27000],\n",
              "       [    30,  89000],\n",
              "       [    47, 113000],\n",
              "       [    39,  61000],\n",
              "       [    37, 144000],\n",
              "       [    48,  90000],\n",
              "       [    19,  76000],\n",
              "       [    36, 118000],\n",
              "       [    32, 100000],\n",
              "       [    39,  42000],\n",
              "       [    47,  25000],\n",
              "       [    37,  79000],\n",
              "       [    23,  20000],\n",
              "       [    24,  19000],\n",
              "       [    29, 148000],\n",
              "       [    36, 126000],\n",
              "       [    29,  61000],\n",
              "       [    32,  86000],\n",
              "       [    51, 134000],\n",
              "       [    36,  50000],\n",
              "       [    40,  65000],\n",
              "       [    38,  65000],\n",
              "       [    27,  90000],\n",
              "       [    19,  19000],\n",
              "       [    27,  54000],\n",
              "       [    46,  59000],\n",
              "       [    22,  63000],\n",
              "       [    31,  15000],\n",
              "       [    21,  88000],\n",
              "       [    40,  71000],\n",
              "       [    36,  33000],\n",
              "       [    18,  86000],\n",
              "       [    41,  80000],\n",
              "       [    59, 143000],\n",
              "       [    41,  63000],\n",
              "       [    55, 130000],\n",
              "       [    35,  91000],\n",
              "       [    29,  43000],\n",
              "       [    37, 137000],\n",
              "       [    35,  61000],\n",
              "       [    35,  58000],\n",
              "       [    31,  71000],\n",
              "       [    38, 112000],\n",
              "       [    52,  90000]])"
            ]
          },
          "metadata": {},
          "execution_count": 50
        }
      ]
    },
    {
      "cell_type": "code",
      "source": [
        "print(x_train.shape)\n",
        "print(x_test.shape)\n",
        "print(y_train.shape)\n",
        "print(y_test.shape)"
      ],
      "metadata": {
        "colab": {
          "base_uri": "https://localhost:8080/"
        },
        "id": "8vU_ca5Yw-VD",
        "outputId": "5494723c-1c8c-4e14-a6bc-d4ee2194bcf6"
      },
      "execution_count": 51,
      "outputs": [
        {
          "output_type": "stream",
          "name": "stdout",
          "text": [
            "(320, 2)\n",
            "(80, 2)\n",
            "(320,)\n",
            "(80,)\n"
          ]
        }
      ]
    },
    {
      "cell_type": "code",
      "source": [
        "# scalaing values\n",
        "scaler = StandardScaler()\n",
        "\n",
        "x_train = scaler.fit_transform(x_train)\n",
        "x_test = scaler.transform(x_test)"
      ],
      "metadata": {
        "id": "R_2mOxK0xF_D"
      },
      "execution_count": 52,
      "outputs": []
    },
    {
      "cell_type": "code",
      "source": [
        "x_train"
      ],
      "metadata": {
        "colab": {
          "base_uri": "https://localhost:8080/"
        },
        "id": "7F7ROL2hxlth",
        "outputId": "4e2efe1b-2bb9-4a90-fdce-3661a6903f3d"
      },
      "execution_count": 53,
      "outputs": [
        {
          "output_type": "execute_result",
          "data": {
            "text/plain": [
              "array([[-0.52567793,  1.39737514],\n",
              "       [ 0.70633344, -1.38365296],\n",
              "       [-0.80998824,  0.31423788],\n",
              "       [-0.24136761, -1.35437898],\n",
              "       [ 2.03311492, -1.1787351 ],\n",
              "       [ 0.0429427 , -0.41761162],\n",
              "       [ 1.46449428,  2.15849862],\n",
              "       [ 0.42202313, -0.1541458 ],\n",
              "       [ 0.23248291, -0.35906366],\n",
              "       [-0.80998824, -0.65180346],\n",
              "       [ 0.42202313, -0.4468856 ],\n",
              "       [ 0.23248291, -0.65180346],\n",
              "       [ 0.42202313, -0.12487182],\n",
              "       [ 0.32725302, -0.27124172],\n",
              "       [ 0.70633344,  1.80721086],\n",
              "       [ 1.27495407,  2.24632056],\n",
              "       [-0.24136761, -0.56398152],\n",
              "       [ 1.55926439, -1.26655704],\n",
              "       [ 2.12788502,  1.13390932],\n",
              "       [ 0.13771281,  0.22641594],\n",
              "       [ 1.36972418, -1.41292694],\n",
              "       [-0.71521814, -0.21269376],\n",
              "       [-0.62044803, -0.03704988],\n",
              "       [ 0.23248291,  0.16786798],\n",
              "       [ 0.99064376,  2.09995066],\n",
              "       [ 1.65403449, -0.8859953 ],\n",
              "       [ 1.46449428,  0.08004604],\n",
              "       [ 1.8435747 ,  1.54374504],\n",
              "       [-0.80998824, -1.20800908],\n",
              "       [ 0.89587365, -0.65180346],\n",
              "       [-0.0518274 , -0.41761162],\n",
              "       [-0.24136761, -0.35906366],\n",
              "       [-0.62044803,  0.138594  ],\n",
              "       [ 0.23248291, -0.24196774],\n",
              "       [-1.66291919,  0.138594  ],\n",
              "       [ 0.70633344, -0.71035142],\n",
              "       [-0.62044803, -1.0323652 ],\n",
              "       [-1.56814909,  0.08004604],\n",
              "       [ 0.70633344, -1.26655704],\n",
              "       [-1.47337898,  0.34351186],\n",
              "       [-1.7576893 , -1.26655704],\n",
              "       [ 0.0429427 , -0.24196774],\n",
              "       [ 0.89587365, -0.5932555 ],\n",
              "       [-1.28383877, -0.41761162],\n",
              "       [-1.7576893 ,  0.46060778],\n",
              "       [-0.71521814,  0.2849639 ],\n",
              "       [-1.37860888, -1.20800908],\n",
              "       [ 0.42202313,  0.02149808],\n",
              "       [-1.47337898, -1.50074888],\n",
              "       [-0.24136761,  0.81189554],\n",
              "       [-1.37860888, -0.18341978],\n",
              "       [-0.0518274 , -1.06163918],\n",
              "       [ 0.42202313, -0.12487182],\n",
              "       [ 0.42202313, -0.4468856 ],\n",
              "       [-1.56814909, -0.03704988],\n",
              "       [ 0.23248291,  0.08004604],\n",
              "       [-1.66291919, -0.5932555 ],\n",
              "       [ 0.0429427 , -0.53470754],\n",
              "       [-0.71521814,  1.92430678],\n",
              "       [ 2.03311492,  0.54842972],\n",
              "       [-0.71521814,  0.51915574],\n",
              "       [-0.90475835,  0.2849639 ],\n",
              "       [ 2.03311492,  1.77793688],\n",
              "       [-0.80998824, -0.76889938],\n",
              "       [-0.43090782,  1.28027922],\n",
              "       [ 0.23248291,  2.12922464],\n",
              "       [-1.8524594 ,  0.37278584],\n",
              "       [ 1.93834481,  2.1877726 ],\n",
              "       [ 1.08541386,  0.48988176],\n",
              "       [-1.09429856, -1.58857082],\n",
              "       [-0.99952845, -1.12018714],\n",
              "       [-1.18906867,  0.31423788],\n",
              "       [-1.66291919,  0.37278584],\n",
              "       [-0.14659751, -0.18341978],\n",
              "       [-1.28383877, -1.35437898],\n",
              "       [-0.71521814,  0.31423788],\n",
              "       [ 0.42202313,  1.0168134 ],\n",
              "       [ 1.08541386,  0.5777037 ],\n",
              "       [-0.62044803, -0.32978968],\n",
              "       [-0.90475835, -0.3005157 ],\n",
              "       [-0.99952845, -0.35906366],\n",
              "       [-0.43090782, -0.76889938],\n",
              "       [ 1.08541386,  0.54842972],\n",
              "       [ 0.13771281,  0.10932002],\n",
              "       [ 0.99064376,  2.01212872],\n",
              "       [-1.09429856,  0.34351186],\n",
              "       [ 1.7488046 , -0.27124172],\n",
              "       [-0.0518274 ,  0.69479962],\n",
              "       [ 0.32725302,  0.08004604],\n",
              "       [-0.14659751,  0.8704435 ],\n",
              "       [-0.24136761, -0.8859953 ],\n",
              "       [-0.52567793,  1.48519708],\n",
              "       [-0.71521814, -0.5932555 ],\n",
              "       [-0.0518274 ,  0.31423788],\n",
              "       [ 0.89587365, -1.0323652 ],\n",
              "       [-0.24136761, -0.65180346],\n",
              "       [ 0.23248291, -0.35906366],\n",
              "       [-0.52567793,  1.39737514],\n",
              "       [ 2.12788502, -1.0323652 ],\n",
              "       [-1.47337898, -1.23728306],\n",
              "       [-0.14659751, -0.4468856 ],\n",
              "       [-0.52567793,  2.36341648],\n",
              "       [-0.90475835,  1.57301902],\n",
              "       [-1.18906867,  0.2849639 ],\n",
              "       [ 1.08541386, -1.20800908],\n",
              "       [-1.28383877, -0.41761162],\n",
              "       [-1.8524594 , -0.03704988],\n",
              "       [ 1.55926439,  0.02149808],\n",
              "       [-0.24136761, -0.12487182],\n",
              "       [-0.24136761,  0.10932002],\n",
              "       [ 0.80110355,  1.39737514],\n",
              "       [ 1.36972418,  2.01212872],\n",
              "       [ 0.61156334, -0.8859953 ],\n",
              "       [ 1.08541386, -0.97381724],\n",
              "       [-1.37860888,  0.37278584],\n",
              "       [-1.18906867,  0.51915574],\n",
              "       [ 0.89587365,  2.1877726 ],\n",
              "       [ 0.13771281,  1.07536136],\n",
              "       [ 0.13771281, -0.3005157 ],\n",
              "       [ 0.32725302,  0.05077206],\n",
              "       [ 1.18018397, -1.44220092],\n",
              "       [ 1.7488046 ,  1.86575882],\n",
              "       [-0.90475835,  0.46060778],\n",
              "       [ 0.13771281,  0.2849639 ],\n",
              "       [-1.09429856, -0.76889938],\n",
              "       [ 1.8435747 , -1.06163918],\n",
              "       [ 2.12788502,  0.40205982],\n",
              "       [ 0.23248291, -0.35906366],\n",
              "       [-1.09429856, -1.55929684],\n",
              "       [ 1.18018397,  0.54842972],\n",
              "       [ 2.03311492,  0.19714196],\n",
              "       [ 0.23248291, -0.27124172],\n",
              "       [-0.24136761, -0.27124172],\n",
              "       [ 1.7488046 ,  1.0168134 ],\n",
              "       [ 1.8435747 ,  0.138594  ],\n",
              "       [ 0.32725302,  0.51915574],\n",
              "       [-1.37860888, -0.09559784],\n",
              "       [ 1.08541386, -1.20800908],\n",
              "       [-0.80998824,  0.40205982],\n",
              "       [-1.8524594 , -0.50543356],\n",
              "       [ 1.08541386, -0.8859953 ],\n",
              "       [-0.71521814, -1.53002286],\n",
              "       [-0.52567793, -1.50074888],\n",
              "       [-1.28383877,  0.5777037 ],\n",
              "       [ 0.23248291,  0.25568992],\n",
              "       [-1.09429856,  0.48988176],\n",
              "       [ 2.12788502, -0.68107744],\n",
              "       [-0.80998824,  0.16786798],\n",
              "       [ 0.89587365, -0.53470754],\n",
              "       [-0.71521814, -1.58857082],\n",
              "       [-0.0518274 ,  0.08004604],\n",
              "       [ 1.27495407, -1.35437898],\n",
              "       [-0.24136761, -0.56398152],\n",
              "       [ 0.99064376, -1.14946112],\n",
              "       [-1.09429856, -0.50543356],\n",
              "       [-0.33613772, -1.29583102],\n",
              "       [-0.99952845,  0.78262156],\n",
              "       [-0.0518274 ,  0.02149808],\n",
              "       [ 1.93834481, -0.91526928],\n",
              "       [-0.90475835,  0.51915574],\n",
              "       [ 0.32725302, -0.50543356],\n",
              "       [-0.24136761,  0.2849639 ],\n",
              "       [ 0.99064376, -1.1787351 ],\n",
              "       [ 0.32725302,  0.08004604],\n",
              "       [ 1.36972418, -0.91526928],\n",
              "       [ 0.89587365, -0.76889938],\n",
              "       [-0.0518274 ,  0.22641594],\n",
              "       [-0.43090782, -1.20800908],\n",
              "       [-0.62044803,  0.19714196],\n",
              "       [-1.09429856,  0.4313338 ],\n",
              "       [ 0.13771281,  1.54374504],\n",
              "       [ 1.93834481,  0.75334758],\n",
              "       [ 0.13771281,  0.16786798],\n",
              "       [ 0.23248291,  1.10463534],\n",
              "       [ 0.99064376, -1.00309122],\n",
              "       [ 0.89587365,  1.04608738],\n",
              "       [ 0.0429427 ,  0.05077206],\n",
              "       [ 0.89587365, -0.56398152],\n",
              "       [-1.66291919, -1.35437898],\n",
              "       [-1.66291919, -0.97381724],\n",
              "       [-0.90475835, -0.41761162],\n",
              "       [-1.7576893 , -1.29583102],\n",
              "       [ 0.13771281,  0.05077206],\n",
              "       [ 0.51679323,  1.86575882],\n",
              "       [ 1.8435747 , -1.26655704],\n",
              "       [ 1.36972418,  1.3095532 ],\n",
              "       [ 0.80110355,  0.78262156],\n",
              "       [-0.0518274 ,  0.25568992],\n",
              "       [-0.80998824,  0.40205982],\n",
              "       [-0.24136761, -0.91526928],\n",
              "       [-1.09429856,  1.42664912],\n",
              "       [-1.09429856, -1.14946112],\n",
              "       [ 0.70633344,  0.2849639 ],\n",
              "       [-1.09429856,  0.31423788],\n",
              "       [-0.99952845,  0.4313338 ],\n",
              "       [-0.0518274 ,  0.138594  ],\n",
              "       [ 0.89587365,  1.10463534],\n",
              "       [ 0.70633344, -1.09091316],\n",
              "       [-1.09429856, -1.00309122],\n",
              "       [ 0.70633344, -1.38365296],\n",
              "       [-1.18906867, -1.06163918],\n",
              "       [ 2.12788502, -0.79817336],\n",
              "       [ 0.13771281,  0.05077206],\n",
              "       [-0.90475835, -0.94454326],\n",
              "       [-0.14659751,  2.1877726 ],\n",
              "       [-0.0518274 , -0.50543356],\n",
              "       [-0.0518274 ,  0.31423788],\n",
              "       [ 0.42202313, -0.47615958],\n",
              "       [-0.24136761, -0.7396254 ],\n",
              "       [ 0.80110355, -0.82744734],\n",
              "       [ 0.42202313,  2.3341425 ],\n",
              "       [-0.24136761, -0.3005157 ],\n",
              "       [ 0.80110355, -1.38365296],\n",
              "       [ 1.36972418,  2.36341648],\n",
              "       [ 0.51679323,  1.25100524],\n",
              "       [-0.0518274 ,  2.24632056],\n",
              "       [-0.0518274 , -0.35906366],\n",
              "       [-0.24136761, -1.44220092],\n",
              "       [-1.28383877, -0.32978968],\n",
              "       [-0.62044803,  1.42664912],\n",
              "       [ 1.08541386,  0.138594  ],\n",
              "       [ 0.23248291, -0.3005157 ],\n",
              "       [-1.09429856,  0.31423788],\n",
              "       [ 0.42202313,  1.13390932],\n",
              "       [ 0.99064376,  1.8950328 ],\n",
              "       [ 0.89587365, -1.44220092],\n",
              "       [-1.09429856, -1.58857082],\n",
              "       [-0.0518274 , -0.21269376],\n",
              "       [-0.43090782, -0.82744734],\n",
              "       [-0.71521814,  1.36810116],\n",
              "       [ 0.99064376, -1.06163918],\n",
              "       [ 0.13771281,  0.78262156],\n",
              "       [ 0.32725302, -0.3005157 ],\n",
              "       [ 1.18018397, -0.97381724],\n",
              "       [ 2.12788502,  0.95826544],\n",
              "       [ 2.03311492,  0.40205982],\n",
              "       [ 0.0429427 ,  0.05077206],\n",
              "       [-1.66291919,  0.48988176],\n",
              "       [ 0.32725302, -0.50543356],\n",
              "       [ 0.80110355, -1.20800908],\n",
              "       [-0.99952845, -1.53002286],\n",
              "       [-0.43090782, -0.27124172],\n",
              "       [ 0.99064376,  0.138594  ],\n",
              "       [-0.24136761,  2.27559454],\n",
              "       [ 0.0429427 ,  0.31423788],\n",
              "       [-1.56814909, -1.55929684],\n",
              "       [ 0.42202313,  0.16786798],\n",
              "       [ 0.80110355,  0.2849639 ],\n",
              "       [-0.33613772,  0.08004604],\n",
              "       [-0.99952845, -1.44220092],\n",
              "       [-1.09429856, -1.53002286],\n",
              "       [ 0.0429427 , -0.56398152],\n",
              "       [-0.90475835, -0.3005157 ],\n",
              "       [-0.52567793,  1.92430678],\n",
              "       [ 0.32725302, -0.53470754],\n",
              "       [-1.28383877, -1.09091316],\n",
              "       [ 0.42202313,  0.10932002],\n",
              "       [-0.0518274 ,  0.05077206],\n",
              "       [ 0.0429427 , -0.56398152],\n",
              "       [ 2.03311492, -0.79817336],\n",
              "       [-0.99952845,  1.98285474],\n",
              "       [-0.33613772, -0.76889938],\n",
              "       [-0.24136761,  0.08004604],\n",
              "       [ 1.93834481,  0.92899146],\n",
              "       [-0.90475835,  0.4313338 ],\n",
              "       [-0.43090782, -0.53470754],\n",
              "       [-0.33613772, -0.76889938],\n",
              "       [-0.14659751, -0.27124172],\n",
              "       [-1.37860888, -0.62252948],\n",
              "       [ 0.0429427 , -0.24196774],\n",
              "       [-0.43090782, -0.0077759 ],\n",
              "       [ 0.13771281,  1.8950328 ],\n",
              "       [ 0.89587365, -1.35437898],\n",
              "       [ 0.80110355, -1.35437898],\n",
              "       [ 0.80110355,  0.138594  ],\n",
              "       [ 0.42202313,  0.31423788],\n",
              "       [-1.28383877, -1.23728306],\n",
              "       [-0.71521814,  0.5777037 ],\n",
              "       [ 0.89587365,  1.28027922],\n",
              "       [ 0.13771281, -0.24196774],\n",
              "       [-0.0518274 ,  2.1877726 ],\n",
              "       [ 0.99064376,  0.60697768],\n",
              "       [-1.7576893 ,  0.19714196],\n",
              "       [-0.14659751,  1.42664912],\n",
              "       [-0.52567793,  0.89971748],\n",
              "       [ 0.13771281, -0.79817336],\n",
              "       [ 0.89587365, -1.29583102],\n",
              "       [-0.0518274 ,  0.2849639 ],\n",
              "       [-1.37860888, -1.44220092],\n",
              "       [-1.28383877, -1.4714749 ],\n",
              "       [-0.80998824,  2.30486852],\n",
              "       [-0.14659751,  1.66084096],\n",
              "       [-0.80998824, -0.24196774],\n",
              "       [-0.52567793,  0.48988176],\n",
              "       [ 1.27495407,  1.8950328 ],\n",
              "       [-0.14659751, -0.56398152],\n",
              "       [ 0.23248291, -0.12487182],\n",
              "       [ 0.0429427 , -0.12487182],\n",
              "       [-0.99952845,  0.60697768],\n",
              "       [-1.7576893 , -1.4714749 ],\n",
              "       [-0.99952845, -0.4468856 ],\n",
              "       [ 0.80110355, -0.3005157 ],\n",
              "       [-1.47337898, -0.18341978],\n",
              "       [-0.62044803, -1.58857082],\n",
              "       [-1.56814909,  0.54842972],\n",
              "       [ 0.23248291,  0.05077206],\n",
              "       [-0.14659751, -1.06163918],\n",
              "       [-1.8524594 ,  0.48988176],\n",
              "       [ 0.32725302,  0.31423788],\n",
              "       [ 2.03311492,  2.15849862],\n",
              "       [ 0.32725302, -0.18341978],\n",
              "       [ 1.65403449,  1.77793688],\n",
              "       [-0.24136761,  0.63625166],\n",
              "       [-0.80998824, -0.76889938],\n",
              "       [-0.0518274 ,  1.98285474],\n",
              "       [-0.24136761, -0.24196774],\n",
              "       [-0.24136761, -0.32978968],\n",
              "       [-0.62044803,  0.05077206],\n",
              "       [ 0.0429427 ,  1.25100524],\n",
              "       [ 1.36972418,  0.60697768]])"
            ]
          },
          "metadata": {},
          "execution_count": 53
        }
      ]
    },
    {
      "cell_type": "markdown",
      "source": [
        "<p color = 'green'> solving problem(find k value)  with 1st method (sqrt) </p>"
      ],
      "metadata": {
        "id": "QkNdXxjaxw0f"
      }
    },
    {
      "cell_type": "code",
      "source": [
        "def find_k(row):\n",
        "  temp = int(np.sqrt(row))\n",
        "\n",
        "  if temp % 2 == 1 :\n",
        "    return temp\n",
        "  else :\n",
        "    return temp - 1"
      ],
      "metadata": {
        "id": "4vXcbALMxmkp"
      },
      "execution_count": 54,
      "outputs": []
    },
    {
      "cell_type": "code",
      "source": [
        "find_k(440)"
      ],
      "metadata": {
        "colab": {
          "base_uri": "https://localhost:8080/"
        },
        "id": "wYtNhfwSyhOx",
        "outputId": "465cf2f6-2b3f-40a1-9627-8ee46871ee15"
      },
      "execution_count": 55,
      "outputs": [
        {
          "output_type": "execute_result",
          "data": {
            "text/plain": [
              "19"
            ]
          },
          "metadata": {},
          "execution_count": 55
        }
      ]
    },
    {
      "cell_type": "code",
      "source": [
        "k = find_k(x_train.shape[0])\n",
        "k"
      ],
      "metadata": {
        "colab": {
          "base_uri": "https://localhost:8080/"
        },
        "id": "TBGcZpxFyjP2",
        "outputId": "813db81b-532d-41aa-a312-971c3fd982b4"
      },
      "execution_count": 56,
      "outputs": [
        {
          "output_type": "execute_result",
          "data": {
            "text/plain": [
              "17"
            ]
          },
          "metadata": {},
          "execution_count": 56
        }
      ]
    },
    {
      "cell_type": "code",
      "source": [
        "# model\n",
        "from sklearn.neighbors import KNeighborsClassifier"
      ],
      "metadata": {
        "id": "gRgdNFhTzIHl"
      },
      "execution_count": 57,
      "outputs": []
    },
    {
      "cell_type": "code",
      "source": [
        "knn = KNeighborsClassifier(n_neighbors = k)"
      ],
      "metadata": {
        "id": "Kc4KdgsCzi9z"
      },
      "execution_count": 58,
      "outputs": []
    },
    {
      "cell_type": "code",
      "source": [
        "knn.fit(x_train , y_train)"
      ],
      "metadata": {
        "colab": {
          "base_uri": "https://localhost:8080/",
          "height": 75
        },
        "id": "lhvrYvd8zxfC",
        "outputId": "2f84f51e-a8a3-4ed1-c7a2-78dbfbe892bc"
      },
      "execution_count": 59,
      "outputs": [
        {
          "output_type": "execute_result",
          "data": {
            "text/plain": [
              "KNeighborsClassifier(n_neighbors=17)"
            ],
            "text/html": [
              "<style>#sk-container-id-3 {color: black;background-color: white;}#sk-container-id-3 pre{padding: 0;}#sk-container-id-3 div.sk-toggleable {background-color: white;}#sk-container-id-3 label.sk-toggleable__label {cursor: pointer;display: block;width: 100%;margin-bottom: 0;padding: 0.3em;box-sizing: border-box;text-align: center;}#sk-container-id-3 label.sk-toggleable__label-arrow:before {content: \"▸\";float: left;margin-right: 0.25em;color: #696969;}#sk-container-id-3 label.sk-toggleable__label-arrow:hover:before {color: black;}#sk-container-id-3 div.sk-estimator:hover label.sk-toggleable__label-arrow:before {color: black;}#sk-container-id-3 div.sk-toggleable__content {max-height: 0;max-width: 0;overflow: hidden;text-align: left;background-color: #f0f8ff;}#sk-container-id-3 div.sk-toggleable__content pre {margin: 0.2em;color: black;border-radius: 0.25em;background-color: #f0f8ff;}#sk-container-id-3 input.sk-toggleable__control:checked~div.sk-toggleable__content {max-height: 200px;max-width: 100%;overflow: auto;}#sk-container-id-3 input.sk-toggleable__control:checked~label.sk-toggleable__label-arrow:before {content: \"▾\";}#sk-container-id-3 div.sk-estimator input.sk-toggleable__control:checked~label.sk-toggleable__label {background-color: #d4ebff;}#sk-container-id-3 div.sk-label input.sk-toggleable__control:checked~label.sk-toggleable__label {background-color: #d4ebff;}#sk-container-id-3 input.sk-hidden--visually {border: 0;clip: rect(1px 1px 1px 1px);clip: rect(1px, 1px, 1px, 1px);height: 1px;margin: -1px;overflow: hidden;padding: 0;position: absolute;width: 1px;}#sk-container-id-3 div.sk-estimator {font-family: monospace;background-color: #f0f8ff;border: 1px dotted black;border-radius: 0.25em;box-sizing: border-box;margin-bottom: 0.5em;}#sk-container-id-3 div.sk-estimator:hover {background-color: #d4ebff;}#sk-container-id-3 div.sk-parallel-item::after {content: \"\";width: 100%;border-bottom: 1px solid gray;flex-grow: 1;}#sk-container-id-3 div.sk-label:hover label.sk-toggleable__label {background-color: #d4ebff;}#sk-container-id-3 div.sk-serial::before {content: \"\";position: absolute;border-left: 1px solid gray;box-sizing: border-box;top: 0;bottom: 0;left: 50%;z-index: 0;}#sk-container-id-3 div.sk-serial {display: flex;flex-direction: column;align-items: center;background-color: white;padding-right: 0.2em;padding-left: 0.2em;position: relative;}#sk-container-id-3 div.sk-item {position: relative;z-index: 1;}#sk-container-id-3 div.sk-parallel {display: flex;align-items: stretch;justify-content: center;background-color: white;position: relative;}#sk-container-id-3 div.sk-item::before, #sk-container-id-3 div.sk-parallel-item::before {content: \"\";position: absolute;border-left: 1px solid gray;box-sizing: border-box;top: 0;bottom: 0;left: 50%;z-index: -1;}#sk-container-id-3 div.sk-parallel-item {display: flex;flex-direction: column;z-index: 1;position: relative;background-color: white;}#sk-container-id-3 div.sk-parallel-item:first-child::after {align-self: flex-end;width: 50%;}#sk-container-id-3 div.sk-parallel-item:last-child::after {align-self: flex-start;width: 50%;}#sk-container-id-3 div.sk-parallel-item:only-child::after {width: 0;}#sk-container-id-3 div.sk-dashed-wrapped {border: 1px dashed gray;margin: 0 0.4em 0.5em 0.4em;box-sizing: border-box;padding-bottom: 0.4em;background-color: white;}#sk-container-id-3 div.sk-label label {font-family: monospace;font-weight: bold;display: inline-block;line-height: 1.2em;}#sk-container-id-3 div.sk-label-container {text-align: center;}#sk-container-id-3 div.sk-container {/* jupyter's `normalize.less` sets `[hidden] { display: none; }` but bootstrap.min.css set `[hidden] { display: none !important; }` so we also need the `!important` here to be able to override the default hidden behavior on the sphinx rendered scikit-learn.org. See: https://github.com/scikit-learn/scikit-learn/issues/21755 */display: inline-block !important;position: relative;}#sk-container-id-3 div.sk-text-repr-fallback {display: none;}</style><div id=\"sk-container-id-3\" class=\"sk-top-container\"><div class=\"sk-text-repr-fallback\"><pre>KNeighborsClassifier(n_neighbors=17)</pre><b>In a Jupyter environment, please rerun this cell to show the HTML representation or trust the notebook. <br />On GitHub, the HTML representation is unable to render, please try loading this page with nbviewer.org.</b></div><div class=\"sk-container\" hidden><div class=\"sk-item\"><div class=\"sk-estimator sk-toggleable\"><input class=\"sk-toggleable__control sk-hidden--visually\" id=\"sk-estimator-id-3\" type=\"checkbox\" checked><label for=\"sk-estimator-id-3\" class=\"sk-toggleable__label sk-toggleable__label-arrow\">KNeighborsClassifier</label><div class=\"sk-toggleable__content\"><pre>KNeighborsClassifier(n_neighbors=17)</pre></div></div></div></div></div>"
            ]
          },
          "metadata": {},
          "execution_count": 59
        }
      ]
    },
    {
      "cell_type": "code",
      "source": [
        "from sklearn.metrics import accuracy_score"
      ],
      "metadata": {
        "id": "fUla7wq6z2x6"
      },
      "execution_count": 60,
      "outputs": []
    },
    {
      "cell_type": "code",
      "source": [
        "accuracy_score(y_test , knn.predict(x_test)) * 100"
      ],
      "metadata": {
        "colab": {
          "base_uri": "https://localhost:8080/"
        },
        "id": "-fZ8bwzaz-7J",
        "outputId": "7ffa5551-fa06-4f38-8cb3-1007f030e823"
      },
      "execution_count": 61,
      "outputs": [
        {
          "output_type": "execute_result",
          "data": {
            "text/plain": [
              "91.25"
            ]
          },
          "metadata": {},
          "execution_count": 61
        }
      ]
    },
    {
      "cell_type": "code",
      "source": [
        "from sklearn.metrics import confusion_matrix"
      ],
      "metadata": {
        "id": "voSZLXRq0GdC"
      },
      "execution_count": 62,
      "outputs": []
    },
    {
      "cell_type": "code",
      "source": [
        "confusion_matrix(y_test , knn.predict(x_test))"
      ],
      "metadata": {
        "colab": {
          "base_uri": "https://localhost:8080/"
        },
        "id": "ZqrKJRJF0lBX",
        "outputId": "51c8f453-0d42-4af0-b0f3-0b24899de3e7"
      },
      "execution_count": 65,
      "outputs": [
        {
          "output_type": "execute_result",
          "data": {
            "text/plain": [
              "array([[47,  5],\n",
              "       [ 2, 26]])"
            ]
          },
          "metadata": {},
          "execution_count": 65
        }
      ]
    },
    {
      "cell_type": "markdown",
      "source": [
        "major diagonal me right predictions and non diagonal me wrong pridiction h"
      ],
      "metadata": {
        "id": "IfNMQA790xfk"
      }
    },
    {
      "cell_type": "code",
      "source": [],
      "metadata": {
        "id": "G5MMlgQF0sAw"
      },
      "execution_count": null,
      "outputs": []
    },
    {
      "cell_type": "markdown",
      "source": [
        "<p color = 'green'> solving problem(find k value)  with 2<sup>nd</sup> method (sqrt) </p>"
      ],
      "metadata": {
        "id": "GWb06zkQ1BxB"
      }
    },
    {
      "cell_type": "code",
      "source": [
        "lower = 1\n",
        "upper = 100"
      ],
      "metadata": {
        "id": "crxNiDiY1wlf"
      },
      "execution_count": 91,
      "outputs": []
    },
    {
      "cell_type": "code",
      "source": [
        "accuracy = []\n",
        "\n",
        "for i in range (lower , upper) :\n",
        "  knn1 = KNeighborsClassifier(n_neighbors = i)\n",
        "  knn1.fit(x_train , y_train)\n",
        "  accuracy.append( accuracy_score(y_test , knn1.predict(x_test)))"
      ],
      "metadata": {
        "id": "LiU0U_3P1Bjc"
      },
      "execution_count": 92,
      "outputs": []
    },
    {
      "cell_type": "code",
      "source": [
        "accuracy"
      ],
      "metadata": {
        "colab": {
          "base_uri": "https://localhost:8080/"
        },
        "id": "DJt8WkSY3gnT",
        "outputId": "9b8bac2d-52a9-4bd0-e610-ab36f06c2f74"
      },
      "execution_count": 93,
      "outputs": [
        {
          "output_type": "execute_result",
          "data": {
            "text/plain": [
              "[0.8375,\n",
              " 0.8,\n",
              " 0.95,\n",
              " 0.9375,\n",
              " 0.925,\n",
              " 0.9375,\n",
              " 0.925,\n",
              " 0.9,\n",
              " 0.9,\n",
              " 0.9125,\n",
              " 0.9,\n",
              " 0.925,\n",
              " 0.9125,\n",
              " 0.9,\n",
              " 0.9125,\n",
              " 0.9125,\n",
              " 0.9125,\n",
              " 0.9125,\n",
              " 0.925,\n",
              " 0.925,\n",
              " 0.9125,\n",
              " 0.9125,\n",
              " 0.9125,\n",
              " 0.925,\n",
              " 0.925,\n",
              " 0.925,\n",
              " 0.925,\n",
              " 0.925,\n",
              " 0.925,\n",
              " 0.925,\n",
              " 0.925,\n",
              " 0.925,\n",
              " 0.925,\n",
              " 0.9375,\n",
              " 0.9375,\n",
              " 0.9375,\n",
              " 0.9375,\n",
              " 0.9375,\n",
              " 0.9375,\n",
              " 0.9375,\n",
              " 0.925,\n",
              " 0.9375,\n",
              " 0.9375,\n",
              " 0.925,\n",
              " 0.9375,\n",
              " 0.925,\n",
              " 0.9375,\n",
              " 0.9375,\n",
              " 0.9375,\n",
              " 0.925,\n",
              " 0.925,\n",
              " 0.9375,\n",
              " 0.9375,\n",
              " 0.9375,\n",
              " 0.9375,\n",
              " 0.9375,\n",
              " 0.9375,\n",
              " 0.9375,\n",
              " 0.9375,\n",
              " 0.925,\n",
              " 0.925,\n",
              " 0.925,\n",
              " 0.925,\n",
              " 0.925,\n",
              " 0.925,\n",
              " 0.9125,\n",
              " 0.925,\n",
              " 0.9,\n",
              " 0.9,\n",
              " 0.9,\n",
              " 0.9,\n",
              " 0.9,\n",
              " 0.9,\n",
              " 0.9,\n",
              " 0.8875,\n",
              " 0.9,\n",
              " 0.9,\n",
              " 0.8875,\n",
              " 0.9,\n",
              " 0.8875,\n",
              " 0.9,\n",
              " 0.8875,\n",
              " 0.8875,\n",
              " 0.8875,\n",
              " 0.8875,\n",
              " 0.8875,\n",
              " 0.8875,\n",
              " 0.8875,\n",
              " 0.8875,\n",
              " 0.8875,\n",
              " 0.8875,\n",
              " 0.8875,\n",
              " 0.8875,\n",
              " 0.9,\n",
              " 0.8875,\n",
              " 0.8875,\n",
              " 0.875,\n",
              " 0.875,\n",
              " 0.875]"
            ]
          },
          "metadata": {},
          "execution_count": 93
        }
      ]
    },
    {
      "cell_type": "code",
      "source": [
        "accuracy.index(max(accuracy))"
      ],
      "metadata": {
        "colab": {
          "base_uri": "https://localhost:8080/"
        },
        "id": "gYanyy7Q4Png",
        "outputId": "eaf5d99e-261d-4256-d529-8c14550f239c"
      },
      "execution_count": 94,
      "outputs": [
        {
          "output_type": "execute_result",
          "data": {
            "text/plain": [
              "2"
            ]
          },
          "metadata": {},
          "execution_count": 94
        }
      ]
    },
    {
      "cell_type": "code",
      "source": [
        "# finding max accuracy\n",
        "plt.plot(range(lower, upper) , accuracy )"
      ],
      "metadata": {
        "colab": {
          "base_uri": "https://localhost:8080/",
          "height": 447
        },
        "id": "DFjs7ctE17Ln",
        "outputId": "500f24c4-e40d-4e52-f100-2a04b60db0cb"
      },
      "execution_count": 95,
      "outputs": [
        {
          "output_type": "execute_result",
          "data": {
            "text/plain": [
              "[<matplotlib.lines.Line2D at 0x7ecced78ef80>]"
            ]
          },
          "metadata": {},
          "execution_count": 95
        },
        {
          "output_type": "display_data",
          "data": {
            "text/plain": [
              "<Figure size 640x480 with 1 Axes>"
            ],
            "image/png": "[encoded data removed]"
          },
          "metadata": {}
        }
      ]
    },
    {
      "cell_type": "markdown",
      "source": [
        "k = 3"
      ],
      "metadata": {
        "id": "QHyOp-gz3mAq"
      }
    },
    {
      "cell_type": "code",
      "source": [
        "knn1 = KNeighborsClassifier(n_neighbors = 3)\n",
        "knn1.fit(x_train , y_train)\n",
        "accuracy_score(y_test , knn1.predict(x_test))"
      ],
      "metadata": {
        "colab": {
          "base_uri": "https://localhost:8080/"
        },
        "id": "dH6VtWej18ob",
        "outputId": "b9065e65-a498-4c91-aa9e-8dcdfd8adcfc"
      },
      "execution_count": 85,
      "outputs": [
        {
          "output_type": "execute_result",
          "data": {
            "text/plain": [
              "0.95"
            ]
          },
          "metadata": {},
          "execution_count": 85
        }
      ]
    },
    {
      "cell_type": "code",
      "source": [
        "def predict_from_user():\n",
        "  age = int(input('Enter Age : '))\n",
        "  salary = int(input('Eneter Salary : '))\n",
        "\n",
        "  x_test_1 =  np.array([[age] ,[salary]]).reshape(1,2)\n",
        "  x_test_1 = scaler.transform(x_test_1)\n",
        "\n",
        "  if knn1.predict(x_test_1)[0] == 0:\n",
        "    print('Will NOT purchase')\n",
        "  else :\n",
        "    print('Will purchase')"
      ],
      "metadata": {
        "id": "KfaZv6wa3zBG"
      },
      "execution_count": 104,
      "outputs": []
    },
    {
      "cell_type": "code",
      "source": [
        "predict_from_user()"
      ],
      "metadata": {
        "colab": {
          "base_uri": "https://localhost:8080/"
        },
        "id": "XATqPhfX5fw0",
        "outputId": "f96a4074-dff1-417b-ceee-83a09eaef369"
      },
      "execution_count": 114,
      "outputs": [
        {
          "output_type": "stream",
          "name": "stdout",
          "text": [
            "Enter Age : 53\n",
            "Eneter Salary : 72000\n",
            "Will purchase\n"
          ]
        }
      ]
    },
    {
      "cell_type": "code",
      "source": [
        "df.sample(2)"
      ],
      "metadata": {
        "colab": {
          "base_uri": "https://localhost:8080/",
          "height": 112
        },
        "id": "-nK9FLtB5h4Z",
        "outputId": "5ac47176-e285-4879-b254-fd911e4e8f14"
      },
      "execution_count": 112,
      "outputs": [
        {
          "output_type": "execute_result",
          "data": {
            "text/plain": [
              "      User ID Gender  Age  EstimatedSalary  Purchased\n",
              "149  15767871   Male   20            74000          0\n",
              "346  15646936   Male   53            72000          1"
            ],
            "text/html": [
              "\n",
              "  <div id=\"df-a86984bf-cd17-4563-9d4e-68c5fa910986\" class=\"colab-df-container\">\n",
              "    <div>\n",
              "<style scoped>\n",
              "    .dataframe tbody tr th:only-of-type {\n",
              "        vertical-align: middle;\n",
              "    }\n",
              "\n",
              "    .dataframe tbody tr th {\n",
              "        vertical-align: top;\n",
              "    }\n",
              "\n",
              "    .dataframe thead th {\n",
              "        text-align: right;\n",
              "    }\n",
              "</style>\n",
              "<table border=\"1\" class=\"dataframe\">\n",
              "  <thead>\n",
              "    <tr style=\"text-align: right;\">\n",
              "      <th></th>\n",
              "      <th>User ID</th>\n",
              "      <th>Gender</th>\n",
              "      <th>Age</th>\n",
              "      <th>EstimatedSalary</th>\n",
              "      <th>Purchased</th>\n",
              "    </tr>\n",
              "  </thead>\n",
              "  <tbody>\n",
              "    <tr>\n",
              "      <th>149</th>\n",
              "      <td>15767871</td>\n",
              "      <td>Male</td>\n",
              "      <td>20</td>\n",
              "      <td>74000</td>\n",
              "      <td>0</td>\n",
              "    </tr>\n",
              "    <tr>\n",
              "      <th>346</th>\n",
              "      <td>15646936</td>\n",
              "      <td>Male</td>\n",
              "      <td>53</td>\n",
              "      <td>72000</td>\n",
              "      <td>1</td>\n",
              "    </tr>\n",
              "  </tbody>\n",
              "</table>\n",
              "</div>\n",
              "    <div class=\"colab-df-buttons\">\n",
              "\n",
              "  <div class=\"colab-df-container\">\n",
              "    <button class=\"colab-df-convert\" onclick=\"convertToInteractive('df-a86984bf-cd17-4563-9d4e-68c5fa910986')\"\n",
              "            title=\"Convert this dataframe to an interactive table.\"\n",
              "            style=\"display:none;\">\n",
              "\n",
              "  <svg xmlns=\"http://www.w3.org/2000/svg\" height=\"24px\" viewBox=\"0 -960 960 960\">\n",
              "    <path d=\"M120-120v-720h720v720H120Zm60-500h600v-160H180v160Zm220 220h160v-160H400v160Zm0 220h160v-160H400v160ZM180-400h160v-160H180v160Zm440 0h160v-160H620v160ZM180-180h160v-160H180v160Zm440 0h160v-160H620v160Z\"/>\n",
              "  </svg>\n",
              "    </button>\n",
              "\n",
              "  <style>\n",
              "    .colab-df-container {\n",
              "      display:flex;\n",
              "      gap: 12px;\n",
              "    }\n",
              "\n",
              "    .colab-df-convert {\n",
              "      background-color: #E8F0FE;\n",
              "      border: none;\n",
              "      border-radius: 50%;\n",
              "      cursor: pointer;\n",
              "      display: none;\n",
              "      fill: #1967D2;\n",
              "      height: 32px;\n",
              "      padding: 0 0 0 0;\n",
              "      width: 32px;\n",
              "    }\n",
              "\n",
              "    .colab-df-convert:hover {\n",
              "      background-color: #E2EBFA;\n",
              "      box-shadow: 0px 1px 2px rgba(60, 64, 67, 0.3), 0px 1px 3px 1px rgba(60, 64, 67, 0.15);\n",
              "      fill: #174EA6;\n",
              "    }\n",
              "\n",
              "    .colab-df-buttons div {\n",
              "      margin-bottom: 4px;\n",
              "    }\n",
              "\n",
              "    [theme=dark] .colab-df-convert {\n",
              "      background-color: #3B4455;\n",
              "      fill: #D2E3FC;\n",
              "    }\n",
              "\n",
              "    [theme=dark] .colab-df-convert:hover {\n",
              "      background-color: #434B5C;\n",
              "      box-shadow: 0px 1px 3px 1px rgba(0, 0, 0, 0.15);\n",
              "      filter: drop-shadow(0px 1px 2px rgba(0, 0, 0, 0.3));\n",
              "      fill: #FFFFFF;\n",
              "    }\n",
              "  </style>\n",
              "\n",
              "    <script>\n",
              "      const buttonEl =\n",
              "        document.querySelector('#df-a86984bf-cd17-4563-9d4e-68c5fa910986 button.colab-df-convert');\n",
              "      buttonEl.style.display =\n",
              "        google.colab.kernel.accessAllowed ? 'block' : 'none';\n",
              "\n",
              "      async function convertToInteractive(key) {\n",
              "        const element = document.querySelector('#df-a86984bf-cd17-4563-9d4e-68c5fa910986');\n",
              "        const dataTable =\n",
              "          await google.colab.kernel.invokeFunction('convertToInteractive',\n",
              "                                                    [key], {});\n",
              "        if (!dataTable) return;\n",
              "\n",
              "        const docLinkHtml = 'Like what you see? Visit the ' +\n",
              "          '<a target=\"_blank\" href=https://colab.research.google.com/notebooks/data_table.ipynb>data table notebook</a>'\n",
              "          + ' to learn more about interactive tables.';\n",
              "        element.innerHTML = '';\n",
              "        dataTable['output_type'] = 'display_data';\n",
              "        await google.colab.output.renderOutput(dataTable, element);\n",
              "        const docLink = document.createElement('div');\n",
              "        docLink.innerHTML = docLinkHtml;\n",
              "        element.appendChild(docLink);\n",
              "      }\n",
              "    </script>\n",
              "  </div>\n",
              "\n",
              "\n",
              "<div id=\"df-9c42ee3b-7a52-499d-b5ca-78b63c748dfa\">\n",
              "  <button class=\"colab-df-quickchart\" onclick=\"quickchart('df-9c42ee3b-7a52-499d-b5ca-78b63c748dfa')\"\n",
              "            title=\"Suggest charts\"\n",
              "            style=\"display:none;\">\n",
              "\n",
              "<svg xmlns=\"http://www.w3.org/2000/svg\" height=\"24px\"viewBox=\"0 0 24 24\"\n",
              "     width=\"24px\">\n",
              "    <g>\n",
              "        <path d=\"M19 3H5c-1.1 0-2 .9-2 2v14c0 1.1.9 2 2 2h14c1.1 0 2-.9 2-2V5c0-1.1-.9-2-2-2zM9 17H7v-7h2v7zm4 0h-2V7h2v10zm4 0h-2v-4h2v4z\"/>\n",
              "    </g>\n",
              "</svg>\n",
              "  </button>\n",
              "\n",
              "<style>\n",
              "  .colab-df-quickchart {\n",
              "      --bg-color: #E8F0FE;\n",
              "      --fill-color: #1967D2;\n",
              "      --hover-bg-color: #E2EBFA;\n",
              "      --hover-fill-color: #174EA6;\n",
              "      --disabled-fill-color: #AAA;\n",
              "      --disabled-bg-color: #DDD;\n",
              "  }\n",
              "\n",
              "  [theme=dark] .colab-df-quickchart {\n",
              "      --bg-color: #3B4455;\n",
              "      --fill-color: #D2E3FC;\n",
              "      --hover-bg-color: #434B5C;\n",
              "      --hover-fill-color: #FFFFFF;\n",
              "      --disabled-bg-color: #3B4455;\n",
              "      --disabled-fill-color: #666;\n",
              "  }\n",
              "\n",
              "  .colab-df-quickchart {\n",
              "    background-color: var(--bg-color);\n",
              "    border: none;\n",
              "    border-radius: 50%;\n",
              "    cursor: pointer;\n",
              "    display: none;\n",
              "    fill: var(--fill-color);\n",
              "    height: 32px;\n",
              "    padding: 0;\n",
              "    width: 32px;\n",
              "  }\n",
              "\n",
              "  .colab-df-quickchart:hover {\n",
              "    background-color: var(--hover-bg-color);\n",
              "    box-shadow: 0 1px 2px rgba(60, 64, 67, 0.3), 0 1px 3px 1px rgba(60, 64, 67, 0.15);\n",
              "    fill: var(--button-hover-fill-color);\n",
              "  }\n",
              "\n",
              "  .colab-df-quickchart-complete:disabled,\n",
              "  .colab-df-quickchart-complete:disabled:hover {\n",
              "    background-color: var(--disabled-bg-color);\n",
              "    fill: var(--disabled-fill-color);\n",
              "    box-shadow: none;\n",
              "  }\n",
              "\n",
              "  .colab-df-spinner {\n",
              "    border: 2px solid var(--fill-color);\n",
              "    border-color: transparent;\n",
              "    border-bottom-color: var(--fill-color);\n",
              "    animation:\n",
              "      spin 1s steps(1) infinite;\n",
              "  }\n",
              "\n",
              "  @keyframes spin {\n",
              "    0% {\n",
              "      border-color: transparent;\n",
              "      border-bottom-color: var(--fill-color);\n",
              "      border-left-color: var(--fill-color);\n",
              "    }\n",
              "    20% {\n",
              "      border-color: transparent;\n",
              "      border-left-color: var(--fill-color);\n",
              "      border-top-color: var(--fill-color);\n",
              "    }\n",
              "    30% {\n",
              "      border-color: transparent;\n",
              "      border-left-color: var(--fill-color);\n",
              "      border-top-color: var(--fill-color);\n",
              "      border-right-color: var(--fill-color);\n",
              "    }\n",
              "    40% {\n",
              "      border-color: transparent;\n",
              "      border-right-color: var(--fill-color);\n",
              "      border-top-color: var(--fill-color);\n",
              "    }\n",
              "    60% {\n",
              "      border-color: transparent;\n",
              "      border-right-color: var(--fill-color);\n",
              "    }\n",
              "    80% {\n",
              "      border-color: transparent;\n",
              "      border-right-color: var(--fill-color);\n",
              "      border-bottom-color: var(--fill-color);\n",
              "    }\n",
              "    90% {\n",
              "      border-color: transparent;\n",
              "      border-bottom-color: var(--fill-color);\n",
              "    }\n",
              "  }\n",
              "</style>\n",
              "\n",
              "  <script>\n",
              "    async function quickchart(key) {\n",
              "      const quickchartButtonEl =\n",
              "        document.querySelector('#' + key + ' button');\n",
              "      quickchartButtonEl.disabled = true;  // To prevent multiple clicks.\n",
              "      quickchartButtonEl.classList.add('colab-df-spinner');\n",
              "      try {\n",
              "        const charts = await google.colab.kernel.invokeFunction(\n",
              "            'suggestCharts', [key], {});\n",
              "      } catch (error) {\n",
              "        console.error('Error during call to suggestCharts:', error);\n",
              "      }\n",
              "      quickchartButtonEl.classList.remove('colab-df-spinner');\n",
              "      quickchartButtonEl.classList.add('colab-df-quickchart-complete');\n",
              "    }\n",
              "    (() => {\n",
              "      let quickchartButtonEl =\n",
              "        document.querySelector('#df-9c42ee3b-7a52-499d-b5ca-78b63c748dfa button');\n",
              "      quickchartButtonEl.style.display =\n",
              "        google.colab.kernel.accessAllowed ? 'block' : 'none';\n",
              "    })();\n",
              "  </script>\n",
              "</div>\n",
              "\n",
              "    </div>\n",
              "  </div>\n"
            ],
            "application/vnd.google.colaboratory.intrinsic+json": {
              "type": "dataframe",
              "summary": "{\n  \"name\": \"df\",\n  \"rows\": 2,\n  \"fields\": [\n    {\n      \"column\": \"User ID\",\n      \"properties\": {\n        \"dtype\": \"number\",\n        \"std\": 85513,\n        \"min\": 15646936,\n        \"max\": 15767871,\n        \"num_unique_values\": 2,\n        \"samples\": [\n          15646936,\n          15767871\n        ],\n        \"semantic_type\": \"\",\n        \"description\": \"\"\n      }\n    },\n    {\n      \"column\": \"Gender\",\n      \"properties\": {\n        \"dtype\": \"string\",\n        \"num_unique_values\": 1,\n        \"samples\": [\n          \"Male\"\n        ],\n        \"semantic_type\": \"\",\n        \"description\": \"\"\n      }\n    },\n    {\n      \"column\": \"Age\",\n      \"properties\": {\n        \"dtype\": \"number\",\n        \"std\": 23,\n        \"min\": 20,\n        \"max\": 53,\n        \"num_unique_values\": 2,\n        \"samples\": [\n          53\n        ],\n        \"semantic_type\": \"\",\n        \"description\": \"\"\n      }\n    },\n    {\n      \"column\": \"EstimatedSalary\",\n      \"properties\": {\n        \"dtype\": \"number\",\n        \"std\": 1414,\n        \"min\": 72000,\n        \"max\": 74000,\n        \"num_unique_values\": 2,\n        \"samples\": [\n          72000\n        ],\n        \"semantic_type\": \"\",\n        \"description\": \"\"\n      }\n    },\n    {\n      \"column\": \"Purchased\",\n      \"properties\": {\n        \"dtype\": \"number\",\n        \"std\": 0,\n        \"min\": 0,\n        \"max\": 1,\n        \"num_unique_values\": 2,\n        \"samples\": [\n          1\n        ],\n        \"semantic_type\": \"\",\n        \"description\": \"\"\n      }\n    }\n  ]\n}"
            }
          },
          "metadata": {},
          "execution_count": 112
        }
      ]
    },
    {
      "cell_type": "code",
      "source": [],
      "metadata": {
        "id": "EZi-3Xxd6ahO"
      },
      "execution_count": 110,
      "outputs": []
    }
  ]
}